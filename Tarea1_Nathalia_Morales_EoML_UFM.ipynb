{
  "nbformat": 4,
  "nbformat_minor": 0,
  "metadata": {
    "colab": {
      "name": "Tarea1_Nathalia_Morales-EoML-UFM.ipynb",
      "version": "0.3.2",
      "provenance": [],
      "collapsed_sections": [],
      "include_colab_link": true
    },
    "kernelspec": {
      "name": "python3",
      "display_name": "Python 3"
    }
  },
  "cells": [
    {
      "cell_type": "markdown",
      "metadata": {
        "id": "view-in-github",
        "colab_type": "text"
      },
      "source": [
        "<a href=\"https://colab.research.google.com/github/nathsmo/Elements-of-ML/blob/master/Tarea1_Nathalia_Morales_EoML_UFM.ipynb\" target=\"_parent\"><img src=\"https://colab.research.google.com/assets/colab-badge.svg\" alt=\"Open In Colab\"/></a>"
      ]
    },
    {
      "cell_type": "markdown",
      "metadata": {
        "id": "HdlfBgpPWbPA",
        "colab_type": "text"
      },
      "source": [
        "Haz una copia de este notebook. Responde a las preguntas conceptuales agregando una célula de texto, y las preguntas de aplicación usando código o texto como te parezca conveniente. Las preguntas son adaptadas del libro ¨Introduction to Statistical Learning¨ de  Gareth James, Daniela Witten, Trevor Hastie y Robert Tibshirani (http://www-bcf.usc.edu/~gareth/ISL/data.html)"
      ]
    },
    {
      "cell_type": "markdown",
      "metadata": {
        "id": "f23hAftwWO03",
        "colab_type": "text"
      },
      "source": [
        "# Tarea 1. Elements of Machine Learning. UFM"
      ]
    },
    {
      "cell_type": "markdown",
      "metadata": {
        "id": "xbzDInddLWIr",
        "colab_type": "text"
      },
      "source": [
        "- - -\n",
        "# Conceptual"
      ]
    },
    {
      "cell_type": "markdown",
      "metadata": {
        "id": "4ytMfqilWRyN",
        "colab_type": "text"
      },
      "source": [
        "## 1:\n",
        "Para cada uno de los siguientes, indica si en general esperarías que un método de aprendizaje flexible le iría mejor que a uno inflexible en cada caso. Justifica tus respuestas:\n",
        "\n",
        "\n",
        "\n",
        "> a. El tamaño muestral $n$ es extremadamente pequeño, y el número de predictores $p$ es pequeño\n",
        "*  R - Flexible pues la gráfica del caso se adaptaría al tamaño de la muestra a cambio de hacer una generalización de una cantidad pequeña de data.\n",
        "\n",
        "> b. El número de predictores $p$ es extremadamente grande, y el número de observaciones $n$ es pequeño\n",
        "*  R - En este caso usaría un método de aprendizaje flexible porque como se tienen tantos predictores entonces se tendrían demasiados planos lo que provocaría que se necesite adaptar el método de aprendizaje a las diferentes dimensiones pues mientras que si hubiera un número pequeño de predictores sería más fácil usar una inflexible.\n",
        "\n",
        "> c. La relación entre los predictores y la respuesta es altamente no-lineal\n",
        "* R -  Usaría un método de aprendizaje flexible pues dado que la relación es no-lineal su modo de aprendizaje debe adaptarse a la forma que los datos tomen y esto tiende a un modelo flexible.\n",
        "\n",
        "> d. La varianza de los errores aleatorios, $\\mathbb{V}[\\epsilon]$, es extremadamente alta\n",
        "*  R - Si la varianza de los errores aleatorios son tan altos entonces no sería tan confiable podes usar un modelo de vecinos cercanos porque se estarpia sesgando el método de aprendizaje de los datos mientras que de por si, bajo mi conocimiento podría ser incluso menos difícil pero un poco mpas efectivo el uno de un método flexible aún así la varianza de los errores aleatorios crearía bastante ruido con el que se tienen que lidiar. \n",
        "\n"
      ]
    },
    {
      "cell_type": "markdown",
      "metadata": {
        "id": "fgybgz3hX-H0",
        "colab_type": "text"
      },
      "source": [
        "## 2:\n",
        "El DataFrame generado en el siguiente código contiene train data con seis observaciones: tres predictores $X_1$, $X_2$, y $X_3$ y una variable de respuesta cualitativa $Y$. Imagina que queremos usar esta información para hacer predicciones de Y cuando $X_1=X_2=X_3=0$ usando K-nearest neighbors"
      ]
    },
    {
      "cell_type": "code",
      "metadata": {
        "id": "Y0BkzmGwYr_n",
        "colab_type": "code",
        "colab": {}
      },
      "source": [
        "from __future__ import print_function\n",
        "\n",
        "import pandas as pd\n",
        "pd.__version__\n",
        "\n",
        "X_1 = pd.Series([0,2,0,0,-1,1])\n",
        "X_2 = pd.Series([3,0,1,1,0,1])\n",
        "X_3 = pd.Series([0,0,3,2,1,1])\n",
        "Y = pd.Series(['Red','Red','Red','Green','Green','Red'])\n",
        "\n",
        "TrainData = pd.DataFrame({\"X_1\":X_1, \"X_2\":X_2, \"X_3\":X_3, \"Y\":Y})"
      ],
      "execution_count": 0,
      "outputs": []
    },
    {
      "cell_type": "markdown",
      "metadata": {
        "id": "iGYOyQk3aJCg",
        "colab_type": "text"
      },
      "source": [
        "> a. Evalúa la distancia euclidiana entre cada observación y el origen $X_1=X_2=X_3=0$\n",
        "*  Ver tabla TrainData\n",
        "\n",
        "> b. ¿Qué predicción harías para K = 1? ¿Por qué?\n",
        "* Se podría decir que el modelo se sobreajustaría a la data de entrenamiento, según el libro cuando un modelo de entrenamiento tiene el parámetro de K = 1, el límite de decisión es sobre-flexible y encuentra patrones que no corresponden al modelo de Bayes.\n",
        "\n",
        "> c. ¿Qué predicción harías para K = 3? ¿Por qué?\n",
        "* Como el ejemplo en el libro K = 3 sería un buen número de vecinos para predecir el comportamiento de la data real a partir de la data de entrenamiento que se tiene.\n",
        "\n",
        "> d. Si la frontera de decisión de Bayes en este problema es altamente no-lineal, ¿esperaríamos entonces que el mejor valor de K sea grande o pequeño? ¿Por qué?\n",
        "* Se esperaría un número de K pequeño pues mientras K crece el método se vuelve menos flexible y se crea un límite de decisión más inclinado a uno linear. \n"
      ]
    },
    {
      "cell_type": "code",
      "metadata": {
        "id": "YTywVuJIkV5H",
        "colab_type": "code",
        "outputId": "59811b8b-5a26-4933-eb51-c7813c37625c",
        "colab": {
          "base_uri": "https://localhost:8080/",
          "height": 235
        }
      },
      "source": [
        "td0 = (0, 3, 0)\n",
        "td1 = (2, 3, 0)\n",
        "td2 = (0, 1, 3)\n",
        "td3 = (0, 1, 2)\n",
        "td4 = (-1, 0, 1)\n",
        "td5 = (1, 1, 1)\n",
        "\n",
        "b = (0, 0, 0)\n",
        "dst0 = distance.euclidean(td0, b)\n",
        "dst1 = distance.euclidean(td1, b)\n",
        "dst2 = distance.euclidean(td2, b)\n",
        "dst3 = distance.euclidean(td3, b)\n",
        "dst4 = distance.euclidean(td4, b)\n",
        "dst5 = distance.euclidean(td5, b)\n",
        "\n",
        "l = []\n",
        "l.append(dst0)\n",
        "l.append(dst1)\n",
        "l.append(dst2)\n",
        "l.append(dst3)\n",
        "l.append(dst4)\n",
        "l.append(dst5)\n",
        "\n",
        "TrainData['Distance'] = pd.Series(l, index=TrainData.index)\n",
        "\n",
        "TrainData"
      ],
      "execution_count": 0,
      "outputs": [
        {
          "output_type": "execute_result",
          "data": {
            "text/html": [
              "<div>\n",
              "<style scoped>\n",
              "    .dataframe tbody tr th:only-of-type {\n",
              "        vertical-align: middle;\n",
              "    }\n",
              "\n",
              "    .dataframe tbody tr th {\n",
              "        vertical-align: top;\n",
              "    }\n",
              "\n",
              "    .dataframe thead th {\n",
              "        text-align: right;\n",
              "    }\n",
              "</style>\n",
              "<table border=\"1\" class=\"dataframe\">\n",
              "  <thead>\n",
              "    <tr style=\"text-align: right;\">\n",
              "      <th></th>\n",
              "      <th>X_1</th>\n",
              "      <th>X_2</th>\n",
              "      <th>X_3</th>\n",
              "      <th>Y</th>\n",
              "      <th>Distance</th>\n",
              "    </tr>\n",
              "  </thead>\n",
              "  <tbody>\n",
              "    <tr>\n",
              "      <th>0</th>\n",
              "      <td>0</td>\n",
              "      <td>3</td>\n",
              "      <td>0</td>\n",
              "      <td>Red</td>\n",
              "      <td>3.000000</td>\n",
              "    </tr>\n",
              "    <tr>\n",
              "      <th>1</th>\n",
              "      <td>2</td>\n",
              "      <td>0</td>\n",
              "      <td>0</td>\n",
              "      <td>Red</td>\n",
              "      <td>3.605551</td>\n",
              "    </tr>\n",
              "    <tr>\n",
              "      <th>2</th>\n",
              "      <td>0</td>\n",
              "      <td>1</td>\n",
              "      <td>3</td>\n",
              "      <td>Red</td>\n",
              "      <td>3.162278</td>\n",
              "    </tr>\n",
              "    <tr>\n",
              "      <th>3</th>\n",
              "      <td>0</td>\n",
              "      <td>1</td>\n",
              "      <td>2</td>\n",
              "      <td>Green</td>\n",
              "      <td>2.236068</td>\n",
              "    </tr>\n",
              "    <tr>\n",
              "      <th>4</th>\n",
              "      <td>-1</td>\n",
              "      <td>0</td>\n",
              "      <td>1</td>\n",
              "      <td>Green</td>\n",
              "      <td>1.414214</td>\n",
              "    </tr>\n",
              "    <tr>\n",
              "      <th>5</th>\n",
              "      <td>1</td>\n",
              "      <td>1</td>\n",
              "      <td>1</td>\n",
              "      <td>Red</td>\n",
              "      <td>1.732051</td>\n",
              "    </tr>\n",
              "  </tbody>\n",
              "</table>\n",
              "</div>"
            ],
            "text/plain": [
              "   X_1  X_2  X_3      Y  Distance\n",
              "0    0    3    0    Red  3.000000\n",
              "1    2    0    0    Red  3.605551\n",
              "2    0    1    3    Red  3.162278\n",
              "3    0    1    2  Green  2.236068\n",
              "4   -1    0    1  Green  1.414214\n",
              "5    1    1    1    Red  1.732051"
            ]
          },
          "metadata": {
            "tags": []
          },
          "execution_count": 179
        }
      ]
    },
    {
      "cell_type": "markdown",
      "metadata": {
        "id": "ZwJQ7ki7LrIw",
        "colab_type": "text"
      },
      "source": [
        "## 3:\n",
        "\n",
        "**Ejercicio 2.4.2**"
      ]
    },
    {
      "cell_type": "markdown",
      "metadata": {
        "id": "dcdP3k_sjRLm",
        "colab_type": "text"
      },
      "source": [
        "Explain whether each scenario is a classification or regression problem, and indicate whether we are most interested in inference or prediction. Finally, provide n and p.\n",
        "\n",
        "1. We collect a set of data on the top 500 firms in the US. For each firm we record profit, number of employees, industry and the CEO salary. We are interested in understanding which factors affect CEO salary.\n",
        "         * Classification\n",
        "         * Inference\n",
        "         * n - 500 firms\n",
        "         * p - Profit, Number of employees, industry and CEO salary\n",
        "\n",
        "* We are considering launching a new product and wish to know whether it will be a success or a failure. We collect data on 20 similar products that were previously launched. For each product we have recorded whether it was a success or failure, price charged for the product, marketing budget, competition price, and ten other variables.\n",
        "        * Regression\n",
        "        * Prediction\n",
        "        * n - 20 products\n",
        "        * p - Success or failure, Price, marketing budget, competition price + 10.\n",
        "\n",
        "* We are interesting in predicting the % change in the US dollar in relation to the weekly changes in the world stock markets. Hence we collect weekly data for all of 2012. For each week we record the % change in the dollar, the % change in the US market, the % change in the British market, and the % change in the German market.\n",
        "        * Regression\n",
        "        * Prediction\n",
        "        * n - Weekly data\n",
        "        * p - % change in the dollar, % change in the US market, % change in british market..."
      ]
    },
    {
      "cell_type": "markdown",
      "metadata": {
        "id": "BRM_CvG8MRLp",
        "colab_type": "text"
      },
      "source": [
        "## 4:\n",
        "\n",
        "**Ejercicio 2.4.4**"
      ]
    },
    {
      "cell_type": "markdown",
      "metadata": {
        "id": "HNRFb5TRjRs-",
        "colab_type": "text"
      },
      "source": [
        "A. Describe three real-life applications in which classification might be useful. Describe the response, as well as the predictors. Is the goal of each application inference or prediction? Explain your answer.\n",
        "  1. Application: Queremos saber qué area de una ciudad tendrá los precios más altos en ventas de casa en un futuro.\n",
        "    * Response: Nombre del área.\n",
        "    * Predictors: áreas, cantidad que se quería, cantidad por la que se vendió, calidad de la casa, año de construccion de la casa, cantidad de personas que vivirán en la casa.\n",
        "    * Prediction.\n",
        "    * Why? Porque se necesita anticipar una necesidad antes de que aparezca de acuerdo con la data previamente recolectada.\n",
        "  \n",
        "  2. Application: Queremos sabre qué tipo de tienda sería mejor para un centro comercial actual.\n",
        "    * Response: Categoría de tienda (belleza, ropa, deporte, actividades recreativas, restaurante)\n",
        "    * Predictors: Categoría de tiendas, cantidad que venden, tipo de productos que venden, cambio de trafico desde que entraron al centro comercial, edad de la audiencia, porcentaje que contribuye al trafico en el centro comercial.\n",
        "    * Inference\n",
        "    * Why? Porque a través de respuestas pasadas queremos ver si una tienda parecida a las pasadas afectará el trafico de personas en el centro comercial y la cantidad que gastan.\n",
        "    \n",
        "  3. Application: Queremos encontrar si un tipo de costura afecta en la compra de una prenda.\n",
        "    * Response: Mayores ventas en la prenda\n",
        "    * Predictors: Tipo de costura, costo de costura, tiempo que se llevó en hacer, cantidad de ventas de la prenda.\n",
        "    * Inference\n",
        "    * Why? Porque queremos ver si el cambio en un factor de un mismo producto cambia el outcome que tiene.\n",
        "  \n",
        "\n",
        "B. Describe three real-life applications in which regression might be useful. Describe the response, as well as the predictors. Is the goal of each application inference or prediction? Explain your answer.\n",
        "\n",
        "  1. Application: Porcentaje de asistencia en clases de matemáticas.\n",
        "    * Response: Cambio en el porcentaje.\n",
        "    * Predictors: Cantidad de gente en la clase, nombre de la clase, dificultad de una clase, cantidad de gente por clase, numero de clases, cantidad de años que el profesor ha dado la clase.\n",
        "    * Inferencia\n",
        "    * Why? De acuerdo con la data pasada de las clases se quiere ver si un cambio en la dificultad de la clase se puede cambiar el porcentaje de asistencia en la clase. \n",
        "  \n",
        "  2. Application: La probabilidad de compatibilidad entre personas en un dating site.\n",
        "    * Response: probabilidad de acceptación.\n",
        "    * Predictors: Sobre los \"match\" pasados ----- tez, color de ojos, profesión, tiempo que lleva en el app, cantidad de match pasados, religión, intereses...\n",
        "    *  Prediction.\n",
        "    * Why? A partir de eventos pasados queremos predecir la reacción anticipada de una persona hacia un evento nuevo.\n",
        "    \n",
        "  3. Application:  Probabilidad de le guste al usuario una cierta serie.\n",
        "    * Response: Si el usuario mira o no la serie. O el rating que le da.\n",
        "    * Predictors: Tipo de serie, edad de los personajes, cantidad de temporadas, categoría de la serie, edad de la serie, tema de la serie, si sus amigos vieron la serie o no, etc.\n",
        "    * Prediction.\n",
        "    * Why? Queremos saber si le podría gustar o no la serie según sus preferencias pasadas.\n",
        "\n",
        "C. Describe three real-life applications in which cluster analysis might be useful.\n",
        "\n",
        "  1. Application: Tipo de pacientes que tienen en común síntomas entre cáncer de estómago.\n",
        "  \n",
        "  2. Application: Segmento del mercado que comparten intereses entre el área de arte digital y producción cinematográfica.\n",
        "    \n",
        "  3. Application: Grupo de estudiantes que necesitan atención especial y su actitud psicológica."
      ]
    },
    {
      "cell_type": "markdown",
      "metadata": {
        "id": "ldLvXjbvLRZ0",
        "colab_type": "text"
      },
      "source": [
        "- - -\n",
        "# Aplicado"
      ]
    },
    {
      "cell_type": "markdown",
      "metadata": {
        "id": "SsfxhY8ccpwJ",
        "colab_type": "text"
      },
      "source": [
        "## 5:\n",
        "Use los datos en el archivo College.csv encontrado en el enlace http://www-bcf.usc.edu/~gareth/ISL/data.html. Puede descargar el archivo csv y subirlo a su sesión de Google Colab de la siguiente manera:\n",
        "\n",
        "```python\n",
        "from google.colab import files \n",
        "upload = files.upload()\n",
        "```\n",
        "\n",
        "Le pedirá elegir un archivo, el cual debe de ser el archivo que descargó previamente. Use `panda` para explorarlo como DataFrame y notar que contiene 18 variables para 777 diferentes universidades en Estados Unidos. Las variables son\n",
        "\n",
        "\n",
        "*   *Private*: Public/private\n",
        "*   *Apps*: Número de aplicaciones\n",
        "*   *Accept*: Número de aplicaciones aceptadas\n",
        "*   *Enroll*: Número de estudiantes inscritos\n",
        "*   *Top10perc*: Nuevos estudiantes del top 10% de su clase de secundaria\n",
        "*   *Top25perc*: Nuevos estudiantes del top 25% de su clase de secundaria\n",
        "*   *F.Undergrad*: Número de undergrads de tiempo completo\n",
        "*   *P.Undergrad*: Número de undergrads de tiempo parcial\n",
        "*   *Outstate*: Out-of-state tuititon\n",
        "*   *Room.Board*: Costos de cuarto\n",
        "*   *Books*: Costos de libros estimados\n",
        "*   *Personal*: Costos personales estimados\n",
        "*   *PhD*: Porcentaje de la facultad con PhD's\n",
        "*   *Terminal*: Porcentaje de la facultad con título más alto en su disciplina\n",
        "*   *S.F.Ratio*: Razón entre estudiantes y miembros de la facultad\n",
        "*   *perc.alumni*: Porcentaje de alumnos que hacen donaciones\n",
        "*   *Expend*: Gastos de instrucción por estudiante\n",
        "*   *Grad.Rate*: Razón de alumnos graduados\n"
      ]
    },
    {
      "cell_type": "code",
      "metadata": {
        "colab_type": "code",
        "id": "hw6ljWOlnhnm",
        "outputId": "8da6f2bc-9428-4f44-9cc5-a7a5049d7255",
        "colab": {
          "resources": {
            "http://localhost:8080/nbextensions/google.colab/files.js": {
              "data": "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",
              "ok": true,
              "headers": [
                [
                  "content-type",
                  "application/javascript"
                ]
              ],
              "status": 200,
              "status_text": ""
            }
          },
          "base_uri": "https://localhost:8080/",
          "height": 69
        }
      },
      "source": [
        "from google.colab import files \n",
        "upload = files.upload()"
      ],
      "execution_count": 0,
      "outputs": [
        {
          "output_type": "display_data",
          "data": {
            "text/html": [
              "\n",
              "     <input type=\"file\" id=\"files-500b696f-d764-4164-a2cd-acd27192d871\" name=\"files[]\" multiple disabled />\n",
              "     <output id=\"result-500b696f-d764-4164-a2cd-acd27192d871\">\n",
              "      Upload widget is only available when the cell has been executed in the\n",
              "      current browser session. Please rerun this cell to enable.\n",
              "      </output>\n",
              "      <script src=\"/nbextensions/google.colab/files.js\"></script> "
            ],
            "text/plain": [
              "<IPython.core.display.HTML object>"
            ]
          },
          "metadata": {
            "tags": []
          }
        },
        {
          "output_type": "stream",
          "text": [
            "Saving College.csv to College.csv\n"
          ],
          "name": "stdout"
        }
      ]
    },
    {
      "cell_type": "code",
      "metadata": {
        "id": "8mHpRDm1chCP",
        "colab_type": "code",
        "colab": {}
      },
      "source": [
        "import pandas as pd\n",
        "college = pd.read_csv('College.csv')"
      ],
      "execution_count": 0,
      "outputs": []
    },
    {
      "cell_type": "markdown",
      "metadata": {
        "id": "VJJlQCp0dNsv",
        "colab_type": "text"
      },
      "source": [
        "> a. Explora los datos usando panda y las funciones .describe(), head()."
      ]
    },
    {
      "cell_type": "code",
      "metadata": {
        "id": "SxC-w30-Z7Ti",
        "colab_type": "code",
        "outputId": "72d10a2f-049e-4662-b102-786cb2fbba00",
        "colab": {
          "base_uri": "https://localhost:8080/",
          "height": 377
        }
      },
      "source": [
        "college.head()"
      ],
      "execution_count": 0,
      "outputs": [
        {
          "output_type": "execute_result",
          "data": {
            "text/html": [
              "<div>\n",
              "<style scoped>\n",
              "    .dataframe tbody tr th:only-of-type {\n",
              "        vertical-align: middle;\n",
              "    }\n",
              "\n",
              "    .dataframe tbody tr th {\n",
              "        vertical-align: top;\n",
              "    }\n",
              "\n",
              "    .dataframe thead th {\n",
              "        text-align: right;\n",
              "    }\n",
              "</style>\n",
              "<table border=\"1\" class=\"dataframe\">\n",
              "  <thead>\n",
              "    <tr style=\"text-align: right;\">\n",
              "      <th></th>\n",
              "      <th>Unnamed: 0</th>\n",
              "      <th>Private</th>\n",
              "      <th>Apps</th>\n",
              "      <th>Accept</th>\n",
              "      <th>Enroll</th>\n",
              "      <th>Top10perc</th>\n",
              "      <th>Top25perc</th>\n",
              "      <th>F.Undergrad</th>\n",
              "      <th>P.Undergrad</th>\n",
              "      <th>Outstate</th>\n",
              "      <th>Room.Board</th>\n",
              "      <th>Books</th>\n",
              "      <th>Personal</th>\n",
              "      <th>PhD</th>\n",
              "      <th>Terminal</th>\n",
              "      <th>S.F.Ratio</th>\n",
              "      <th>perc.alumni</th>\n",
              "      <th>Expend</th>\n",
              "      <th>Grad.Rate</th>\n",
              "    </tr>\n",
              "  </thead>\n",
              "  <tbody>\n",
              "    <tr>\n",
              "      <th>0</th>\n",
              "      <td>Abilene Christian University</td>\n",
              "      <td>Yes</td>\n",
              "      <td>1660</td>\n",
              "      <td>1232</td>\n",
              "      <td>721</td>\n",
              "      <td>23</td>\n",
              "      <td>52</td>\n",
              "      <td>2885</td>\n",
              "      <td>537</td>\n",
              "      <td>7440</td>\n",
              "      <td>3300</td>\n",
              "      <td>450</td>\n",
              "      <td>2200</td>\n",
              "      <td>70</td>\n",
              "      <td>78</td>\n",
              "      <td>18.1</td>\n",
              "      <td>12</td>\n",
              "      <td>7041</td>\n",
              "      <td>60</td>\n",
              "    </tr>\n",
              "    <tr>\n",
              "      <th>1</th>\n",
              "      <td>Adelphi University</td>\n",
              "      <td>Yes</td>\n",
              "      <td>2186</td>\n",
              "      <td>1924</td>\n",
              "      <td>512</td>\n",
              "      <td>16</td>\n",
              "      <td>29</td>\n",
              "      <td>2683</td>\n",
              "      <td>1227</td>\n",
              "      <td>12280</td>\n",
              "      <td>6450</td>\n",
              "      <td>750</td>\n",
              "      <td>1500</td>\n",
              "      <td>29</td>\n",
              "      <td>30</td>\n",
              "      <td>12.2</td>\n",
              "      <td>16</td>\n",
              "      <td>10527</td>\n",
              "      <td>56</td>\n",
              "    </tr>\n",
              "    <tr>\n",
              "      <th>2</th>\n",
              "      <td>Adrian College</td>\n",
              "      <td>Yes</td>\n",
              "      <td>1428</td>\n",
              "      <td>1097</td>\n",
              "      <td>336</td>\n",
              "      <td>22</td>\n",
              "      <td>50</td>\n",
              "      <td>1036</td>\n",
              "      <td>99</td>\n",
              "      <td>11250</td>\n",
              "      <td>3750</td>\n",
              "      <td>400</td>\n",
              "      <td>1165</td>\n",
              "      <td>53</td>\n",
              "      <td>66</td>\n",
              "      <td>12.9</td>\n",
              "      <td>30</td>\n",
              "      <td>8735</td>\n",
              "      <td>54</td>\n",
              "    </tr>\n",
              "    <tr>\n",
              "      <th>3</th>\n",
              "      <td>Agnes Scott College</td>\n",
              "      <td>Yes</td>\n",
              "      <td>417</td>\n",
              "      <td>349</td>\n",
              "      <td>137</td>\n",
              "      <td>60</td>\n",
              "      <td>89</td>\n",
              "      <td>510</td>\n",
              "      <td>63</td>\n",
              "      <td>12960</td>\n",
              "      <td>5450</td>\n",
              "      <td>450</td>\n",
              "      <td>875</td>\n",
              "      <td>92</td>\n",
              "      <td>97</td>\n",
              "      <td>7.7</td>\n",
              "      <td>37</td>\n",
              "      <td>19016</td>\n",
              "      <td>59</td>\n",
              "    </tr>\n",
              "    <tr>\n",
              "      <th>4</th>\n",
              "      <td>Alaska Pacific University</td>\n",
              "      <td>Yes</td>\n",
              "      <td>193</td>\n",
              "      <td>146</td>\n",
              "      <td>55</td>\n",
              "      <td>16</td>\n",
              "      <td>44</td>\n",
              "      <td>249</td>\n",
              "      <td>869</td>\n",
              "      <td>7560</td>\n",
              "      <td>4120</td>\n",
              "      <td>800</td>\n",
              "      <td>1500</td>\n",
              "      <td>76</td>\n",
              "      <td>72</td>\n",
              "      <td>11.9</td>\n",
              "      <td>2</td>\n",
              "      <td>10922</td>\n",
              "      <td>15</td>\n",
              "    </tr>\n",
              "  </tbody>\n",
              "</table>\n",
              "</div>"
            ],
            "text/plain": [
              "                     Unnamed: 0 Private  Apps  Accept  Enroll  Top10perc  \\\n",
              "0  Abilene Christian University     Yes  1660    1232     721         23   \n",
              "1            Adelphi University     Yes  2186    1924     512         16   \n",
              "2                Adrian College     Yes  1428    1097     336         22   \n",
              "3           Agnes Scott College     Yes   417     349     137         60   \n",
              "4     Alaska Pacific University     Yes   193     146      55         16   \n",
              "\n",
              "   Top25perc  F.Undergrad  P.Undergrad  Outstate  Room.Board  Books  Personal  \\\n",
              "0         52         2885          537      7440        3300    450      2200   \n",
              "1         29         2683         1227     12280        6450    750      1500   \n",
              "2         50         1036           99     11250        3750    400      1165   \n",
              "3         89          510           63     12960        5450    450       875   \n",
              "4         44          249          869      7560        4120    800      1500   \n",
              "\n",
              "   PhD  Terminal  S.F.Ratio  perc.alumni  Expend  Grad.Rate  \n",
              "0   70        78       18.1           12    7041         60  \n",
              "1   29        30       12.2           16   10527         56  \n",
              "2   53        66       12.9           30    8735         54  \n",
              "3   92        97        7.7           37   19016         59  \n",
              "4   76        72       11.9            2   10922         15  "
            ]
          },
          "metadata": {
            "tags": []
          },
          "execution_count": 17
        }
      ]
    },
    {
      "cell_type": "code",
      "metadata": {
        "id": "Hvfrby3zdcbh",
        "colab_type": "code",
        "outputId": "f83fe726-38da-4e35-8542-c1aea3d261c5",
        "colab": {
          "base_uri": "https://localhost:8080/",
          "height": 317
        }
      },
      "source": [
        "college.describe()"
      ],
      "execution_count": 0,
      "outputs": [
        {
          "output_type": "execute_result",
          "data": {
            "text/html": [
              "<div>\n",
              "<style scoped>\n",
              "    .dataframe tbody tr th:only-of-type {\n",
              "        vertical-align: middle;\n",
              "    }\n",
              "\n",
              "    .dataframe tbody tr th {\n",
              "        vertical-align: top;\n",
              "    }\n",
              "\n",
              "    .dataframe thead th {\n",
              "        text-align: right;\n",
              "    }\n",
              "</style>\n",
              "<table border=\"1\" class=\"dataframe\">\n",
              "  <thead>\n",
              "    <tr style=\"text-align: right;\">\n",
              "      <th></th>\n",
              "      <th>Apps</th>\n",
              "      <th>Accept</th>\n",
              "      <th>Enroll</th>\n",
              "      <th>Top10perc</th>\n",
              "      <th>Top25perc</th>\n",
              "      <th>F.Undergrad</th>\n",
              "      <th>P.Undergrad</th>\n",
              "      <th>Outstate</th>\n",
              "      <th>Room.Board</th>\n",
              "      <th>Books</th>\n",
              "      <th>Personal</th>\n",
              "      <th>PhD</th>\n",
              "      <th>Terminal</th>\n",
              "      <th>S.F.Ratio</th>\n",
              "      <th>perc.alumni</th>\n",
              "      <th>Expend</th>\n",
              "      <th>Grad.Rate</th>\n",
              "    </tr>\n",
              "  </thead>\n",
              "  <tbody>\n",
              "    <tr>\n",
              "      <th>count</th>\n",
              "      <td>777.000000</td>\n",
              "      <td>777.000000</td>\n",
              "      <td>777.000000</td>\n",
              "      <td>777.000000</td>\n",
              "      <td>777.000000</td>\n",
              "      <td>777.000000</td>\n",
              "      <td>777.000000</td>\n",
              "      <td>777.000000</td>\n",
              "      <td>777.000000</td>\n",
              "      <td>777.000000</td>\n",
              "      <td>777.000000</td>\n",
              "      <td>777.000000</td>\n",
              "      <td>777.000000</td>\n",
              "      <td>777.000000</td>\n",
              "      <td>777.000000</td>\n",
              "      <td>777.000000</td>\n",
              "      <td>777.00000</td>\n",
              "    </tr>\n",
              "    <tr>\n",
              "      <th>mean</th>\n",
              "      <td>3001.638353</td>\n",
              "      <td>2018.804376</td>\n",
              "      <td>779.972973</td>\n",
              "      <td>27.558559</td>\n",
              "      <td>55.796654</td>\n",
              "      <td>3699.907336</td>\n",
              "      <td>855.298584</td>\n",
              "      <td>10440.669241</td>\n",
              "      <td>4357.526384</td>\n",
              "      <td>549.380952</td>\n",
              "      <td>1340.642214</td>\n",
              "      <td>72.660232</td>\n",
              "      <td>79.702703</td>\n",
              "      <td>14.089704</td>\n",
              "      <td>22.743887</td>\n",
              "      <td>9660.171171</td>\n",
              "      <td>65.46332</td>\n",
              "    </tr>\n",
              "    <tr>\n",
              "      <th>std</th>\n",
              "      <td>3870.201484</td>\n",
              "      <td>2451.113971</td>\n",
              "      <td>929.176190</td>\n",
              "      <td>17.640364</td>\n",
              "      <td>19.804778</td>\n",
              "      <td>4850.420531</td>\n",
              "      <td>1522.431887</td>\n",
              "      <td>4023.016484</td>\n",
              "      <td>1096.696416</td>\n",
              "      <td>165.105360</td>\n",
              "      <td>677.071454</td>\n",
              "      <td>16.328155</td>\n",
              "      <td>14.722359</td>\n",
              "      <td>3.958349</td>\n",
              "      <td>12.391801</td>\n",
              "      <td>5221.768440</td>\n",
              "      <td>17.17771</td>\n",
              "    </tr>\n",
              "    <tr>\n",
              "      <th>min</th>\n",
              "      <td>81.000000</td>\n",
              "      <td>72.000000</td>\n",
              "      <td>35.000000</td>\n",
              "      <td>1.000000</td>\n",
              "      <td>9.000000</td>\n",
              "      <td>139.000000</td>\n",
              "      <td>1.000000</td>\n",
              "      <td>2340.000000</td>\n",
              "      <td>1780.000000</td>\n",
              "      <td>96.000000</td>\n",
              "      <td>250.000000</td>\n",
              "      <td>8.000000</td>\n",
              "      <td>24.000000</td>\n",
              "      <td>2.500000</td>\n",
              "      <td>0.000000</td>\n",
              "      <td>3186.000000</td>\n",
              "      <td>10.00000</td>\n",
              "    </tr>\n",
              "    <tr>\n",
              "      <th>25%</th>\n",
              "      <td>776.000000</td>\n",
              "      <td>604.000000</td>\n",
              "      <td>242.000000</td>\n",
              "      <td>15.000000</td>\n",
              "      <td>41.000000</td>\n",
              "      <td>992.000000</td>\n",
              "      <td>95.000000</td>\n",
              "      <td>7320.000000</td>\n",
              "      <td>3597.000000</td>\n",
              "      <td>470.000000</td>\n",
              "      <td>850.000000</td>\n",
              "      <td>62.000000</td>\n",
              "      <td>71.000000</td>\n",
              "      <td>11.500000</td>\n",
              "      <td>13.000000</td>\n",
              "      <td>6751.000000</td>\n",
              "      <td>53.00000</td>\n",
              "    </tr>\n",
              "    <tr>\n",
              "      <th>50%</th>\n",
              "      <td>1558.000000</td>\n",
              "      <td>1110.000000</td>\n",
              "      <td>434.000000</td>\n",
              "      <td>23.000000</td>\n",
              "      <td>54.000000</td>\n",
              "      <td>1707.000000</td>\n",
              "      <td>353.000000</td>\n",
              "      <td>9990.000000</td>\n",
              "      <td>4200.000000</td>\n",
              "      <td>500.000000</td>\n",
              "      <td>1200.000000</td>\n",
              "      <td>75.000000</td>\n",
              "      <td>82.000000</td>\n",
              "      <td>13.600000</td>\n",
              "      <td>21.000000</td>\n",
              "      <td>8377.000000</td>\n",
              "      <td>65.00000</td>\n",
              "    </tr>\n",
              "    <tr>\n",
              "      <th>75%</th>\n",
              "      <td>3624.000000</td>\n",
              "      <td>2424.000000</td>\n",
              "      <td>902.000000</td>\n",
              "      <td>35.000000</td>\n",
              "      <td>69.000000</td>\n",
              "      <td>4005.000000</td>\n",
              "      <td>967.000000</td>\n",
              "      <td>12925.000000</td>\n",
              "      <td>5050.000000</td>\n",
              "      <td>600.000000</td>\n",
              "      <td>1700.000000</td>\n",
              "      <td>85.000000</td>\n",
              "      <td>92.000000</td>\n",
              "      <td>16.500000</td>\n",
              "      <td>31.000000</td>\n",
              "      <td>10830.000000</td>\n",
              "      <td>78.00000</td>\n",
              "    </tr>\n",
              "    <tr>\n",
              "      <th>max</th>\n",
              "      <td>48094.000000</td>\n",
              "      <td>26330.000000</td>\n",
              "      <td>6392.000000</td>\n",
              "      <td>96.000000</td>\n",
              "      <td>100.000000</td>\n",
              "      <td>31643.000000</td>\n",
              "      <td>21836.000000</td>\n",
              "      <td>21700.000000</td>\n",
              "      <td>8124.000000</td>\n",
              "      <td>2340.000000</td>\n",
              "      <td>6800.000000</td>\n",
              "      <td>103.000000</td>\n",
              "      <td>100.000000</td>\n",
              "      <td>39.800000</td>\n",
              "      <td>64.000000</td>\n",
              "      <td>56233.000000</td>\n",
              "      <td>118.00000</td>\n",
              "    </tr>\n",
              "  </tbody>\n",
              "</table>\n",
              "</div>"
            ],
            "text/plain": [
              "               Apps        Accept       Enroll   Top10perc   Top25perc  \\\n",
              "count    777.000000    777.000000   777.000000  777.000000  777.000000   \n",
              "mean    3001.638353   2018.804376   779.972973   27.558559   55.796654   \n",
              "std     3870.201484   2451.113971   929.176190   17.640364   19.804778   \n",
              "min       81.000000     72.000000    35.000000    1.000000    9.000000   \n",
              "25%      776.000000    604.000000   242.000000   15.000000   41.000000   \n",
              "50%     1558.000000   1110.000000   434.000000   23.000000   54.000000   \n",
              "75%     3624.000000   2424.000000   902.000000   35.000000   69.000000   \n",
              "max    48094.000000  26330.000000  6392.000000   96.000000  100.000000   \n",
              "\n",
              "        F.Undergrad   P.Undergrad      Outstate   Room.Board        Books  \\\n",
              "count    777.000000    777.000000    777.000000   777.000000   777.000000   \n",
              "mean    3699.907336    855.298584  10440.669241  4357.526384   549.380952   \n",
              "std     4850.420531   1522.431887   4023.016484  1096.696416   165.105360   \n",
              "min      139.000000      1.000000   2340.000000  1780.000000    96.000000   \n",
              "25%      992.000000     95.000000   7320.000000  3597.000000   470.000000   \n",
              "50%     1707.000000    353.000000   9990.000000  4200.000000   500.000000   \n",
              "75%     4005.000000    967.000000  12925.000000  5050.000000   600.000000   \n",
              "max    31643.000000  21836.000000  21700.000000  8124.000000  2340.000000   \n",
              "\n",
              "          Personal         PhD    Terminal   S.F.Ratio  perc.alumni  \\\n",
              "count   777.000000  777.000000  777.000000  777.000000   777.000000   \n",
              "mean   1340.642214   72.660232   79.702703   14.089704    22.743887   \n",
              "std     677.071454   16.328155   14.722359    3.958349    12.391801   \n",
              "min     250.000000    8.000000   24.000000    2.500000     0.000000   \n",
              "25%     850.000000   62.000000   71.000000   11.500000    13.000000   \n",
              "50%    1200.000000   75.000000   82.000000   13.600000    21.000000   \n",
              "75%    1700.000000   85.000000   92.000000   16.500000    31.000000   \n",
              "max    6800.000000  103.000000  100.000000   39.800000    64.000000   \n",
              "\n",
              "             Expend  Grad.Rate  \n",
              "count    777.000000  777.00000  \n",
              "mean    9660.171171   65.46332  \n",
              "std     5221.768440   17.17771  \n",
              "min     3186.000000   10.00000  \n",
              "25%     6751.000000   53.00000  \n",
              "50%     8377.000000   65.00000  \n",
              "75%    10830.000000   78.00000  \n",
              "max    56233.000000  118.00000  "
            ]
          },
          "metadata": {
            "tags": []
          },
          "execution_count": 16
        }
      ]
    },
    {
      "cell_type": "markdown",
      "metadata": {
        "id": "vWIWVjy-dQyD",
        "colab_type": "text"
      },
      "source": [
        "\n",
        "> b. Agrega una nueva serie con el porcentaje de aplicaciones aceptadas calculado a partir de las variables en el archivo"
      ]
    },
    {
      "cell_type": "code",
      "metadata": {
        "id": "w2fnrh4BdjwZ",
        "colab_type": "code",
        "outputId": "dce8b980-0a59-4801-9fba-e5889c1dd062",
        "colab": {
          "base_uri": "https://localhost:8080/",
          "height": 423
        }
      },
      "source": [
        "college['Percentage App Acceptadas'] = college['Accept']/college['Apps']\n",
        "college.head()\n"
      ],
      "execution_count": 0,
      "outputs": [
        {
          "output_type": "execute_result",
          "data": {
            "text/html": [
              "<div>\n",
              "<style scoped>\n",
              "    .dataframe tbody tr th:only-of-type {\n",
              "        vertical-align: middle;\n",
              "    }\n",
              "\n",
              "    .dataframe tbody tr th {\n",
              "        vertical-align: top;\n",
              "    }\n",
              "\n",
              "    .dataframe thead th {\n",
              "        text-align: right;\n",
              "    }\n",
              "</style>\n",
              "<table border=\"1\" class=\"dataframe\">\n",
              "  <thead>\n",
              "    <tr style=\"text-align: right;\">\n",
              "      <th></th>\n",
              "      <th>Unnamed: 0</th>\n",
              "      <th>Private</th>\n",
              "      <th>Apps</th>\n",
              "      <th>Accept</th>\n",
              "      <th>Enroll</th>\n",
              "      <th>Top10perc</th>\n",
              "      <th>Top25perc</th>\n",
              "      <th>F.Undergrad</th>\n",
              "      <th>P.Undergrad</th>\n",
              "      <th>Outstate</th>\n",
              "      <th>...</th>\n",
              "      <th>Personal</th>\n",
              "      <th>PhD</th>\n",
              "      <th>Terminal</th>\n",
              "      <th>S.F.Ratio</th>\n",
              "      <th>perc.alumni</th>\n",
              "      <th>Expend</th>\n",
              "      <th>Grad.Rate</th>\n",
              "      <th>App Acceptadas</th>\n",
              "      <th>Percentage App Acceptadas</th>\n",
              "      <th>P Enroll rate</th>\n",
              "    </tr>\n",
              "  </thead>\n",
              "  <tbody>\n",
              "    <tr>\n",
              "      <th>0</th>\n",
              "      <td>Abilene Christian University</td>\n",
              "      <td>Yes</td>\n",
              "      <td>1660</td>\n",
              "      <td>1232</td>\n",
              "      <td>721</td>\n",
              "      <td>23</td>\n",
              "      <td>52</td>\n",
              "      <td>2885</td>\n",
              "      <td>537</td>\n",
              "      <td>7440</td>\n",
              "      <td>...</td>\n",
              "      <td>2200</td>\n",
              "      <td>70</td>\n",
              "      <td>78</td>\n",
              "      <td>18.1</td>\n",
              "      <td>12</td>\n",
              "      <td>7041</td>\n",
              "      <td>60</td>\n",
              "      <td>0.742169</td>\n",
              "      <td>0.742169</td>\n",
              "      <td>0.585227</td>\n",
              "    </tr>\n",
              "    <tr>\n",
              "      <th>1</th>\n",
              "      <td>Adelphi University</td>\n",
              "      <td>Yes</td>\n",
              "      <td>2186</td>\n",
              "      <td>1924</td>\n",
              "      <td>512</td>\n",
              "      <td>16</td>\n",
              "      <td>29</td>\n",
              "      <td>2683</td>\n",
              "      <td>1227</td>\n",
              "      <td>12280</td>\n",
              "      <td>...</td>\n",
              "      <td>1500</td>\n",
              "      <td>29</td>\n",
              "      <td>30</td>\n",
              "      <td>12.2</td>\n",
              "      <td>16</td>\n",
              "      <td>10527</td>\n",
              "      <td>56</td>\n",
              "      <td>0.880146</td>\n",
              "      <td>0.880146</td>\n",
              "      <td>0.266112</td>\n",
              "    </tr>\n",
              "    <tr>\n",
              "      <th>2</th>\n",
              "      <td>Adrian College</td>\n",
              "      <td>Yes</td>\n",
              "      <td>1428</td>\n",
              "      <td>1097</td>\n",
              "      <td>336</td>\n",
              "      <td>22</td>\n",
              "      <td>50</td>\n",
              "      <td>1036</td>\n",
              "      <td>99</td>\n",
              "      <td>11250</td>\n",
              "      <td>...</td>\n",
              "      <td>1165</td>\n",
              "      <td>53</td>\n",
              "      <td>66</td>\n",
              "      <td>12.9</td>\n",
              "      <td>30</td>\n",
              "      <td>8735</td>\n",
              "      <td>54</td>\n",
              "      <td>0.768207</td>\n",
              "      <td>0.768207</td>\n",
              "      <td>0.306290</td>\n",
              "    </tr>\n",
              "    <tr>\n",
              "      <th>3</th>\n",
              "      <td>Agnes Scott College</td>\n",
              "      <td>Yes</td>\n",
              "      <td>417</td>\n",
              "      <td>349</td>\n",
              "      <td>137</td>\n",
              "      <td>60</td>\n",
              "      <td>89</td>\n",
              "      <td>510</td>\n",
              "      <td>63</td>\n",
              "      <td>12960</td>\n",
              "      <td>...</td>\n",
              "      <td>875</td>\n",
              "      <td>92</td>\n",
              "      <td>97</td>\n",
              "      <td>7.7</td>\n",
              "      <td>37</td>\n",
              "      <td>19016</td>\n",
              "      <td>59</td>\n",
              "      <td>0.836930</td>\n",
              "      <td>0.836930</td>\n",
              "      <td>0.392550</td>\n",
              "    </tr>\n",
              "    <tr>\n",
              "      <th>4</th>\n",
              "      <td>Alaska Pacific University</td>\n",
              "      <td>Yes</td>\n",
              "      <td>193</td>\n",
              "      <td>146</td>\n",
              "      <td>55</td>\n",
              "      <td>16</td>\n",
              "      <td>44</td>\n",
              "      <td>249</td>\n",
              "      <td>869</td>\n",
              "      <td>7560</td>\n",
              "      <td>...</td>\n",
              "      <td>1500</td>\n",
              "      <td>76</td>\n",
              "      <td>72</td>\n",
              "      <td>11.9</td>\n",
              "      <td>2</td>\n",
              "      <td>10922</td>\n",
              "      <td>15</td>\n",
              "      <td>0.756477</td>\n",
              "      <td>0.756477</td>\n",
              "      <td>0.376712</td>\n",
              "    </tr>\n",
              "  </tbody>\n",
              "</table>\n",
              "<p>5 rows × 22 columns</p>\n",
              "</div>"
            ],
            "text/plain": [
              "                     Unnamed: 0 Private  Apps  Accept  Enroll  Top10perc  \\\n",
              "0  Abilene Christian University     Yes  1660    1232     721         23   \n",
              "1            Adelphi University     Yes  2186    1924     512         16   \n",
              "2                Adrian College     Yes  1428    1097     336         22   \n",
              "3           Agnes Scott College     Yes   417     349     137         60   \n",
              "4     Alaska Pacific University     Yes   193     146      55         16   \n",
              "\n",
              "   Top25perc  F.Undergrad  P.Undergrad  Outstate      ...        Personal  \\\n",
              "0         52         2885          537      7440      ...            2200   \n",
              "1         29         2683         1227     12280      ...            1500   \n",
              "2         50         1036           99     11250      ...            1165   \n",
              "3         89          510           63     12960      ...             875   \n",
              "4         44          249          869      7560      ...            1500   \n",
              "\n",
              "   PhD  Terminal  S.F.Ratio  perc.alumni  Expend  Grad.Rate  App Acceptadas  \\\n",
              "0   70        78       18.1           12    7041         60        0.742169   \n",
              "1   29        30       12.2           16   10527         56        0.880146   \n",
              "2   53        66       12.9           30    8735         54        0.768207   \n",
              "3   92        97        7.7           37   19016         59        0.836930   \n",
              "4   76        72       11.9            2   10922         15        0.756477   \n",
              "\n",
              "   Percentage App Acceptadas  P Enroll rate  \n",
              "0                   0.742169       0.585227  \n",
              "1                   0.880146       0.266112  \n",
              "2                   0.768207       0.306290  \n",
              "3                   0.836930       0.392550  \n",
              "4                   0.756477       0.376712  \n",
              "\n",
              "[5 rows x 22 columns]"
            ]
          },
          "metadata": {
            "tags": []
          },
          "execution_count": 27
        }
      ]
    },
    {
      "cell_type": "markdown",
      "metadata": {
        "id": "NNyR68y1dShk",
        "colab_type": "text"
      },
      "source": [
        "> c. Haz un histograma del porcentaje de aplicaciones aceptadas usando la función .hist('-') donde '-' es la variable que creaste en b"
      ]
    },
    {
      "cell_type": "code",
      "metadata": {
        "id": "W6EYhWVvdkPn",
        "colab_type": "code",
        "outputId": "fbbef438-b363-47d2-9463-4bc2cdff2bbd",
        "colab": {
          "base_uri": "https://localhost:8080/",
          "height": 396
        }
      },
      "source": [
        "college.hist('Percentage App Acceptadas')"
      ],
      "execution_count": 0,
      "outputs": [
        {
          "output_type": "execute_result",
          "data": {
            "text/plain": [
              "array([[<matplotlib.axes._subplots.AxesSubplot object at 0x7fba5a1d4f60>]],\n",
              "      dtype=object)"
            ]
          },
          "metadata": {
            "tags": []
          },
          "execution_count": 26
        },
        {
          "output_type": "display_data",
          "data": {
            "image/png": "[encoded data removed]",
            "text/plain": [
              "<Figure size 576x396 with 1 Axes>"
            ]
          },
          "metadata": {
            "tags": []
          }
        }
      ]
    },
    {
      "cell_type": "markdown",
      "metadata": {
        "id": "rpa1JIKedVJp",
        "colab_type": "text"
      },
      "source": [
        "> d. ¿Qué observaciones tienes sobre las 777 universidades luego de explorar los datos?"
      ]
    },
    {
      "cell_type": "code",
      "metadata": {
        "id": "czHV2vx2i-D9",
        "colab_type": "code",
        "outputId": "82e6706b-76eb-4617-861f-9776511b306e",
        "colab": {
          "base_uri": "https://localhost:8080/",
          "height": 396
        }
      },
      "source": [
        "college['P Enroll rate'] = college['Enroll']/college['Accept']\n",
        "college.hist('P Enroll rate')"
      ],
      "execution_count": 0,
      "outputs": [
        {
          "output_type": "execute_result",
          "data": {
            "text/plain": [
              "array([[<matplotlib.axes._subplots.AxesSubplot object at 0x7fba56d56d30>]],\n",
              "      dtype=object)"
            ]
          },
          "metadata": {
            "tags": []
          },
          "execution_count": 29
        },
        {
          "output_type": "display_data",
          "data": {
            "image/png": "[encoded data removed]",
            "text/plain": [
              "<Figure size 576x396 with 1 Axes>"
            ]
          },
          "metadata": {
            "tags": []
          }
        }
      ]
    },
    {
      "cell_type": "code",
      "metadata": {
        "id": "0U6m82NNjvlo",
        "colab_type": "code",
        "outputId": "755417ae-02ff-4625-e126-f9a859bd8cbd",
        "colab": {
          "base_uri": "https://localhost:8080/",
          "height": 391
        }
      },
      "source": [
        "list(college.columns.values)"
      ],
      "execution_count": 0,
      "outputs": [
        {
          "output_type": "execute_result",
          "data": {
            "text/plain": [
              "['Unnamed: 0',\n",
              " 'Private',\n",
              " 'Apps',\n",
              " 'Accept',\n",
              " 'Enroll',\n",
              " 'Top10perc',\n",
              " 'Top25perc',\n",
              " 'F.Undergrad',\n",
              " 'P.Undergrad',\n",
              " 'Outstate',\n",
              " 'Room.Board',\n",
              " 'Books',\n",
              " 'Personal',\n",
              " 'PhD',\n",
              " 'Terminal',\n",
              " 'S.F.Ratio',\n",
              " 'perc.alumni',\n",
              " 'Expend',\n",
              " 'Grad.Rate',\n",
              " 'App Acceptadas',\n",
              " 'Percentage App Acceptadas',\n",
              " 'P Enroll rate']"
            ]
          },
          "metadata": {
            "tags": []
          },
          "execution_count": 31
        }
      ]
    },
    {
      "cell_type": "code",
      "metadata": {
        "id": "cBG_XA0GkzcV",
        "colab_type": "code",
        "outputId": "ae62b7a8-5215-4133-9372-8bbf6d0e70e2",
        "colab": {
          "base_uri": "https://localhost:8080/",
          "height": 396
        }
      },
      "source": [
        "college.hist('S.F.Ratio')"
      ],
      "execution_count": 0,
      "outputs": [
        {
          "output_type": "execute_result",
          "data": {
            "text/plain": [
              "array([[<matplotlib.axes._subplots.AxesSubplot object at 0x7fba56cceba8>]],\n",
              "      dtype=object)"
            ]
          },
          "metadata": {
            "tags": []
          },
          "execution_count": 33
        },
        {
          "output_type": "display_data",
          "data": {
            "image/png": "[encoded data removed]",
            "text/plain": [
              "<Figure size 576x396 with 1 Axes>"
            ]
          },
          "metadata": {
            "tags": []
          }
        }
      ]
    },
    {
      "cell_type": "markdown",
      "metadata": {
        "id": "J2F-EdFqiMWb",
        "colab_type": "text"
      },
      "source": [
        "* La gran mayoría de universidades tienen un 80% de acceptance rate.\n",
        "* Mientras que de las personas aceptadas solo un 30% - 35% de ellas entran a las universidades.\n",
        "* La gran mayoría de universidades tienen entre 10 a 20 miembros de la facultad por cada 100 alumnos.\n",
        "* El número máximo de personas en PhD es 103.\n",
        "* El porcentaje máximo de alumni dentro de una universidad es 63%, y la media es 22% lo que indica que los miembros de la universidad son mayormente externos.\n",
        "* La media de graduación es 65% y el mínimo es 10% por lo que se puede pensar que una gran mayoría de personas se retrasan o no se gradúan, sería interesante saber las razones de porque esto pasa.\n",
        "* Algo interesante de la data es que hay 118% de graduación en una universidad lo que significa que hay una comparación de estudiantes de entrada y de salida en donde se acumulan estudiantes retrasados y puede que esta sea la razon de que el porcentaje sea mayor a 100%."
      ]
    }
  ]
}