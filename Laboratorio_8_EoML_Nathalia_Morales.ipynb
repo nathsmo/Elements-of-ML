{
  "nbformat": 4,
  "nbformat_minor": 0,
  "metadata": {
    "colab": {
      "name": "Laboratorio 8 - EoML Nathalia Morales.ipynb",
      "version": "0.3.2",
      "provenance": [],
      "collapsed_sections": [],
      "include_colab_link": true
    },
    "kernelspec": {
      "name": "python3",
      "display_name": "Python 3"
    },
    "accelerator": "GPU"
  },
  "cells": [
    {
      "cell_type": "markdown",
      "metadata": {
        "id": "view-in-github",
        "colab_type": "text"
      },
      "source": [
        "<a href=\"https://colab.research.google.com/github/nathsmo/Elements-of-ML/blob/master/Laboratorio_8_EoML_Nathalia_Morales.ipynb\" target=\"_parent\"><img src=\"https://colab.research.google.com/assets/colab-badge.svg\" alt=\"Open In Colab\"/></a>"
      ]
    },
    {
      "cell_type": "markdown",
      "metadata": {
        "id": "Ogh-5HfiUKBJ",
        "colab_type": "text"
      },
      "source": [
        "# Laboratorio 8\n",
        "\n",
        "En este laboratorio aplicaremos regresión polinomial de grado n para estudiar el sobreajuste a datos generados con ruido aleatorio"
      ]
    },
    {
      "cell_type": "code",
      "metadata": {
        "id": "sqj79xiaUPOV",
        "colab_type": "code",
        "outputId": "456a48a6-eb2c-4c1f-96d3-18817d11fed1",
        "colab": {
          "base_uri": "https://localhost:8080/",
          "height": 34
        }
      },
      "source": [
        "import numpy as np\n",
        "import pandas as pd\n",
        "import operator\n",
        "import matplotlib\n",
        "import matplotlib.pyplot as plt\n",
        "\n",
        "import seaborn as sns\n",
        "\n",
        "import statsmodels.formula.api as smf\n",
        "from sklearn.model_selection import train_test_split\n",
        "\n",
        "from sklearn.datasets import load_boston\n",
        "import statsmodels.api as sm\n",
        "from sklearn.linear_model import LinearRegression\n",
        "\n",
        "from sklearn.preprocessing import PolynomialFeatures\n",
        "\n",
        "from sklearn.metrics import mean_squared_error, r2_score\n",
        "\n",
        "\n",
        "print(\"Todos los paquetes han sido importados:\")"
      ],
      "execution_count": 0,
      "outputs": [
        {
          "output_type": "stream",
          "text": [
            "Todos los paquetes han sido importados:\n"
          ],
          "name": "stdout"
        }
      ]
    },
    {
      "cell_type": "markdown",
      "metadata": {
        "id": "dRzhSNwbvMo6",
        "colab_type": "text"
      },
      "source": [
        "Generemos datos a partir de una función senoidal"
      ]
    },
    {
      "cell_type": "code",
      "metadata": {
        "id": "BA5j--xlrJLs",
        "colab_type": "code",
        "outputId": "a0e1ad02-7628-4534-8cc6-9f606a24cf7f",
        "colab": {
          "base_uri": "https://localhost:8080/",
          "height": 364
        }
      },
      "source": [
        "import random\n",
        "from matplotlib.pylab import rcParams\n",
        "\n",
        "#Tomemos ángulos de 0 a 300\n",
        "x = np.array([i*np.pi/180 for i in range(0,300,4)])\n",
        "np.random.seed(10)  #El error aleatorio será reproducible\n",
        "y = np.sin(x) + np.random.normal(0,0.15,len(x))\n",
        "data = pd.DataFrame(np.column_stack([x,y]),columns=['x','y'])\n",
        "plt.plot(data['x'],data['y'],'.')"
      ],
      "execution_count": 0,
      "outputs": [
        {
          "output_type": "execute_result",
          "data": {
            "text/plain": [
              "[<matplotlib.lines.Line2D at 0x7f7eda32f908>]"
            ]
          },
          "metadata": {
            "tags": []
          },
          "execution_count": 78
        },
        {
          "output_type": "display_data",
          "data": {
            "image/png": "[encoded data removed]",
            "text/plain": [
              "<Figure size 576x396 with 1 Axes>"
            ]
          },
          "metadata": {
            "tags": []
          }
        }
      ]
    },
    {
      "cell_type": "markdown",
      "metadata": {
        "id": "GYYGOXmOusZT",
        "colab_type": "text"
      },
      "source": [
        "## Ejercicios\n",
        "\n",
        "## 1.   Sobre los datos generados, realiza regresiones polinomiales de grado 1 a 16. Guarda los coeficientes, RMS de entrenamiento y R^2 para cada regresión\n",
        "\n",
        "\n",
        "\n"
      ]
    },
    {
      "cell_type": "code",
      "metadata": {
        "id": "KEFkuttwfqsB",
        "colab_type": "code",
        "outputId": "b3c3a011-a8a1-432d-b1db-d496406060ea",
        "colab": {
          "base_uri": "https://localhost:8080/",
          "height": 349
        }
      },
      "source": [
        "# transformando la data porque es necesario para sacar el r2 score\n",
        "x1 = x[:, np.newaxis]\n",
        "y1 = y[:, np.newaxis]\n",
        "\n",
        "RMSE_list = []\n",
        "R2_list = []\n",
        "Coefs = []\n",
        "color_graph = ['b','g','c','r','m','y','k','w','b','g','c','r','m','y','b','k']\n",
        "for i in range(1,17):\n",
        "  polynomial_features= PolynomialFeatures(degree=i)\n",
        "  x_poly = polynomial_features.fit_transform(x1)\n",
        "\n",
        "  model = LinearRegression()\n",
        "  model.fit(x_poly, y1)\n",
        "  y_poly_pred = model.predict(x_poly)\n",
        "\n",
        "  rmse = np.sqrt(mean_squared_error(y1,y_poly_pred))\n",
        "  r2 = r2_score(y1,y_poly_pred)\n",
        "  RMSE_list.append(rmse)\n",
        "  R2_list.append(r2)\n",
        "  Coefs.append(model.coef_)\n",
        "  \n",
        "  plt.scatter(x1, y1, s=10)\n",
        "  plt.plot(x1, y_poly_pred, color=color_graph[i-1])\n",
        "\n",
        "plt.show()"
      ],
      "execution_count": 0,
      "outputs": [
        {
          "output_type": "display_data",
          "data": {
            "image/png": "[encoded data removed]",
            "text/plain": [
              "<Figure size 576x396 with 1 Axes>"
            ]
          },
          "metadata": {
            "tags": []
          }
        }
      ]
    },
    {
      "cell_type": "code",
      "metadata": {
        "id": "kkHLQ4Ypaz0E",
        "colab_type": "code",
        "outputId": "695a3947-23de-4dc4-ad2d-85dfe06d1950",
        "colab": {
          "base_uri": "https://localhost:8080/",
          "height": 731
        }
      },
      "source": [
        "poly_reg = PolynomialFeatures(degree = 16)\n",
        "x2 = poly_reg.fit_transform(pd.DataFrame(x))\n",
        "poly_model = sm.OLS(y,x2)\n",
        "poly_result = poly_model.fit()\n",
        "print(poly_result.summary())"
      ],
      "execution_count": 0,
      "outputs": [
        {
          "output_type": "stream",
          "text": [
            "                            OLS Regression Results                            \n",
            "==============================================================================\n",
            "Dep. Variable:                      y   R-squared:                       0.975\n",
            "Model:                            OLS   Adj. R-squared:                  0.969\n",
            "Method:                 Least Squares   F-statistic:                     165.8\n",
            "Date:                Sat, 06 Apr 2019   Prob (F-statistic):           1.83e-42\n",
            "Time:                        00:35:16   Log-Likelihood:                 54.308\n",
            "No. Observations:                  75   AIC:                            -78.62\n",
            "Df Residuals:                      60   BIC:                            -43.85\n",
            "Df Model:                          14                                         \n",
            "Covariance Type:            nonrobust                                         \n",
            "==============================================================================\n",
            "                 coef    std err          t      P>|t|      [0.025      0.975]\n",
            "------------------------------------------------------------------------------\n",
            "const          0.1891      0.122      1.546      0.127      -0.056       0.434\n",
            "x1            -1.3975      2.263     -0.618      0.539      -5.924       3.129\n",
            "x2             6.0647     12.773      0.475      0.637     -19.485      31.614\n",
            "x3            -0.1173     28.487     -0.004      0.997     -57.100      56.866\n",
            "x4           -11.7820     23.840     -0.494      0.623     -59.470      35.906\n",
            "x5             4.8855      7.616      0.642      0.524     -10.348      20.119\n",
            "x6            11.2566     22.594      0.498      0.620     -33.937      56.451\n",
            "x7            -7.8648      5.187     -1.516      0.135     -18.241       2.512\n",
            "x8            -8.3093     18.744     -0.443      0.659     -45.803      29.185\n",
            "x9            14.9484     22.166      0.674      0.503     -29.390      59.286\n",
            "x10          -10.2993     13.068     -0.788      0.434     -36.439      15.840\n",
            "x11            4.1794      4.830      0.865      0.390      -5.482      13.841\n",
            "x12           -1.0954      1.187     -0.923      0.360      -3.470       1.279\n",
            "x13            0.1884      0.195      0.968      0.337      -0.201       0.578\n",
            "x14           -0.0206      0.021     -1.003      0.320      -0.062       0.021\n",
            "x15            0.0013      0.001      1.032      0.306      -0.001       0.004\n",
            "x16        -3.661e-05   3.47e-05     -1.055      0.296      -0.000    3.28e-05\n",
            "==============================================================================\n",
            "Omnibus:                        0.653   Durbin-Watson:                   2.143\n",
            "Prob(Omnibus):                  0.721   Jarque-Bera (JB):                0.340\n",
            "Skew:                           0.158   Prob(JB):                        0.844\n",
            "Kurtosis:                       3.096   Cond. No.                     1.55e+16\n",
            "==============================================================================\n",
            "\n",
            "Warnings:\n",
            "[1] Standard Errors assume that the covariance matrix of the errors is correctly specified.\n",
            "[2] The condition number is large, 1.55e+16. This might indicate that there are\n",
            "strong multicollinearity or other numerical problems.\n"
          ],
          "name": "stdout"
        }
      ]
    },
    {
      "cell_type": "markdown",
      "metadata": {
        "id": "wmTgnW_VUII1",
        "colab_type": "text"
      },
      "source": [
        "## 2.   Genera un nuevo set de datos usando a partir de la misma función seno y utiliza este conjunto como el set de prueba. Guarda el RMS de prueba para cada uno.\n"
      ]
    },
    {
      "cell_type": "code",
      "metadata": {
        "id": "hqZVcmjkbb2a",
        "colab_type": "code",
        "outputId": "978242ea-ea71-4f37-95d2-20bdd7531dbe",
        "colab": {
          "base_uri": "https://localhost:8080/",
          "height": 364
        }
      },
      "source": [
        "xs = np.array([i*np.pi/180 for i in range(0,300,4)])\n",
        "np.random.seed(15)\n",
        "ys = np.sin(x) + np.random.normal(0,0.15,len(x))\n",
        "data = pd.DataFrame(np.column_stack([xs,ys]),columns=['xs','ys'])\n",
        "plt.plot(data['xs'],data['ys'],'.')"
      ],
      "execution_count": 0,
      "outputs": [
        {
          "output_type": "execute_result",
          "data": {
            "text/plain": [
              "[<matplotlib.lines.Line2D at 0x7f7eda2263c8>]"
            ]
          },
          "metadata": {
            "tags": []
          },
          "execution_count": 81
        },
        {
          "output_type": "display_data",
          "data": {
            "image/png": "[encoded data removed]",
            "text/plain": [
              "<Figure size 576x396 with 1 Axes>"
            ]
          },
          "metadata": {
            "tags": []
          }
        }
      ]
    },
    {
      "cell_type": "code",
      "metadata": {
        "id": "Zy5LcRG_9Vp-",
        "colab_type": "code",
        "outputId": "69ca06b7-04ac-4327-d131-1288887eda7c",
        "colab": {
          "base_uri": "https://localhost:8080/",
          "height": 54
        }
      },
      "source": [
        "x1s = xs[:, np.newaxis]\n",
        "y1s = ys[:, np.newaxis]\n",
        "\n",
        "MSE_list = []\n",
        "\n",
        "for i in range(1,17):\n",
        "  polynomial_features= PolynomialFeatures(degree=i)\n",
        "  x_poly = polynomial_features.fit_transform(x1s)\n",
        "\n",
        "  model = LinearRegression()\n",
        "  model.fit(x_poly, y1s)\n",
        "  y_poly_pred = model.predict(x_poly)\n",
        "\n",
        "  MSE = mean_squared_error(y1s,y_poly_pred)\n",
        "  MSE_list.append(MSE)\n",
        "\n",
        "print(MSE_list)"
      ],
      "execution_count": 0,
      "outputs": [
        {
          "output_type": "stream",
          "text": [
            "[0.19845536301176753, 0.08827522398941992, 0.026508887799664472, 0.02413196966558591, 0.02403637787136264, 0.023643649770405995, 0.022302645065384045, 0.02222303059732437, 0.022215175632808937, 0.022160889457221316, 0.02148905898459359, 0.021488677684388526, 0.02126769574702861, 0.02126731939891388, 0.02083742331753365, 0.020655700501583215]\n"
          ],
          "name": "stdout"
        }
      ]
    },
    {
      "cell_type": "markdown",
      "metadata": {
        "id": "4AQcHIw4UJa5",
        "colab_type": "text"
      },
      "source": [
        "## 3.   Compara los RMS de prueba de todas las regresiones. ¿Hay algún grado polinomial que minimiza el RMS de prueba para este modelo? ¿Notas sobreajuste para polinomios de alto grado?\n"
      ]
    },
    {
      "cell_type": "code",
      "metadata": {
        "id": "3ZPCdNhiUMSn",
        "colab_type": "code",
        "outputId": "210cbf12-6134-480b-d78e-85896eb0ba08",
        "colab": {
          "base_uri": "https://localhost:8080/",
          "height": 51
        }
      },
      "source": [
        "print(\"Minimo de la lista\", min(MSE_list))\n",
        "print(\"Maximo de la lista\", max(MSE_list))"
      ],
      "execution_count": 0,
      "outputs": [
        {
          "output_type": "stream",
          "text": [
            "Minimo de la lista 0.020655700501583215\n",
            "Maximo de la lista 0.19845536301176753\n"
          ],
          "name": "stdout"
        }
      ]
    },
    {
      "cell_type": "markdown",
      "metadata": {
        "id": "1PBbcUMiAI12",
        "colab_type": "text"
      },
      "source": [
        "* No creo que haya un sobreajuste por el maximo encontrado."
      ]
    },
    {
      "cell_type": "markdown",
      "metadata": {
        "id": "AQXxjZGnUKhc",
        "colab_type": "text"
      },
      "source": [
        "## 4.   Repite este procedimiento aumentando la magnitud de los errores aleatorios tres veces."
      ]
    },
    {
      "cell_type": "code",
      "metadata": {
        "id": "Sz25n7_cUMpy",
        "colab_type": "code",
        "outputId": "11da88e9-33a3-442a-8e6e-342c0213085d",
        "colab": {
          "base_uri": "https://localhost:8080/",
          "height": 170
        }
      },
      "source": [
        "x10 = np.array([i*np.pi/180 for i in range(0,300,4)])\n",
        "np.random.seed(15)\n",
        "y10 = np.sin(x) + np.random.normal(0,0.25,len(x10))\n",
        "data = pd.DataFrame(np.column_stack([x10,y10]),columns=['x10','y10'])\n",
        "\n",
        "\n",
        "x20 = np.array([i*np.pi/180 for i in range(0,300,4)])\n",
        "np.random.seed(25)\n",
        "y20 = np.sin(x) + np.random.normal(0,0.35,len(x20))\n",
        "data = pd.DataFrame(np.column_stack([x20,y20]),columns=['x20','y20'])\n",
        "\n",
        "\n",
        "x30 = np.array([i*np.pi/180 for i in range(0,300,4)])\n",
        "np.random.seed(35)\n",
        "y30 = np.sin(x) + np.random.normal(0,0.45,len(x30))\n",
        "data = pd.DataFrame(np.column_stack([x30,y30]),columns=['x30','y30'])\n",
        "\n",
        "MSE_list10 = []\n",
        "MSE_list20 = []\n",
        "MSE_list30 = []\n",
        "\n",
        "x10 = x10[:, np.newaxis]\n",
        "y10 = y10[:, np.newaxis]\n",
        "\n",
        "x20 = x20[:, np.newaxis]\n",
        "y20 = y20[:, np.newaxis]\n",
        "\n",
        "x30 = x30[:, np.newaxis]\n",
        "y30 = y30[:, np.newaxis]\n",
        "\n",
        "for i in range(1,17):\n",
        "  polynomial_features= PolynomialFeatures(degree=i)\n",
        "  x_poly10 = polynomial_features.fit_transform(x10)\n",
        "  x_poly20 = polynomial_features.fit_transform(x20)\n",
        "  x_poly30 = polynomial_features.fit_transform(x30)\n",
        "\n",
        "  model = LinearRegression()\n",
        "  model10 = model.fit(x_poly10, y10)\n",
        "  model20 = model.fit(x_poly20, y20)\n",
        "  model30 = model.fit(x_poly30, y30)\n",
        "  \n",
        "  y_poly_pred10 = model.predict(x_poly10)\n",
        "  y_poly_pred20 = model.predict(x_poly20)\n",
        "  y_poly_pred30 = model.predict(x_poly30)\n",
        "  \n",
        "  MSE10 = mean_squared_error(y10,y_poly_pred10)\n",
        "  MSE20 = mean_squared_error(y20,y_poly_pred20)\n",
        "  MSE30 = mean_squared_error(y30,y_poly_pred30)\n",
        "  \n",
        "  MSE_list10.append(MSE10)\n",
        "  MSE_list20.append(MSE20)\n",
        "  MSE_list30.append(MSE30)\n",
        "\n",
        "  \n",
        "print(\"Minimo de la lista primera iteracion\", min(MSE_list10))\n",
        "print(\"Maximo de la lista primera iteracion\", max(MSE_list10))\n",
        "print(\"\")\n",
        "print(\"Minimo de la lista primera iteracion\", min(MSE_list20))\n",
        "print(\"Maximo de la lista primera iteracion\", max(MSE_list20))\n",
        "print(\"\")\n",
        "print(\"Minimo de la lista primera iteracion\", min(MSE_list30))\n",
        "print(\"Maximo de la lista primera iteracion\", max(MSE_list30))\n"
      ],
      "execution_count": 0,
      "outputs": [
        {
          "output_type": "stream",
          "text": [
            "Minimo de la lista primera iteracion 0.0753699581226743\n",
            "Maximo de la lista primera iteracion 0.24433232994100387\n",
            "\n",
            "Minimo de la lista primera iteracion 0.1679066507626695\n",
            "Maximo de la lista primera iteracion 0.33723129203599983\n",
            "\n",
            "Minimo de la lista primera iteracion 0.17126185695033724\n",
            "Maximo de la lista primera iteracion 0.430657781662198\n",
            "\n"
          ],
          "name": "stdout"
        }
      ]
    }
  ]
}