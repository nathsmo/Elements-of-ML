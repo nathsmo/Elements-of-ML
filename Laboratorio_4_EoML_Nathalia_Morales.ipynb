{
  "nbformat": 4,
  "nbformat_minor": 0,
  "metadata": {
    "colab": {
      "name": "Laboratorio 4 - EoML Nathalia Morales.ipynb",
      "version": "0.3.2",
      "provenance": [],
      "collapsed_sections": [],
      "include_colab_link": true
    },
    "kernelspec": {
      "name": "python3",
      "display_name": "Python 3"
    },
    "accelerator": "GPU"
  },
  "cells": [
    {
      "cell_type": "markdown",
      "metadata": {
        "id": "view-in-github",
        "colab_type": "text"
      },
      "source": [
        "<a href=\"https://colab.research.google.com/github/nathsmo/Elements-of-ML/blob/master/Laboratorio_4_EoML_Nathalia_Morales.ipynb\" target=\"_parent\"><img src=\"https://colab.research.google.com/assets/colab-badge.svg\" alt=\"Open In Colab\"/></a>"
      ]
    },
    {
      "cell_type": "markdown",
      "metadata": {
        "id": "Ogh-5HfiUKBJ",
        "colab_type": "text"
      },
      "source": [
        "# Laboratorio 4\n",
        "\n",
        "##Nathalia Morales\n",
        "\n",
        "En este laboratorio usaremos cuatro tipo de clasificadores sobre datos de bolsa de valores para predecir si el mercado está de subida o de bajada para cierta fecha. Los datos están en https://github.com/JWarmenhoven/ISLR-python/blob/master/Notebooks/Data/Smarket.csv."
      ]
    },
    {
      "cell_type": "code",
      "metadata": {
        "id": "sqj79xiaUPOV",
        "colab_type": "code",
        "outputId": "74f1fb62-681d-4299-d0d7-d57ff8cab42a",
        "colab": {
          "base_uri": "https://localhost:8080/",
          "height": 119
        }
      },
      "source": [
        "import numpy as np\n",
        "import pandas as pd\n",
        "\n",
        "import matplotlib\n",
        "import matplotlib.pyplot as plt\n",
        "\n",
        "import seaborn as sns\n",
        "\n",
        "import statsmodels\n",
        "import statsmodels.formula.api as smf\n",
        "\n",
        "print(\"Todos los paquetes han sido importados:\")\n",
        "print(\"Numpy version: {}\".format(np.__version__))\n",
        "print(\"Pandas version: {}\".format(pd.__version__))\n",
        "print(\"Matplotlib version: {}\".format(matplotlib.__version__))\n",
        "print(\"Seaborn version: {}\".format(sns.__version__))\n",
        "print(\"Statsmodels-learn version: {}\".format(statsmodels.__version__))"
      ],
      "execution_count": 0,
      "outputs": [
        {
          "output_type": "stream",
          "text": [
            "Todos los paquetes han sido importados:\n",
            "Numpy version: 1.14.6\n",
            "Pandas version: 0.22.0\n",
            "Matplotlib version: 3.0.2\n",
            "Seaborn version: 0.7.1\n",
            "Statsmodels-learn version: 0.8.0\n"
          ],
          "name": "stdout"
        }
      ]
    },
    {
      "cell_type": "markdown",
      "metadata": {
        "id": "YEj6N0DeVm9H",
        "colab_type": "text"
      },
      "source": [
        "## Explorando los datos\n",
        "\n",
        "Las variables en smarket son\n",
        "\n",
        "\n",
        "*   Año\n",
        "*   Lag1 a Lag5: porcentaje de retornos de los cinco días previos\n",
        "*   Volume: el número de intercambios el día previo en billones\n",
        "*   Today: porcentaje de retorno en ese día\n",
        "*   Direction: si el mercado está de subida o bajada ese día"
      ]
    },
    {
      "cell_type": "code",
      "metadata": {
        "id": "U4Gq8VnbmQD2",
        "colab_type": "code",
        "outputId": "7b331f1c-3a9e-4a88-a387-4ddc6e642d4d",
        "colab": {
          "base_uri": "https://localhost:8080/",
          "height": 204
        }
      },
      "source": [
        "url = 'https://raw.githubusercontent.com/JWarmenhoven/ISLR-python/master/Notebooks/Data/Smarket.csv'\n",
        "smarket = pd.read_csv(url)\n",
        "smarket = smarket.drop('Unnamed: 0', axis=1)\n",
        "\n",
        "smarket.head()"
      ],
      "execution_count": 0,
      "outputs": [
        {
          "output_type": "execute_result",
          "data": {
            "text/html": [
              "<div>\n",
              "<style scoped>\n",
              "    .dataframe tbody tr th:only-of-type {\n",
              "        vertical-align: middle;\n",
              "    }\n",
              "\n",
              "    .dataframe tbody tr th {\n",
              "        vertical-align: top;\n",
              "    }\n",
              "\n",
              "    .dataframe thead th {\n",
              "        text-align: right;\n",
              "    }\n",
              "</style>\n",
              "<table border=\"1\" class=\"dataframe\">\n",
              "  <thead>\n",
              "    <tr style=\"text-align: right;\">\n",
              "      <th></th>\n",
              "      <th>Year</th>\n",
              "      <th>Lag1</th>\n",
              "      <th>Lag2</th>\n",
              "      <th>Lag3</th>\n",
              "      <th>Lag4</th>\n",
              "      <th>Lag5</th>\n",
              "      <th>Volume</th>\n",
              "      <th>Today</th>\n",
              "      <th>Direction</th>\n",
              "    </tr>\n",
              "  </thead>\n",
              "  <tbody>\n",
              "    <tr>\n",
              "      <th>0</th>\n",
              "      <td>2001</td>\n",
              "      <td>0.381</td>\n",
              "      <td>-0.192</td>\n",
              "      <td>-2.624</td>\n",
              "      <td>-1.055</td>\n",
              "      <td>5.010</td>\n",
              "      <td>1.1913</td>\n",
              "      <td>0.959</td>\n",
              "      <td>Up</td>\n",
              "    </tr>\n",
              "    <tr>\n",
              "      <th>1</th>\n",
              "      <td>2001</td>\n",
              "      <td>0.959</td>\n",
              "      <td>0.381</td>\n",
              "      <td>-0.192</td>\n",
              "      <td>-2.624</td>\n",
              "      <td>-1.055</td>\n",
              "      <td>1.2965</td>\n",
              "      <td>1.032</td>\n",
              "      <td>Up</td>\n",
              "    </tr>\n",
              "    <tr>\n",
              "      <th>2</th>\n",
              "      <td>2001</td>\n",
              "      <td>1.032</td>\n",
              "      <td>0.959</td>\n",
              "      <td>0.381</td>\n",
              "      <td>-0.192</td>\n",
              "      <td>-2.624</td>\n",
              "      <td>1.4112</td>\n",
              "      <td>-0.623</td>\n",
              "      <td>Down</td>\n",
              "    </tr>\n",
              "    <tr>\n",
              "      <th>3</th>\n",
              "      <td>2001</td>\n",
              "      <td>-0.623</td>\n",
              "      <td>1.032</td>\n",
              "      <td>0.959</td>\n",
              "      <td>0.381</td>\n",
              "      <td>-0.192</td>\n",
              "      <td>1.2760</td>\n",
              "      <td>0.614</td>\n",
              "      <td>Up</td>\n",
              "    </tr>\n",
              "    <tr>\n",
              "      <th>4</th>\n",
              "      <td>2001</td>\n",
              "      <td>0.614</td>\n",
              "      <td>-0.623</td>\n",
              "      <td>1.032</td>\n",
              "      <td>0.959</td>\n",
              "      <td>0.381</td>\n",
              "      <td>1.2057</td>\n",
              "      <td>0.213</td>\n",
              "      <td>Up</td>\n",
              "    </tr>\n",
              "  </tbody>\n",
              "</table>\n",
              "</div>"
            ],
            "text/plain": [
              "   Year   Lag1   Lag2   Lag3   Lag4   Lag5  Volume  Today Direction\n",
              "0  2001  0.381 -0.192 -2.624 -1.055  5.010  1.1913  0.959        Up\n",
              "1  2001  0.959  0.381 -0.192 -2.624 -1.055  1.2965  1.032        Up\n",
              "2  2001  1.032  0.959  0.381 -0.192 -2.624  1.4112 -0.623      Down\n",
              "3  2001 -0.623  1.032  0.959  0.381 -0.192  1.2760  0.614        Up\n",
              "4  2001  0.614 -0.623  1.032  0.959  0.381  1.2057  0.213        Up"
            ]
          },
          "metadata": {
            "tags": []
          },
          "execution_count": 2
        }
      ]
    },
    {
      "cell_type": "code",
      "metadata": {
        "id": "Zx6JCeGlW42G",
        "colab_type": "code",
        "outputId": "ab128e98-3bd1-4fc0-b8ab-1032bc6063f5",
        "colab": {
          "base_uri": "https://localhost:8080/",
          "height": 317
        }
      },
      "source": [
        "smarket.describe()"
      ],
      "execution_count": 0,
      "outputs": [
        {
          "output_type": "execute_result",
          "data": {
            "text/html": [
              "<div>\n",
              "<style scoped>\n",
              "    .dataframe tbody tr th:only-of-type {\n",
              "        vertical-align: middle;\n",
              "    }\n",
              "\n",
              "    .dataframe tbody tr th {\n",
              "        vertical-align: top;\n",
              "    }\n",
              "\n",
              "    .dataframe thead th {\n",
              "        text-align: right;\n",
              "    }\n",
              "</style>\n",
              "<table border=\"1\" class=\"dataframe\">\n",
              "  <thead>\n",
              "    <tr style=\"text-align: right;\">\n",
              "      <th></th>\n",
              "      <th>Year</th>\n",
              "      <th>Lag1</th>\n",
              "      <th>Lag2</th>\n",
              "      <th>Lag3</th>\n",
              "      <th>Lag4</th>\n",
              "      <th>Lag5</th>\n",
              "      <th>Volume</th>\n",
              "      <th>Today</th>\n",
              "    </tr>\n",
              "  </thead>\n",
              "  <tbody>\n",
              "    <tr>\n",
              "      <th>count</th>\n",
              "      <td>1250.000000</td>\n",
              "      <td>1250.000000</td>\n",
              "      <td>1250.000000</td>\n",
              "      <td>1250.000000</td>\n",
              "      <td>1250.000000</td>\n",
              "      <td>1250.00000</td>\n",
              "      <td>1250.000000</td>\n",
              "      <td>1250.000000</td>\n",
              "    </tr>\n",
              "    <tr>\n",
              "      <th>mean</th>\n",
              "      <td>2003.016000</td>\n",
              "      <td>0.003834</td>\n",
              "      <td>0.003919</td>\n",
              "      <td>0.001716</td>\n",
              "      <td>0.001636</td>\n",
              "      <td>0.00561</td>\n",
              "      <td>1.478305</td>\n",
              "      <td>0.003138</td>\n",
              "    </tr>\n",
              "    <tr>\n",
              "      <th>std</th>\n",
              "      <td>1.409018</td>\n",
              "      <td>1.136299</td>\n",
              "      <td>1.136280</td>\n",
              "      <td>1.138703</td>\n",
              "      <td>1.138774</td>\n",
              "      <td>1.14755</td>\n",
              "      <td>0.360357</td>\n",
              "      <td>1.136334</td>\n",
              "    </tr>\n",
              "    <tr>\n",
              "      <th>min</th>\n",
              "      <td>2001.000000</td>\n",
              "      <td>-4.922000</td>\n",
              "      <td>-4.922000</td>\n",
              "      <td>-4.922000</td>\n",
              "      <td>-4.922000</td>\n",
              "      <td>-4.92200</td>\n",
              "      <td>0.356070</td>\n",
              "      <td>-4.922000</td>\n",
              "    </tr>\n",
              "    <tr>\n",
              "      <th>25%</th>\n",
              "      <td>2002.000000</td>\n",
              "      <td>-0.639500</td>\n",
              "      <td>-0.639500</td>\n",
              "      <td>-0.640000</td>\n",
              "      <td>-0.640000</td>\n",
              "      <td>-0.64000</td>\n",
              "      <td>1.257400</td>\n",
              "      <td>-0.639500</td>\n",
              "    </tr>\n",
              "    <tr>\n",
              "      <th>50%</th>\n",
              "      <td>2003.000000</td>\n",
              "      <td>0.039000</td>\n",
              "      <td>0.039000</td>\n",
              "      <td>0.038500</td>\n",
              "      <td>0.038500</td>\n",
              "      <td>0.03850</td>\n",
              "      <td>1.422950</td>\n",
              "      <td>0.038500</td>\n",
              "    </tr>\n",
              "    <tr>\n",
              "      <th>75%</th>\n",
              "      <td>2004.000000</td>\n",
              "      <td>0.596750</td>\n",
              "      <td>0.596750</td>\n",
              "      <td>0.596750</td>\n",
              "      <td>0.596750</td>\n",
              "      <td>0.59700</td>\n",
              "      <td>1.641675</td>\n",
              "      <td>0.596750</td>\n",
              "    </tr>\n",
              "    <tr>\n",
              "      <th>max</th>\n",
              "      <td>2005.000000</td>\n",
              "      <td>5.733000</td>\n",
              "      <td>5.733000</td>\n",
              "      <td>5.733000</td>\n",
              "      <td>5.733000</td>\n",
              "      <td>5.73300</td>\n",
              "      <td>3.152470</td>\n",
              "      <td>5.733000</td>\n",
              "    </tr>\n",
              "  </tbody>\n",
              "</table>\n",
              "</div>"
            ],
            "text/plain": [
              "              Year         Lag1         Lag2         Lag3         Lag4  \\\n",
              "count  1250.000000  1250.000000  1250.000000  1250.000000  1250.000000   \n",
              "mean   2003.016000     0.003834     0.003919     0.001716     0.001636   \n",
              "std       1.409018     1.136299     1.136280     1.138703     1.138774   \n",
              "min    2001.000000    -4.922000    -4.922000    -4.922000    -4.922000   \n",
              "25%    2002.000000    -0.639500    -0.639500    -0.640000    -0.640000   \n",
              "50%    2003.000000     0.039000     0.039000     0.038500     0.038500   \n",
              "75%    2004.000000     0.596750     0.596750     0.596750     0.596750   \n",
              "max    2005.000000     5.733000     5.733000     5.733000     5.733000   \n",
              "\n",
              "             Lag5       Volume        Today  \n",
              "count  1250.00000  1250.000000  1250.000000  \n",
              "mean      0.00561     1.478305     0.003138  \n",
              "std       1.14755     0.360357     1.136334  \n",
              "min      -4.92200     0.356070    -4.922000  \n",
              "25%      -0.64000     1.257400    -0.639500  \n",
              "50%       0.03850     1.422950     0.038500  \n",
              "75%       0.59700     1.641675     0.596750  \n",
              "max       5.73300     3.152470     5.733000  "
            ]
          },
          "metadata": {
            "tags": []
          },
          "execution_count": 3
        }
      ]
    },
    {
      "cell_type": "markdown",
      "metadata": {
        "id": "ZmInvgZSalzW",
        "colab_type": "text"
      },
      "source": [
        "Predeciremos direction, que esperamos que sea binario. Verifiquemos que lo es"
      ]
    },
    {
      "cell_type": "code",
      "metadata": {
        "id": "tuOLMTbWaoSt",
        "colab_type": "code",
        "outputId": "072cd460-67f8-423f-f3ae-b26de9eff400",
        "colab": {
          "base_uri": "https://localhost:8080/",
          "height": 432
        }
      },
      "source": [
        "sns.countplot(x='Direction',data=smarket, palette='hls')"
      ],
      "execution_count": 0,
      "outputs": [
        {
          "output_type": "stream",
          "text": [
            "/usr/local/lib/python3.6/dist-packages/seaborn/categorical.py:1428: FutureWarning: remove_na is deprecated and is a private function. Do not use.\n",
            "  stat_data = remove_na(group_data)\n"
          ],
          "name": "stderr"
        },
        {
          "output_type": "execute_result",
          "data": {
            "text/plain": [
              "<matplotlib.axes._subplots.AxesSubplot at 0x7f8729cdd978>"
            ]
          },
          "metadata": {
            "tags": []
          },
          "execution_count": 4
        },
        {
          "output_type": "display_data",
          "data": {
            "image/png": "[encoded data removed]",
            "text/plain": [
              "<Figure size 576x396 with 1 Axes>"
            ]
          },
          "metadata": {
            "tags": []
          }
        }
      ]
    },
    {
      "cell_type": "markdown",
      "metadata": {
        "id": "Pu80yTszYhfF",
        "colab_type": "text"
      },
      "source": [
        "Generamos una matriz de correlaciones entre variables para visualizar "
      ]
    },
    {
      "cell_type": "code",
      "metadata": {
        "id": "7NHpJrsfhACp",
        "colab_type": "code",
        "outputId": "319cd0a6-c9e6-4867-cbaf-68cb0d4f979c",
        "colab": {
          "base_uri": "https://localhost:8080/",
          "height": 384
        }
      },
      "source": [
        "#smarket.corr()\n",
        "\n",
        "cols = list(smarket)\n",
        "print(cols)\n",
        "\n",
        "coefs = np.corrcoef(smarket[cols[0:8]].values.T)\n",
        "heatMap = sns.heatmap(coefs, annot = True, yticklabels=cols[0:8], xticklabels=cols)"
      ],
      "execution_count": 0,
      "outputs": [
        {
          "output_type": "stream",
          "text": [
            "['Year', 'Lag1', 'Lag2', 'Lag3', 'Lag4', 'Lag5', 'Volume', 'Today', 'Direction']\n"
          ],
          "name": "stdout"
        },
        {
          "output_type": "display_data",
          "data": {
            "image/png": "[encoded data removed]",
            "text/plain": [
              "<Figure size 576x396 with 2 Axes>"
            ]
          },
          "metadata": {
            "tags": []
          }
        }
      ]
    },
    {
      "cell_type": "markdown",
      "metadata": {
        "id": "0-SbXPMJhD9V",
        "colab_type": "text"
      },
      "source": [
        "Noten que excluí la columna de Direction porque no es numérica. La única correlación que sobresale es entre volumen y años con 0.539006, las demás son menores a 0.05. Esto último era de esperarse: no parece haber correlacción entre los retornos de hoy y los de días anteriores. Generemos una función de gráfica de dispersión para visualizar la relación entre volumen y año."
      ]
    },
    {
      "cell_type": "code",
      "metadata": {
        "id": "Xw-jawUYrBk8",
        "colab_type": "code",
        "colab": {}
      },
      "source": [
        "def make_scatter_plot(dataframe, input_feature, target,\n",
        "                      slopes=[], biases=[], model_names=[]):\n",
        "  \"\"\" Creates a scatter plot of input_feature vs target along with the models.\n",
        "  \n",
        "  Args:\n",
        "    dataframe: the dataframe to visualize\n",
        "    input_feature: the input feature to be used for the x-axis\n",
        "    target: the target to be used for the y-axis\n",
        "  \"\"\"      \n",
        "  # Define some colors to use that go from blue towards red\n",
        "  colors = [cm.coolwarm(x) for x in np.linspace(0, 1, len(slopes))]\n",
        "  \n",
        "  # Generate the Scatter plot\n",
        "  x = dataframe[input_feature]\n",
        "  y = dataframe[target]\n",
        "  plt.ylabel(target)\n",
        "  plt.xlabel(input_feature)\n",
        "  plt.scatter(x, y, color='black', label=\"\")\n",
        "  plt.show()"
      ],
      "execution_count": 0,
      "outputs": []
    },
    {
      "cell_type": "code",
      "metadata": {
        "id": "6C2KQTD66xRV",
        "colab_type": "code",
        "outputId": "b351e7ef-9afe-409c-ef7a-6c4862041f93",
        "colab": {
          "base_uri": "https://localhost:8080/",
          "height": 361
        }
      },
      "source": [
        "make_scatter_plot(smarket, \"Volume\", \"Year\", slopes=[], biases=[], model_names=[])"
      ],
      "execution_count": 0,
      "outputs": [
        {
          "output_type": "display_data",
          "data": {
            "image/png": "[encoded data removed]",
            "text/plain": [
              "<Figure size 576x396 with 1 Axes>"
            ]
          },
          "metadata": {
            "tags": []
          }
        }
      ]
    },
    {
      "cell_type": "markdown",
      "metadata": {
        "id": "tcKfG6Nnh9Xd",
        "colab_type": "text"
      },
      "source": [
        "### Ejercicio\n",
        "\n",
        "En el laboratorio utilizarás los métodos de clasificación: regresión logística, análisis de discriminante lineal, análisis de discriminante cuadrático y vecinos k-cercanos. Para smarket, cuál crees que será el mejor predictor o el más apropiado para la variable Direction? Los aspectos que debes tomar en cuenta son: número de observaciones, normalidad de la distribución de los datos, no linealidad entre la relación entre los predictores y el target. Responde en la celda de abajo"
      ]
    },
    {
      "cell_type": "markdown",
      "metadata": {
        "id": "XcECKpOouHJC",
        "colab_type": "text"
      },
      "source": [
        "Yo creo que la mejor forma va a ser la regresion logistica, por la  naturaleza de la data que queremos predecir, dado que los valores de Direction son esencialmente binomiales al ser convertidos de su naturaleza descriptiva sera mas adecuado ese modelo. Depues de todo Logistic Regression sirve para explicar la relación entre una variable binaria dependiente y una o más variables independientes. Se usa para predecir las probabilidades de ser un caso (1 o 0 en este caso) en función de los valores de las variables independientes ( o predictores).\n"
      ]
    },
    {
      "cell_type": "markdown",
      "metadata": {
        "id": "GYYGOXmOusZT",
        "colab_type": "text"
      },
      "source": [
        "## Análisis (Tarea)\n",
        "\n",
        "Para cada uno de los cuatro métodos de clasificación, escoge observaciones de entrenamiento y otras de prueba\n",
        "\n",
        "1.   Genera un modelo de predicción para la variable Direction usando observaciones de entrenamiento\n",
        "2.   Realiza cuadros de confusión para cada uno\n",
        "\n"
      ]
    },
    {
      "cell_type": "code",
      "metadata": {
        "id": "V5zOQrx96sVG",
        "colab_type": "code",
        "colab": {}
      },
      "source": [
        "Direction = smarket[\"Direction\"]\n",
        "\n",
        "for i in range(0,len(Direction)):\n",
        "  if Direction[i] == \"Up\":\n",
        "    Direction[i] = 1\n",
        "  elif Direction[i] == \"Down\":\n",
        "    Direction[i] = 0"
      ],
      "execution_count": 0,
      "outputs": []
    },
    {
      "cell_type": "code",
      "metadata": {
        "id": "aAVt-e5s594z",
        "colab_type": "code",
        "colab": {}
      },
      "source": [
        "X = smarket.loc[:, smarket.columns != 'Direction']\n",
        "y = Direction\n",
        "\n",
        "y = y[:1250]\n",
        "y =y.astype(int)\n",
        "#y.shape"
      ],
      "execution_count": 0,
      "outputs": []
    },
    {
      "cell_type": "code",
      "metadata": {
        "id": "4SD05aiV8q9m",
        "colab_type": "code",
        "colab": {}
      },
      "source": [
        "#X.shape"
      ],
      "execution_count": 0,
      "outputs": []
    },
    {
      "cell_type": "markdown",
      "metadata": {
        "id": "synPonsZuNGE",
        "colab_type": "text"
      },
      "source": [
        "### Regresión logística"
      ]
    },
    {
      "cell_type": "code",
      "metadata": {
        "id": "QsLWzhFV8Mbf",
        "colab_type": "code",
        "outputId": "156ebd82-46e6-4b84-a45a-8433292f2f50",
        "colab": {
          "base_uri": "https://localhost:8080/",
          "height": 139
        }
      },
      "source": [
        "from sklearn.linear_model import LogisticRegression\n",
        "from sklearn.model_selection import train_test_split\n",
        "from sklearn import metrics\n",
        "\n",
        "X_train, X_test, y_train, y_test = train_test_split(X, y, test_size=0.2, random_state=42)\n",
        "logreg = LogisticRegression()\n",
        "logreg.fit(X_train, y_train)"
      ],
      "execution_count": 0,
      "outputs": [
        {
          "output_type": "stream",
          "text": [
            "/usr/local/lib/python3.6/dist-packages/sklearn/linear_model/logistic.py:433: FutureWarning: Default solver will be changed to 'lbfgs' in 0.22. Specify a solver to silence this warning.\n",
            "  FutureWarning)\n"
          ],
          "name": "stderr"
        },
        {
          "output_type": "execute_result",
          "data": {
            "text/plain": [
              "LogisticRegression(C=1.0, class_weight=None, dual=False, fit_intercept=True,\n",
              "          intercept_scaling=1, max_iter=100, multi_class='warn',\n",
              "          n_jobs=None, penalty='l2', random_state=None, solver='warn',\n",
              "          tol=0.0001, verbose=0, warm_start=False)"
            ]
          },
          "metadata": {
            "tags": []
          },
          "execution_count": 69
        }
      ]
    },
    {
      "cell_type": "code",
      "metadata": {
        "id": "GJGaGOy5FKjo",
        "colab_type": "code",
        "outputId": "75a7c0ee-d9d7-4a1e-ae8e-1b4d79c1dc02",
        "colab": {
          "base_uri": "https://localhost:8080/",
          "height": 34
        }
      },
      "source": [
        "y_pred = logreg.predict(X_test)\n",
        "print('Accuracy of logistic regression classifier on test set: {:.2f}'.format(logreg.score(X_test, y_test)))"
      ],
      "execution_count": 0,
      "outputs": [
        {
          "output_type": "stream",
          "text": [
            "Accuracy of logistic regression classifier on test set: 1.00\n"
          ],
          "name": "stdout"
        }
      ]
    },
    {
      "cell_type": "code",
      "metadata": {
        "id": "ZMaVR4zaGUQ4",
        "colab_type": "code",
        "outputId": "d8ad692f-079a-4889-fd18-da1ab60c7a3a",
        "colab": {
          "base_uri": "https://localhost:8080/",
          "height": 51
        }
      },
      "source": [
        "from sklearn.metrics import confusion_matrix\n",
        "confusion_matrix(y_test, y_pred)"
      ],
      "execution_count": 0,
      "outputs": [
        {
          "output_type": "execute_result",
          "data": {
            "text/plain": [
              "array([[132,   0],\n",
              "       [  0, 118]])"
            ]
          },
          "metadata": {
            "tags": []
          },
          "execution_count": 71
        }
      ]
    },
    {
      "cell_type": "markdown",
      "metadata": {
        "id": "grenPLU9uQq0",
        "colab_type": "text"
      },
      "source": [
        "### Análisis de discriminante lineal"
      ]
    },
    {
      "cell_type": "code",
      "metadata": {
        "id": "9HIpcoV48M74",
        "colab_type": "code",
        "outputId": "f6fe22e2-6b60-4ae2-fec9-46f0711dfcf9",
        "colab": {
          "base_uri": "https://localhost:8080/",
          "height": 51
        }
      },
      "source": [
        "from sklearn.discriminant_analysis import LinearDiscriminantAnalysis\n",
        "LDA = LinearDiscriminantAnalysis()\n",
        "LDA.fit(X_train, y_train)"
      ],
      "execution_count": 0,
      "outputs": [
        {
          "output_type": "execute_result",
          "data": {
            "text/plain": [
              "LinearDiscriminantAnalysis(n_components=None, priors=None, shrinkage=None,\n",
              "              solver='svd', store_covariance=False, tol=0.0001)"
            ]
          },
          "metadata": {
            "tags": []
          },
          "execution_count": 72
        }
      ]
    },
    {
      "cell_type": "code",
      "metadata": {
        "id": "bPzgQlTgJhg7",
        "colab_type": "code",
        "outputId": "c96af92d-b559-4290-b20d-048cb8a48571",
        "colab": {
          "base_uri": "https://localhost:8080/",
          "height": 34
        }
      },
      "source": [
        "y_pred = LDA.fit(X_train, y_train).predict(X_test)\n",
        "print('Accuracy of LDA on test set: {:.2f}'.format(LDA.score(X_test, y_test)))"
      ],
      "execution_count": 0,
      "outputs": [
        {
          "output_type": "stream",
          "text": [
            "Accuracy of LDA on test set: 0.97\n"
          ],
          "name": "stdout"
        }
      ]
    },
    {
      "cell_type": "code",
      "metadata": {
        "id": "snTlMAupNiLK",
        "colab_type": "code",
        "colab": {}
      },
      "source": [
        "#print(y_pred.shape)\n",
        "#print(y_test.shape)"
      ],
      "execution_count": 0,
      "outputs": []
    },
    {
      "cell_type": "code",
      "metadata": {
        "id": "VEt0EFe_KzrO",
        "colab_type": "code",
        "outputId": "772cbd86-f957-4d64-9bf7-209b77f44e32",
        "colab": {
          "base_uri": "https://localhost:8080/",
          "height": 51
        }
      },
      "source": [
        "confusion_matrix(y_test, y_pred)"
      ],
      "execution_count": 0,
      "outputs": [
        {
          "output_type": "execute_result",
          "data": {
            "text/plain": [
              "array([[124,   8],\n",
              "       [  0, 118]])"
            ]
          },
          "metadata": {
            "tags": []
          },
          "execution_count": 76
        }
      ]
    },
    {
      "cell_type": "markdown",
      "metadata": {
        "id": "YkW5Q8D2uUBK",
        "colab_type": "text"
      },
      "source": [
        "### Análisis de discriminante cuadrático"
      ]
    },
    {
      "cell_type": "code",
      "metadata": {
        "id": "gYkQBEyX8Nko",
        "colab_type": "code",
        "outputId": "18bff669-066d-4a42-f2ae-0d7c28225e68",
        "colab": {
          "base_uri": "https://localhost:8080/",
          "height": 34
        }
      },
      "source": [
        "from sklearn.discriminant_analysis import QuadraticDiscriminantAnalysis\n",
        "qda = QuadraticDiscriminantAnalysis()\n",
        "y_pred = qda.fit(X_train, y_train).predict(X_test)\n",
        "print('Accuracy of Quadratic Discriminant Analysis on test set: {:.2f}'.format(qda.score(X_test, y_test)))\n"
      ],
      "execution_count": 0,
      "outputs": [
        {
          "output_type": "stream",
          "text": [
            "Accuracy of Quadratic Discriminant Analysis on test set: 0.94\n"
          ],
          "name": "stdout"
        }
      ]
    },
    {
      "cell_type": "code",
      "metadata": {
        "id": "Shkm9ZY6LtIJ",
        "colab_type": "code",
        "outputId": "c7fa8735-26a7-43a2-d355-56624f9d49e0",
        "colab": {
          "base_uri": "https://localhost:8080/",
          "height": 51
        }
      },
      "source": [
        "confusion_matrix(y_test, y_pred)\n"
      ],
      "execution_count": 0,
      "outputs": [
        {
          "output_type": "execute_result",
          "data": {
            "text/plain": [
              "array([[120,  12],\n",
              "       [  3, 115]])"
            ]
          },
          "metadata": {
            "tags": []
          },
          "execution_count": 78
        }
      ]
    },
    {
      "cell_type": "markdown",
      "metadata": {
        "id": "WmDcAznauWWl",
        "colab_type": "text"
      },
      "source": [
        "### Vecinos k-cercanos"
      ]
    },
    {
      "cell_type": "code",
      "metadata": {
        "id": "O9jYb8lv8OKB",
        "colab_type": "code",
        "outputId": "adea096d-263a-4c5f-db41-f4e6f1eb61f5",
        "colab": {
          "base_uri": "https://localhost:8080/",
          "height": 34
        }
      },
      "source": [
        "from sklearn.neighbors import KNeighborsClassifier  \n",
        "classifier = KNeighborsClassifier(n_neighbors=5)  \n",
        "classifier.fit(X_train, y_train)  \n",
        "y_pred = classifier.predict(X_test)  \n",
        "print('Accuracy of K Neighbors Classifier on test set: {:.2f}'.format(classifier.score(X_test, y_test)))\n"
      ],
      "execution_count": 0,
      "outputs": [
        {
          "output_type": "stream",
          "text": [
            "Accuracy of K Neighbors Classifier on test set: 0.86\n"
          ],
          "name": "stdout"
        }
      ]
    },
    {
      "cell_type": "code",
      "metadata": {
        "id": "0sNyl1KnPFZI",
        "colab_type": "code",
        "outputId": "a9f1e6eb-026c-4583-9a75-3361e863e254",
        "colab": {
          "base_uri": "https://localhost:8080/",
          "height": 51
        }
      },
      "source": [
        "confusion_matrix(y_test, y_pred)"
      ],
      "execution_count": 0,
      "outputs": [
        {
          "output_type": "execute_result",
          "data": {
            "text/plain": [
              "array([[112,  20],\n",
              "       [ 14, 104]])"
            ]
          },
          "metadata": {
            "tags": []
          },
          "execution_count": 80
        }
      ]
    }
  ]
}