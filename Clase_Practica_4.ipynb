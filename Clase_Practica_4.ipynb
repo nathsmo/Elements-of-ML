{
  "nbformat": 4,
  "nbformat_minor": 0,
  "metadata": {
    "colab": {
      "name": "Clase - Practica 4.ipynb",
      "version": "0.3.2",
      "provenance": [],
      "collapsed_sections": [],
      "include_colab_link": true
    },
    "kernelspec": {
      "name": "python2",
      "display_name": "Python 2"
    }
  },
  "cells": [
    {
      "cell_type": "markdown",
      "metadata": {
        "id": "view-in-github",
        "colab_type": "text"
      },
      "source": [
        "<a href=\"https://colab.research.google.com/github/nathsmo/Elements-of-ML/blob/master/Clase_Practica_4.ipynb\" target=\"_parent\"><img src=\"https://colab.research.google.com/assets/colab-badge.svg\" alt=\"Open In Colab\"/></a>"
      ]
    },
    {
      "cell_type": "code",
      "metadata": {
        "id": "hj0xUDNCl8qP",
        "colab_type": "code",
        "colab": {}
      },
      "source": [
        "import pandas as pd\n",
        "from sklearn.discriminant_analysis import LinearDiscriminantAnalysis\n",
        "\n",
        "df = pd.read_excel(\"https://goo.gl/qSE6q8\")\n",
        "\n",
        "df[\"default2\"] = df.default.factorize()[0]\n",
        "df[\"student2\"] = df.student.factorize()[0]\n",
        "\n",
        "\n",
        "#.factorize() nos regresa dos objetos: un array con etiquetas\n",
        "# y uno con valores unicos. Solo nos interesa el primero\n",
        "y = df.default2.values\n",
        "X = df[[\"balance\", \"student2\"]].values"
      ],
      "execution_count": 0,
      "outputs": []
    },
    {
      "cell_type": "code",
      "metadata": {
        "id": "vfrvPD7knLJ7",
        "colab_type": "code",
        "outputId": "6dce3b0d-38f1-4bfa-df55-5e5ba192a123",
        "colab": {
          "base_uri": "https://localhost:8080/",
          "height": 34
        }
      },
      "source": [
        "print(\"Error: {:.2f}\".format(100*(1- sum(y == y_pred)/len(y))), \"%\")"
      ],
      "execution_count": 0,
      "outputs": [
        {
          "output_type": "stream",
          "text": [
            "('Error: 100.00', '%')\n"
          ],
          "name": "stdout"
        }
      ]
    },
    {
      "cell_type": "code",
      "metadata": {
        "id": "J2fse7HsnXbZ",
        "colab_type": "code",
        "outputId": "36c1c228-8e25-40c1-df69-591ec7ac304b",
        "colab": {
          "base_uri": "https://localhost:8080/",
          "height": 34
        }
      },
      "source": [
        "print(\"Error: {:.2f}\".format(100*(1- lda.score(X, y))), \"%\")"
      ],
      "execution_count": 0,
      "outputs": [
        {
          "output_type": "stream",
          "text": [
            "('Error: 2.75', '%')\n"
          ],
          "name": "stdout"
        }
      ]
    },
    {
      "cell_type": "code",
      "metadata": {
        "id": "_yYEP0gjm9bB",
        "colab_type": "code",
        "colab": {}
      },
      "source": [
        "lda = LinearDiscriminantAnalysis().fit(X, y)\n",
        "y_pred = lda.predict(X)"
      ],
      "execution_count": 0,
      "outputs": []
    },
    {
      "cell_type": "code",
      "metadata": {
        "id": "qsfEA-eypJU8",
        "colab_type": "code",
        "colab": {}
      },
      "source": [
        "from sklearn.metrics import confusion_matrix\n",
        "\n",
        "y_actual = pd.Series(y, name=\"Actual\")\n",
        "y_predicho = pd.Series(y_pred, name=\"Predicho\")\n",
        "\n",
        "\n",
        "y_actual = y_actual.replace([0,1], [\"No\", \"Si\"])\n",
        "y_predicho = y_predicho.replace([0,1], [\"No\", \"Si\"])\n"
      ],
      "execution_count": 0,
      "outputs": []
    },
    {
      "cell_type": "code",
      "metadata": {
        "id": "DF81YjtspsOz",
        "colab_type": "code",
        "outputId": "ab8216d6-ecb6-43a0-b480-fe0085de8d63",
        "colab": {
          "base_uri": "https://localhost:8080/",
          "height": 173
        }
      },
      "source": [
        "pd.crosstab(y_actual, y_predicho, margins=True)"
      ],
      "execution_count": 0,
      "outputs": [
        {
          "output_type": "execute_result",
          "data": {
            "text/html": [
              "<div>\n",
              "<style scoped>\n",
              "    .dataframe tbody tr th:only-of-type {\n",
              "        vertical-align: middle;\n",
              "    }\n",
              "\n",
              "    .dataframe tbody tr th {\n",
              "        vertical-align: top;\n",
              "    }\n",
              "\n",
              "    .dataframe thead th {\n",
              "        text-align: right;\n",
              "    }\n",
              "</style>\n",
              "<table border=\"1\" class=\"dataframe\">\n",
              "  <thead>\n",
              "    <tr style=\"text-align: right;\">\n",
              "      <th>Predicho</th>\n",
              "      <th>No</th>\n",
              "      <th>Si</th>\n",
              "      <th>All</th>\n",
              "    </tr>\n",
              "    <tr>\n",
              "      <th>Actual</th>\n",
              "      <th></th>\n",
              "      <th></th>\n",
              "      <th></th>\n",
              "    </tr>\n",
              "  </thead>\n",
              "  <tbody>\n",
              "    <tr>\n",
              "      <th>No</th>\n",
              "      <td>9644</td>\n",
              "      <td>23</td>\n",
              "      <td>9667</td>\n",
              "    </tr>\n",
              "    <tr>\n",
              "      <th>Si</th>\n",
              "      <td>252</td>\n",
              "      <td>81</td>\n",
              "      <td>333</td>\n",
              "    </tr>\n",
              "    <tr>\n",
              "      <th>All</th>\n",
              "      <td>9896</td>\n",
              "      <td>104</td>\n",
              "      <td>10000</td>\n",
              "    </tr>\n",
              "  </tbody>\n",
              "</table>\n",
              "</div>"
            ],
            "text/plain": [
              "Predicho    No   Si    All\n",
              "Actual                    \n",
              "No        9644   23   9667\n",
              "Si         252   81    333\n",
              "All       9896  104  10000"
            ]
          },
          "metadata": {
            "tags": []
          },
          "execution_count": 13
        }
      ]
    },
    {
      "cell_type": "code",
      "metadata": {
        "id": "pgbGL2RhpyG_",
        "colab_type": "code",
        "outputId": "418a4c3e-0ae8-4a03-ce2d-f5d49c36d011",
        "colab": {
          "base_uri": "https://localhost:8080/",
          "height": 51
        }
      },
      "source": [
        "print(confusion_matrix(y, y_pred))"
      ],
      "execution_count": 0,
      "outputs": [
        {
          "output_type": "stream",
          "text": [
            "[[9644   23]\n",
            " [ 252   81]]\n"
          ],
          "name": "stdout"
        }
      ]
    },
    {
      "cell_type": "code",
      "metadata": {
        "id": "h4We7nkxqLRl",
        "colab_type": "code",
        "colab": {}
      },
      "source": [
        "nt, fp, fn, tp = confusion_matrix(y, y_pred).ravel()\n",
        "\n",
        "# el error total cometido es el total de los falsos dividido el total de los datos\n",
        "\n",
        "#https://gist.github.com/PDillis/3d7b10163802f640e58003fef5d8a811"
      ],
      "execution_count": 0,
      "outputs": []
    }
  ]
}