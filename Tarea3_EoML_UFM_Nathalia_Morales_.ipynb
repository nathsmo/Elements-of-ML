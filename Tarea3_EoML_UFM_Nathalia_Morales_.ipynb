{
  "nbformat": 4,
  "nbformat_minor": 0,
  "metadata": {
    "colab": {
      "name": "Tarea3-EoML-UFM Nathalia Morales .ipynb",
      "version": "0.3.2",
      "provenance": [],
      "collapsed_sections": [],
      "include_colab_link": true
    },
    "kernelspec": {
      "name": "python3",
      "display_name": "Python 3"
    }
  },
  "cells": [
    {
      "cell_type": "markdown",
      "metadata": {
        "id": "view-in-github",
        "colab_type": "text"
      },
      "source": [
        "<a href=\"https://colab.research.google.com/github/nathsmo/Elements-of-ML/blob/master/Tarea3_EoML_UFM_Nathalia_Morales_.ipynb\" target=\"_parent\"><img src=\"https://colab.research.google.com/assets/colab-badge.svg\" alt=\"Open In Colab\"/></a>"
      ]
    },
    {
      "cell_type": "markdown",
      "metadata": {
        "id": "CN8YE4qhcsCu",
        "colab_type": "text"
      },
      "source": [
        "# Problemas conceptuales\n",
        "\n"
      ]
    },
    {
      "cell_type": "markdown",
      "metadata": {
        "id": "jq04sm8uixIA",
        "colab_type": "text"
      },
      "source": [
        "1.   Lee la sección 4.4.2 del libro Elements of Machine Learning. Trata sobre el uso de análisis de varianza en una base de datos de una enfermedad del corazón. Describe en qué consiste este análisis.\n",
        "2.   Haz un resumen de la sección 4.5 del libro Introduction to Statistical Learning. Puedes describir las ventajas y desventajas de cada método de clasificación en un cuadro diagrama o en prosa. Además, describe los seis escenarios mostrados en la lectura y sintetiza cuáles fueron las razones por las que cada método fue mejor o peor que otros.\n",
        "3.   Problema 7 del capítulo 4 de Introduction to Statistical Learning\n",
        "\n"
      ]
    },
    {
      "cell_type": "markdown",
      "metadata": {
        "id": "ucaVOliGQcvU",
        "colab_type": "text"
      },
      "source": [
        "\n",
        "# Respuestas\n",
        "1. El análisis se trata sobre el modelo de la regressión logística aplicado en el estudio de: Coronary Risk-Factor Study (CORIS), el objetivo del estudio era establecer la intensidad del \"ischemic heart disease risk factors\" en un área de alta incidencia.\n",
        "2. Chapter 6 illustrates how the 6 models work and what they require as inputs. Some notes:\n",
        "  * Though their motivations differ, the logistic regression and LDA methods are closely connected. Both logistic regression and LDA produce linear decision boundaries.\n",
        "  * LDA assumes that the observations are drawn from a Gaussian distribution with a common covariance matrix in each class, and so can provide some improvements over logistic regression when this assumption approximately holds.\n",
        "  * Logistic regression can outperform LDA if these Gaussian assumptions are not met.\n",
        "  * KNN is a completely non-parametric approach: no assumptions are made about the shape of the decision boundary. Therefore, we can expect this approach to dominate LDA and logistic regression when the decision boundary is highly non-linear.\n",
        "  * On the other hand, KNN does not tell which predictors are important.\n",
        "  * QDA servers as a compromise between the non-parametric KNN method and the linear LDA and logistic regression approaches. Since QDA assumes a quadratic decision boundary, it can accurately model a wider range of problems than can the linear methods.\n",
        "  * QDA can perform better in the presence of a limited number of training observations because it does make some assumptions about the form of the decision boundary.\n",
        "  * THe six examples illustrate that no one method will dominate the others in every situation. \n",
        "  * True decision boundaries are linear, then the LDA and logistic regression approaches will tend to perform well.\n",
        "  * Boundaries are moderately non-linear, QDA may give better results.\n",
        "  * Complicated decision boundaries, a non-parametric approach such as KNN can be superior.\n",
        "\n",
        "3. La respuesta es 0.75, para conseguir la respuesta solo se mete el X = 4 a la ecuación 4.12 y meterlo en una calculadora."
      ]
    },
    {
      "cell_type": "markdown",
      "metadata": {
        "id": "Oec-WOEKczO0",
        "colab_type": "text"
      },
      "source": [
        "# Problema aplicado"
      ]
    },
    {
      "cell_type": "markdown",
      "metadata": {
        "id": "u8ySwZStln1B",
        "colab_type": "text"
      },
      "source": [
        "Utiliza la base de datos Auto en http://www-bcf.usc.edu/~gareth/ISL/data.html para predecir si un carro tiene alto o bajo consumo de gasolina.\n",
        "\n",
        "\n",
        "1.   Crea una variable binaria mpg01 que contiene 1 si mpg tiene un valor mayor a la mediana y 0 si tiene un valor menor a la mediana. Haz un nuevo dataset con esta columna y otras variables importantes del dataset original de auto.\n",
        "2.   Usa representaciones gráficas como gráficas de dispersión y diagramas de cajas para investigar qué otras variables están asociadas a mpg01.\n",
        "3.   Separa los datos en de entrenamiento y de prueba.\n",
        "4.   Queremos predecir mpg01. Utiliza las variables que según tu análisis en b) estaban más asociadas como predictores. Harás más de cuatro modelos, uno con LDA, luego QDA, luego regresión logística y por último KNN (con diferentes valores de k).\n",
        "5.   Calcula el error de prueba de cada modelo y compáralos. Qué método de clasificación es tu preferido? Argumenta tu respuesta como si fuera un escenario de la sección 4.5 del libro\n",
        "\n"
      ]
    },
    {
      "cell_type": "code",
      "metadata": {
        "id": "dA4z7k4llnj9",
        "colab_type": "code",
        "colab": {}
      },
      "source": [
        "%matplotlib inline\n",
        "import matplotlib.pyplot as plt\n",
        "plt.style.use('seaborn-whitegrid')\n",
        "import pandas as pd\n",
        "import numpy as np\n",
        "import statsmodels.api as sm\n",
        "from sklearn.discriminant_analysis import QuadraticDiscriminantAnalysis\n",
        "from sklearn.model_selection import train_test_split\n",
        "from sklearn.neighbors import KNeighborsClassifier  \n",
        "from sklearn.linear_model import LinearRegression\n",
        "from sklearn.linear_model import LogisticRegression\n",
        "df = pd.read_csv('http://www-bcf.usc.edu/~gareth/ISL/Auto.csv', sep = ',')\n",
        "df = pd.DataFrame(data=df)"
      ],
      "execution_count": 0,
      "outputs": []
    },
    {
      "cell_type": "markdown",
      "metadata": {
        "id": "T9oTZcGy95KT",
        "colab_type": "text"
      },
      "source": [
        "## 1"
      ]
    },
    {
      "cell_type": "code",
      "metadata": {
        "id": "36SDcsuGh9rn",
        "colab_type": "code",
        "colab": {}
      },
      "source": [
        "mpg_median = df[\"mpg\"].median()\n",
        "dt = df\n",
        "dt['mpg01'] = np.where(dt['mpg']>mpg_median, 1, 0)\n",
        "dt = dt.drop(['name','mpg'], axis=1)"
      ],
      "execution_count": 0,
      "outputs": []
    },
    {
      "cell_type": "markdown",
      "metadata": {
        "id": "jBhMCfjO981E",
        "colab_type": "text"
      },
      "source": [
        "## 2\n",
        "\n"
      ]
    },
    {
      "cell_type": "code",
      "metadata": {
        "id": "aXH-pq7UjpbX",
        "colab_type": "code",
        "outputId": "534ab71d-1913-4570-91ee-d5ed73ae4a2c",
        "colab": {
          "base_uri": "https://localhost:8080/",
          "height": 265
        }
      },
      "source": [
        "x = dt['displacement']\n",
        "y = dt['acceleration']\n",
        "\n",
        "plt.plot(x, y, 'o', color='black');"
      ],
      "execution_count": 0,
      "outputs": [
        {
          "output_type": "display_data",
          "data": {
            "image/png": "[encoded data removed]",
            "text/plain": [
              "<Figure size 432x288 with 1 Axes>"
            ]
          },
          "metadata": {
            "tags": []
          }
        }
      ]
    },
    {
      "cell_type": "code",
      "metadata": {
        "id": "aZmDWLhJn8J4",
        "colab_type": "code",
        "outputId": "2862c759-6768-4e8a-bde2-4959fbc39adc",
        "colab": {
          "base_uri": "https://localhost:8080/",
          "height": 265
        }
      },
      "source": [
        "x = dt['displacement']\n",
        "y = dt['weight']\n",
        "\n",
        "plt.plot(x, y, 'o', color='black');"
      ],
      "execution_count": 0,
      "outputs": [
        {
          "output_type": "display_data",
          "data": {
            "image/png": "[encoded data removed]",
            "text/plain": [
              "<Figure size 432x288 with 1 Axes>"
            ]
          },
          "metadata": {
            "tags": []
          }
        }
      ]
    },
    {
      "cell_type": "code",
      "metadata": {
        "id": "1pJ-hvCknRvn",
        "colab_type": "code",
        "outputId": "2099afc2-6144-418d-b12e-161ab481a757",
        "colab": {
          "base_uri": "https://localhost:8080/",
          "height": 265
        }
      },
      "source": [
        "x = dt['acceleration']\n",
        "y = dt['weight']\n",
        "\n",
        "plt.plot(x, y, 'o', color='black');"
      ],
      "execution_count": 0,
      "outputs": [
        {
          "output_type": "display_data",
          "data": {
            "image/png": "[encoded data removed]",
            "text/plain": [
              "<Figure size 432x288 with 1 Axes>"
            ]
          },
          "metadata": {
            "tags": []
          }
        }
      ]
    },
    {
      "cell_type": "code",
      "metadata": {
        "id": "OjEpDUsXoSY5",
        "colab_type": "code",
        "outputId": "9cf2f724-c4a8-47c5-d217-1b50f6287459",
        "colab": {
          "base_uri": "https://localhost:8080/",
          "height": 265
        }
      },
      "source": [
        "x = dt['weight']\n",
        "y = dt['horsepower']\n",
        "\n",
        "plt.plot(x, y, 'o', color='black');"
      ],
      "execution_count": 0,
      "outputs": [
        {
          "output_type": "display_data",
          "data": {
            "image/png": "[encoded data removed]",
            "text/plain": [
              "<Figure size 432x288 with 1 Axes>"
            ]
          },
          "metadata": {
            "tags": []
          }
        }
      ]
    },
    {
      "cell_type": "code",
      "metadata": {
        "id": "q4WY9heE76oj",
        "colab_type": "code",
        "outputId": "93868867-e6fe-45e3-9fcc-5cc27455c457",
        "colab": {
          "base_uri": "https://localhost:8080/",
          "height": 265
        }
      },
      "source": [
        "x = dt['acceleration']\n",
        "y = dt['year']\n",
        "\n",
        "plt.plot(x, y, 'o', color='black');"
      ],
      "execution_count": 0,
      "outputs": [
        {
          "output_type": "display_data",
          "data": {
            "image/png": "[encoded data removed]",
            "text/plain": [
              "<Figure size 432x288 with 1 Axes>"
            ]
          },
          "metadata": {
            "tags": []
          }
        }
      ]
    },
    {
      "cell_type": "markdown",
      "metadata": {
        "id": "Z59kUVwP-ACQ",
        "colab_type": "text"
      },
      "source": [
        "## 3"
      ]
    },
    {
      "cell_type": "code",
      "metadata": {
        "id": "GbiK7Dsx-CG8",
        "colab_type": "code",
        "colab": {}
      },
      "source": [
        "y = dt['mpg01']\n",
        "X = dt.drop(columns=['mpg01'])\n",
        "X['displacement'] =  X['displacement'].astype(int)\n",
        "X=X.replace('?', np.nan)\n",
        "X[\"horsepower\"] = X[\"horsepower\"].fillna(0).astype(int)\n",
        "X['horsepower'] =  X['horsepower'].astype(int)\n",
        "X['horsepower'].unique()"
      ],
      "execution_count": 0,
      "outputs": []
    },
    {
      "cell_type": "code",
      "metadata": {
        "id": "I6biA4_E8pMm",
        "colab_type": "code",
        "colab": {}
      },
      "source": [
        "X_train, X_test, y_train, y_test = train_test_split(X, y, test_size=0.2)"
      ],
      "execution_count": 0,
      "outputs": []
    },
    {
      "cell_type": "markdown",
      "metadata": {
        "id": "v0UqABQ3-neL",
        "colab_type": "text"
      },
      "source": [
        "## 4 y 5"
      ]
    },
    {
      "cell_type": "code",
      "metadata": {
        "id": "h6A5UXb2-mtx",
        "colab_type": "code",
        "outputId": "7680f0b3-d9c3-4a85-8569-66e63fc78054",
        "colab": {
          "base_uri": "https://localhost:8080/",
          "height": 34
        }
      },
      "source": [
        "## LDA\n",
        "lm = LinearRegression()\n",
        "model = lm.fit(X_train, y_train)\n",
        "predictions = lm.predict(X_test)\n",
        "print(\"Score:\", model.score(X_test, y_test))"
      ],
      "execution_count": 0,
      "outputs": [
        {
          "output_type": "stream",
          "text": [
            "Score: 0.4833169486177954\n"
          ],
          "name": "stdout"
        }
      ]
    },
    {
      "cell_type": "code",
      "metadata": {
        "id": "vAQu-L_wwDFA",
        "colab_type": "code",
        "outputId": "54669fcc-a42b-42ea-8ff5-65c6bcbd7935",
        "colab": {
          "base_uri": "https://localhost:8080/",
          "height": 34
        }
      },
      "source": [
        "## QDA\n",
        "clf = QuadraticDiscriminantAnalysis()\n",
        "model = clf.fit(X_train, y_train)\n",
        "predictions = clf.predict(X_test)\n",
        "print(\"Score:\", model.score(X_test, y_test))\n"
      ],
      "execution_count": 0,
      "outputs": [
        {
          "output_type": "stream",
          "text": [
            "Score: 0.8\n"
          ],
          "name": "stdout"
        }
      ]
    },
    {
      "cell_type": "code",
      "metadata": {
        "id": "4C2a8PeIwDJH",
        "colab_type": "code",
        "outputId": "9a4d2f90-3a57-414f-e162-b1127d31d159",
        "colab": {
          "base_uri": "https://localhost:8080/",
          "height": 88
        }
      },
      "source": [
        "## Logistic Regression\n",
        "logreg = LogisticRegression()\n",
        "model = logreg.fit(X_train, y_train)\n",
        "predictions = logreg.predict(X_test)\n",
        "print(\"Score:\", model.score(X_test, y_test))"
      ],
      "execution_count": 0,
      "outputs": [
        {
          "output_type": "stream",
          "text": [
            "Score: 0.85\n"
          ],
          "name": "stdout"
        },
        {
          "output_type": "stream",
          "text": [
            "/usr/local/lib/python3.6/dist-packages/sklearn/linear_model/logistic.py:433: FutureWarning: Default solver will be changed to 'lbfgs' in 0.22. Specify a solver to silence this warning.\n",
            "  FutureWarning)\n"
          ],
          "name": "stderr"
        }
      ]
    },
    {
      "cell_type": "code",
      "metadata": {
        "id": "XENtiGpNwDQX",
        "colab_type": "code",
        "outputId": "724fb3cd-0ebe-4250-d1a8-08a33d635027",
        "colab": {
          "base_uri": "https://localhost:8080/",
          "height": 34
        }
      },
      "source": [
        "## KNN\n",
        "### Different k values\n",
        "knn = KNeighborsClassifier(n_neighbors=5)  \n",
        "knn.fit(X_train, y_train)  \n",
        "print(\"Score:\", knn.score(X_test, y_test))"
      ],
      "execution_count": 0,
      "outputs": [
        {
          "output_type": "stream",
          "text": [
            "Score: 0.7875\n"
          ],
          "name": "stdout"
        }
      ]
    },
    {
      "cell_type": "code",
      "metadata": {
        "id": "NAmxM7-n8pG0",
        "colab_type": "code",
        "outputId": "23b342cd-69ec-4903-8be5-f81b8fb88f8d",
        "colab": {
          "base_uri": "https://localhost:8080/",
          "height": 34
        }
      },
      "source": [
        "knn = KNeighborsClassifier(n_neighbors=10)  \n",
        "knn.fit(X_train, y_train)  \n",
        "print(\"Score:\", knn.score(X_test, y_test))"
      ],
      "execution_count": 0,
      "outputs": [
        {
          "output_type": "stream",
          "text": [
            "Score: 0.7625\n"
          ],
          "name": "stdout"
        }
      ]
    },
    {
      "cell_type": "code",
      "metadata": {
        "id": "CDTpT82j8zzl",
        "colab_type": "code",
        "outputId": "fc037819-0fc4-4d6c-99e8-9c8e85605c66",
        "colab": {
          "base_uri": "https://localhost:8080/",
          "height": 34
        }
      },
      "source": [
        "knn = KNeighborsClassifier(n_neighbors=15)  \n",
        "knn.fit(X_train, y_train)  \n",
        "print(\"Score:\", knn.score(X_test, y_test))"
      ],
      "execution_count": 0,
      "outputs": [
        {
          "output_type": "stream",
          "text": [
            "Score: 0.8\n"
          ],
          "name": "stdout"
        }
      ]
    },
    {
      "cell_type": "code",
      "metadata": {
        "id": "GdQcvWHw82Gt",
        "colab_type": "code",
        "outputId": "c38f9f38-955d-4227-d595-2cdecb7ae707",
        "colab": {
          "base_uri": "https://localhost:8080/",
          "height": 34
        }
      },
      "source": [
        "knn = KNeighborsClassifier(n_neighbors=50)  \n",
        "knn.fit(X_train, y_train)  \n",
        "print(\"Score:\", knn.score(X_test, y_test))"
      ],
      "execution_count": 0,
      "outputs": [
        {
          "output_type": "stream",
          "text": [
            "Score: 0.8\n"
          ],
          "name": "stdout"
        }
      ]
    },
    {
      "cell_type": "markdown",
      "metadata": {
        "id": "pnYgLhRG-pIP",
        "colab_type": "text"
      },
      "source": [
        "## 5 Conclusiones"
      ]
    },
    {
      "cell_type": "markdown",
      "metadata": {
        "id": "NEPNbd9HBfjk",
        "colab_type": "text"
      },
      "source": [
        " Qué método de clasificación es tu preferido? Argumenta tu respuesta como si fuera un escenario de la sección 4.5 del libro"
      ]
    },
    {
      "cell_type": "markdown",
      "metadata": {
        "id": "ahEkO-mi8j_G",
        "colab_type": "text"
      },
      "source": [
        "* La regression logistica tiene el mejor resultado, sin embargo me gusta mas la adaptacion del modelo de K nearest Neighbours. Tambien por otra parte QDA tiene el mejor score que el numero limite (porque a partir de el no cambia) que el de KNN.\n",
        "* Para el caso en el que lo estamos probando se puede notar que la data entre displacement y el peso esta tiene forma linear, iguamente varios de los datos parecen tener ese patron, e incluso en el scatterplot de acceleracion y peso se nota una curva lineal en los datos. Aun cuando LDA no pudo predecir los daots, significa que los datos si tienen un tipo de relacion entre ellos que puede ser encontrado en cluster, por esta razon creo que el mejor modelo para la data seria la regression logistica porque parece que la data no cumple con los requisitos de una distribucion gaussiana pero si tiene otro tipo de relacion."
      ]
    }
  ]
}