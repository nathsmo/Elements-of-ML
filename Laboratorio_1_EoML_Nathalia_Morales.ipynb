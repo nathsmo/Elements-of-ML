{
  "nbformat": 4,
  "nbformat_minor": 0,
  "metadata": {
    "colab": {
      "name": "Laboratorio 1 - EoML Nathalia Morales.ipynb",
      "version": "0.3.2",
      "provenance": [],
      "collapsed_sections": [
        "JndnmDMp66FL"
      ],
      "include_colab_link": true
    }
  },
  "cells": [
    {
      "cell_type": "markdown",
      "metadata": {
        "id": "view-in-github",
        "colab_type": "text"
      },
      "source": [
        "<a href=\"https://colab.research.google.com/github/nathsmo/Elements-of-ML/blob/master/Laboratorio_1_EoML_Nathalia_Morales.ipynb\" target=\"_parent\"><img src=\"https://colab.research.google.com/assets/colab-badge.svg\" alt=\"Open In Colab\"/></a>"
      ]
    },
    {
      "cell_type": "markdown",
      "metadata": {
        "id": "JndnmDMp66FL",
        "colab_type": "text"
      },
      "source": [
        "#### Copyright 2017 Google LLC."
      ]
    },
    {
      "cell_type": "code",
      "metadata": {
        "id": "hMqWDc_m6rUC",
        "colab_type": "code",
        "cellView": "both",
        "colab": {}
      },
      "source": [
        "# Licensed under the Apache License, Version 2.0 (the \"License\");\n",
        "# you may not use this file except in compliance with the License.\n",
        "# You may obtain a copy of the License at\n",
        "#\n",
        "# https://www.apache.org/licenses/LICENSE-2.0\n",
        "#\n",
        "# Unless required by applicable law or agreed to in writing, software\n",
        "# distributed under the License is distributed on an \"AS IS\" BASIS,\n",
        "# WITHOUT WARRANTIES OR CONDITIONS OF ANY KIND, either express or implied.\n",
        "# See the License for the specific language governing permissions and\n",
        "# limitations under the License."
      ],
      "execution_count": 0,
      "outputs": []
    },
    {
      "cell_type": "markdown",
      "metadata": {
        "id": "L_axEqF3WnJq",
        "colab_type": "text"
      },
      "source": [
        "Referencia: https://research.google.com/seedbank/seed/5769015641243648"
      ]
    },
    {
      "cell_type": "markdown",
      "metadata": {
        "id": "4f3CKqFUqL2-",
        "colab_type": "text"
      },
      "source": [
        "#Lab 1: Loading and Understanding Your Data\n",
        "\n",
        "\n",
        "**Learning Objectives:**\n",
        "* Learn the basics of reading data with Pandas\n",
        "* Learn the basics of data cleaning and handling missing data using Pandas\n",
        "* Learning how to visualize data with a scatter plot\n",
        "* Use Numpy to generate the line minimizing squared loss\n",
        "* Explore visually the difference in the model when replacing missing items by 0s versus the mean value for that feature.\n",
        "\n"
      ]
    },
    {
      "cell_type": "markdown",
      "metadata": {
        "id": "if3EBefJeqKq",
        "colab_type": "text"
      },
      "source": [
        "## Data Set\n",
        "This lab will use a data set from 1985 Ward's Automotive Yearbook that is part of the [UCI Machine Learning Repository](https://archive.ics.uci.edu/ml/datasets) under [Automobile Data Set](https://archive.ics.uci.edu/ml/datasets/automobile).  You can find a description of the data at [https://archive.ics.uci.edu/ml/datasets/automobile](https://archive.ics.uci.edu/ml/datasets/automobile). "
      ]
    },
    {
      "cell_type": "markdown",
      "metadata": {
        "id": "h94BDSHgeKev",
        "colab_type": "text"
      },
      "source": [
        "## Imports\n",
        "In this first cell, we'll import some libraries, including Pandas that will be used later to read and load the data. Run this cell to execute the code."
      ]
    },
    {
      "cell_type": "code",
      "metadata": {
        "id": "6CspO1zVopXj",
        "colab_type": "code",
        "cellView": "both",
        "outputId": "d000e99d-9642-4283-ccaa-7e3ea9fdee5f",
        "colab": {
          "base_uri": "https://localhost:8080/",
          "height": 34
        }
      },
      "source": [
        "import math\n",
        "\n",
        "from IPython import display\n",
        "from matplotlib import cm\n",
        "from matplotlib import gridspec\n",
        "from matplotlib import pyplot as plt\n",
        "import numpy as np\n",
        "import pandas as pd\n",
        "## Las siguientes las he comentado porque no aparecen en el resto del lab\n",
        "# from mpl_toolkits.mplot3d import Axes3D\n",
        "from sklearn import metrics\n",
        "# import tensorflow as tf\n",
        "# from tensorflow.contrib.learn.python.learn import learn_io, estimator\n",
        "\n",
        "# This line increasing the amount of logging when there is an error.  You can\n",
        "# remove it if you want less logging\n",
        "#tf.logging.set_verbosity(tf.logging.ERROR)\n",
        "\n",
        "print \"Done with the imports.\""
      ],
      "execution_count": 0,
      "outputs": [
        {
          "output_type": "stream",
          "text": [
            "Done with the imports.\n"
          ],
          "name": "stdout"
        }
      ]
    },
    {
      "cell_type": "markdown",
      "metadata": {
        "id": "gH_CmiFUfECG",
        "colab_type": "text"
      },
      "source": [
        "## Pandas -- Python Data Analysis Library\n",
        "\n",
        "We are using a package called [Pandas](http://pandas.pydata.org/) for reading in our data, exploring our data and doing some basic processing.  First \n",
        "we set up some options to control how items are displayed and the maximum number of rows to show when displaying a table.  Feel free to change this setup to whatever you'd like.\n",
        "\n",
        "As illustrated below, in colab you can define code cells that do not generate any output. In fact, the first cell would also have been that way except for the `print` statement at the end added just to help illustrate this aspect of colab. If at any point you are not sure if a cell is successfully running, you can add a print statement, but that should not be necessary since you can visually see when the cell is done running when the arrow is showing again. Also note that when you select the next cell the number showing the execution order of the cell appears."
      ]
    },
    {
      "cell_type": "code",
      "metadata": {
        "id": "nkipsYVxfDv4",
        "colab_type": "code",
        "colab": {}
      },
      "source": [
        "# Set the output display to have one digit for decimal places, for display\n",
        "# readability only and limit it to printing 15 rows.\n",
        "pd.options.display.float_format = '{:.2f}'.format\n",
        "pd.options.display.max_rows = 15"
      ],
      "execution_count": 0,
      "outputs": []
    },
    {
      "cell_type": "markdown",
      "metadata": {
        "id": "F9TLXouIfYQI",
        "colab_type": "text"
      },
      "source": [
        "### Loading the Data Set with Pandas\n",
        "The car data set we will be using in this lab is provided as a comma separated file without a header row.  In order, for each column to have a meaningful header name we must provide it.  We get the information about the columns from [Automobile Data Set](https://archive.ics.uci.edu/ml/datasets/automobile)\n"
      ]
    },
    {
      "cell_type": "code",
      "metadata": {
        "id": "wXuaBqVufYF4",
        "colab_type": "code",
        "outputId": "11d8db79-6838-4140-9a3e-2e839fa6a461",
        "colab": {
          "base_uri": "https://localhost:8080/",
          "height": 34
        }
      },
      "source": [
        "# Provide the names for the columns since the CSV file with the data does\n",
        "# not have a header row.\n",
        "cols = ['symboling', 'losses', 'make', 'fuel-type', 'aspiration', 'num-doors',\n",
        "        'body-style', 'drive-wheels', 'engine-location', 'wheel-base',\n",
        "        'length', 'width', 'height', 'weight', 'engine-type', 'num-cylinders',\n",
        "        'engine-size', 'fuel-system', 'bore', 'stroke', 'compression-ratio',\n",
        "        'horsepower', 'peak-rpm', 'city-mpg', 'highway-mpg', 'price']\n",
        "\n",
        "\n",
        "# Load in the data from a CSV file that is comma seperated.\n",
        "car_data = pd.read_csv('https://storage.googleapis.com/ml_universities/cars_dataset/cars_data.csv',\n",
        "                        sep=',', names=cols, header=None, encoding='latin-1')\n",
        "\n",
        "print \"Data set loaded.\""
      ],
      "execution_count": 0,
      "outputs": [
        {
          "output_type": "stream",
          "text": [
            "Data set loaded.\n"
          ],
          "name": "stdout"
        }
      ]
    },
    {
      "cell_type": "markdown",
      "metadata": {
        "id": "XjcmbmZEZ2FQ",
        "colab_type": "text"
      },
      "source": [
        "* Para importar desde disco local:"
      ]
    },
    {
      "cell_type": "code",
      "metadata": {
        "id": "krVVqGMjZ6Sr",
        "colab_type": "code",
        "outputId": "ad8ed86d-2401-404b-cf8e-47e405bfe340",
        "colab": {
          "resources": {
            "http://localhost:8080/nbextensions/google.colab/files.js": {
              "data": "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",
              "ok": true,
              "headers": [
                [
                  "content-type",
                  "application/javascript"
                ]
              ],
              "status": 200,
              "status_text": ""
            }
          },
          "base_uri": "https://localhost:8080/",
          "height": 556
        }
      },
      "source": [
        "from google.colab import files\n",
        "uploaded = files.upload()"
      ],
      "execution_count": 0,
      "outputs": [
        {
          "output_type": "display_data",
          "data": {
            "text/plain": [
              "<IPython.core.display.HTML object>"
            ],
            "text/html": [
              "\n",
              "     <input type=\"file\" id=\"files-b4a2a114-7da5-438c-b48d-3996844fc8eb\" name=\"files[]\" multiple disabled />\n",
              "     <output id=\"result-b4a2a114-7da5-438c-b48d-3996844fc8eb\">\n",
              "      Upload widget is only available when the cell has been executed in the\n",
              "      current browser session. Please rerun this cell to enable.\n",
              "      </output>\n",
              "      <script src=\"/nbextensions/google.colab/files.js\"></script> "
            ]
          },
          "metadata": {
            "tags": []
          }
        },
        {
          "output_type": "error",
          "ename": "KeyboardInterrupt",
          "evalue": "ignored",
          "traceback": [
            "\u001b[0;31m\u001b[0m",
            "\u001b[0;31mKeyboardInterrupt\u001b[0mTraceback (most recent call last)",
            "\u001b[0;32m<ipython-input-5-21dc3c638f66>\u001b[0m in \u001b[0;36m<module>\u001b[0;34m()\u001b[0m\n\u001b[1;32m      1\u001b[0m \u001b[0;32mfrom\u001b[0m \u001b[0mgoogle\u001b[0m\u001b[0;34m.\u001b[0m\u001b[0mcolab\u001b[0m \u001b[0;32mimport\u001b[0m \u001b[0mfiles\u001b[0m\u001b[0;34m\u001b[0m\u001b[0m\n\u001b[0;32m----> 2\u001b[0;31m \u001b[0muploaded\u001b[0m \u001b[0;34m=\u001b[0m \u001b[0mfiles\u001b[0m\u001b[0;34m.\u001b[0m\u001b[0mupload\u001b[0m\u001b[0;34m(\u001b[0m\u001b[0;34m)\u001b[0m\u001b[0;34m\u001b[0m\u001b[0m\n\u001b[0m",
            "\u001b[0;32m/usr/local/lib/python2.7/dist-packages/google/colab/files.pyc\u001b[0m in \u001b[0;36mupload\u001b[0;34m()\u001b[0m\n\u001b[1;32m     62\u001b[0m   result = _output.eval_js(\n\u001b[1;32m     63\u001b[0m       'google.colab._files._uploadFiles(\"{input_id}\", \"{output_id}\")'.format(\n\u001b[0;32m---> 64\u001b[0;31m           input_id=input_id, output_id=output_id))\n\u001b[0m\u001b[1;32m     65\u001b[0m   \u001b[0mfiles\u001b[0m \u001b[0;34m=\u001b[0m \u001b[0m_collections\u001b[0m\u001b[0;34m.\u001b[0m\u001b[0mdefaultdict\u001b[0m\u001b[0;34m(\u001b[0m\u001b[0m_six\u001b[0m\u001b[0;34m.\u001b[0m\u001b[0mbinary_type\u001b[0m\u001b[0;34m)\u001b[0m\u001b[0;34m\u001b[0m\u001b[0m\n\u001b[1;32m     66\u001b[0m   \u001b[0;31m# Mapping from original filename to filename as saved locally.\u001b[0m\u001b[0;34m\u001b[0m\u001b[0;34m\u001b[0m\u001b[0m\n",
            "\u001b[0;32m/usr/local/lib/python2.7/dist-packages/google/colab/output/_js.pyc\u001b[0m in \u001b[0;36meval_js\u001b[0;34m(script, ignore_result)\u001b[0m\n\u001b[1;32m     37\u001b[0m   \u001b[0;32mif\u001b[0m \u001b[0mignore_result\u001b[0m\u001b[0;34m:\u001b[0m\u001b[0;34m\u001b[0m\u001b[0m\n\u001b[1;32m     38\u001b[0m     \u001b[0;32mreturn\u001b[0m\u001b[0;34m\u001b[0m\u001b[0m\n\u001b[0;32m---> 39\u001b[0;31m   \u001b[0;32mreturn\u001b[0m \u001b[0m_message\u001b[0m\u001b[0;34m.\u001b[0m\u001b[0mread_reply_from_input\u001b[0m\u001b[0;34m(\u001b[0m\u001b[0mrequest_id\u001b[0m\u001b[0;34m)\u001b[0m\u001b[0;34m\u001b[0m\u001b[0m\n\u001b[0m\u001b[1;32m     40\u001b[0m \u001b[0;34m\u001b[0m\u001b[0m\n\u001b[1;32m     41\u001b[0m \u001b[0;34m\u001b[0m\u001b[0m\n",
            "\u001b[0;32m/usr/local/lib/python2.7/dist-packages/google/colab/_message.pyc\u001b[0m in \u001b[0;36mread_reply_from_input\u001b[0;34m(message_id, timeout_sec)\u001b[0m\n\u001b[1;32m     99\u001b[0m     \u001b[0mreply\u001b[0m \u001b[0;34m=\u001b[0m \u001b[0m_read_next_input_message\u001b[0m\u001b[0;34m(\u001b[0m\u001b[0;34m)\u001b[0m\u001b[0;34m\u001b[0m\u001b[0m\n\u001b[1;32m    100\u001b[0m     \u001b[0;32mif\u001b[0m \u001b[0mreply\u001b[0m \u001b[0;34m==\u001b[0m \u001b[0m_NOT_READY\u001b[0m \u001b[0;32mor\u001b[0m \u001b[0;32mnot\u001b[0m \u001b[0misinstance\u001b[0m\u001b[0;34m(\u001b[0m\u001b[0mreply\u001b[0m\u001b[0;34m,\u001b[0m \u001b[0mdict\u001b[0m\u001b[0;34m)\u001b[0m\u001b[0;34m:\u001b[0m\u001b[0;34m\u001b[0m\u001b[0m\n\u001b[0;32m--> 101\u001b[0;31m       \u001b[0mtime\u001b[0m\u001b[0;34m.\u001b[0m\u001b[0msleep\u001b[0m\u001b[0;34m(\u001b[0m\u001b[0;36m0.025\u001b[0m\u001b[0;34m)\u001b[0m\u001b[0;34m\u001b[0m\u001b[0m\n\u001b[0m\u001b[1;32m    102\u001b[0m       \u001b[0;32mcontinue\u001b[0m\u001b[0;34m\u001b[0m\u001b[0m\n\u001b[1;32m    103\u001b[0m     if (reply.get('type') == 'colab_reply' and\n",
            "\u001b[0;31mKeyboardInterrupt\u001b[0m: "
          ]
        }
      ]
    },
    {
      "cell_type": "markdown",
      "metadata": {
        "id": "X_vVBpqSaHSr",
        "colab_type": "text"
      },
      "source": [
        "Para cargarlo ahora como DataFrame:"
      ]
    },
    {
      "cell_type": "code",
      "metadata": {
        "id": "DP5NJW7QaF-1",
        "colab_type": "code",
        "colab": {}
      },
      "source": [
        "import io\n",
        "\n",
        "df2 = pd.read_csv(io.StringIO(uploaded['car.csv']))\n",
        "\n",
        "# Dataset is now stored in a Pandas Dataframe"
      ],
      "execution_count": 0,
      "outputs": []
    },
    {
      "cell_type": "markdown",
      "metadata": {
        "id": "xjSbBmN5a3IQ",
        "colab_type": "text"
      },
      "source": [
        "Para importar desde otras fuentes, ver este link: https://towardsdatascience.com/3-ways-to-load-csv-files-into-colab-7c14fcbdcb92"
      ]
    },
    {
      "cell_type": "markdown",
      "metadata": {
        "id": "HzzlSs3PtTmt",
        "colab_type": "text"
      },
      "source": [
        "### Examine the Data\n",
        "\n",
        "It's a good idea to get to know your data a little bit before you work with it. Let's look at the header row and the first 10 rows of data.\n"
      ]
    },
    {
      "cell_type": "code",
      "metadata": {
        "id": "tVmE-kNotzWG",
        "colab_type": "code",
        "outputId": "fbd82394-8a0d-481f-91bb-a0aaa1b488ee",
        "colab": {
          "base_uri": "https://localhost:8080/",
          "height": 433
        }
      },
      "source": [
        "car_data[1:10]"
      ],
      "execution_count": 0,
      "outputs": [
        {
          "output_type": "execute_result",
          "data": {
            "text/html": [
              "<div>\n",
              "<style scoped>\n",
              "    .dataframe tbody tr th:only-of-type {\n",
              "        vertical-align: middle;\n",
              "    }\n",
              "\n",
              "    .dataframe tbody tr th {\n",
              "        vertical-align: top;\n",
              "    }\n",
              "\n",
              "    .dataframe thead th {\n",
              "        text-align: right;\n",
              "    }\n",
              "</style>\n",
              "<table border=\"1\" class=\"dataframe\">\n",
              "  <thead>\n",
              "    <tr style=\"text-align: right;\">\n",
              "      <th></th>\n",
              "      <th>symboling</th>\n",
              "      <th>losses</th>\n",
              "      <th>make</th>\n",
              "      <th>fuel-type</th>\n",
              "      <th>aspiration</th>\n",
              "      <th>num-doors</th>\n",
              "      <th>body-style</th>\n",
              "      <th>drive-wheels</th>\n",
              "      <th>engine-location</th>\n",
              "      <th>wheel-base</th>\n",
              "      <th>...</th>\n",
              "      <th>engine-size</th>\n",
              "      <th>fuel-system</th>\n",
              "      <th>bore</th>\n",
              "      <th>stroke</th>\n",
              "      <th>compression-ratio</th>\n",
              "      <th>horsepower</th>\n",
              "      <th>peak-rpm</th>\n",
              "      <th>city-mpg</th>\n",
              "      <th>highway-mpg</th>\n",
              "      <th>price</th>\n",
              "    </tr>\n",
              "  </thead>\n",
              "  <tbody>\n",
              "    <tr>\n",
              "      <th>1</th>\n",
              "      <td>3</td>\n",
              "      <td>?</td>\n",
              "      <td>alfa-romero</td>\n",
              "      <td>gas</td>\n",
              "      <td>std</td>\n",
              "      <td>two</td>\n",
              "      <td>convertible</td>\n",
              "      <td>rwd</td>\n",
              "      <td>front</td>\n",
              "      <td>88.60</td>\n",
              "      <td>...</td>\n",
              "      <td>130</td>\n",
              "      <td>mpfi</td>\n",
              "      <td>3.47</td>\n",
              "      <td>2.68</td>\n",
              "      <td>9.00</td>\n",
              "      <td>111</td>\n",
              "      <td>5000</td>\n",
              "      <td>21</td>\n",
              "      <td>27</td>\n",
              "      <td>16500</td>\n",
              "    </tr>\n",
              "    <tr>\n",
              "      <th>2</th>\n",
              "      <td>1</td>\n",
              "      <td>?</td>\n",
              "      <td>alfa-romero</td>\n",
              "      <td>gas</td>\n",
              "      <td>std</td>\n",
              "      <td>two</td>\n",
              "      <td>hatchback</td>\n",
              "      <td>rwd</td>\n",
              "      <td>front</td>\n",
              "      <td>94.50</td>\n",
              "      <td>...</td>\n",
              "      <td>152</td>\n",
              "      <td>mpfi</td>\n",
              "      <td>2.68</td>\n",
              "      <td>3.47</td>\n",
              "      <td>9.00</td>\n",
              "      <td>154</td>\n",
              "      <td>5000</td>\n",
              "      <td>19</td>\n",
              "      <td>26</td>\n",
              "      <td>16500</td>\n",
              "    </tr>\n",
              "    <tr>\n",
              "      <th>3</th>\n",
              "      <td>2</td>\n",
              "      <td>164</td>\n",
              "      <td>audi</td>\n",
              "      <td>gas</td>\n",
              "      <td>std</td>\n",
              "      <td>four</td>\n",
              "      <td>sedan</td>\n",
              "      <td>fwd</td>\n",
              "      <td>front</td>\n",
              "      <td>99.80</td>\n",
              "      <td>...</td>\n",
              "      <td>109</td>\n",
              "      <td>mpfi</td>\n",
              "      <td>3.19</td>\n",
              "      <td>3.40</td>\n",
              "      <td>10.00</td>\n",
              "      <td>102</td>\n",
              "      <td>5500</td>\n",
              "      <td>24</td>\n",
              "      <td>30</td>\n",
              "      <td>13950</td>\n",
              "    </tr>\n",
              "    <tr>\n",
              "      <th>4</th>\n",
              "      <td>2</td>\n",
              "      <td>164</td>\n",
              "      <td>audi</td>\n",
              "      <td>gas</td>\n",
              "      <td>std</td>\n",
              "      <td>four</td>\n",
              "      <td>sedan</td>\n",
              "      <td>4wd</td>\n",
              "      <td>front</td>\n",
              "      <td>99.40</td>\n",
              "      <td>...</td>\n",
              "      <td>136</td>\n",
              "      <td>mpfi</td>\n",
              "      <td>3.19</td>\n",
              "      <td>3.40</td>\n",
              "      <td>8.00</td>\n",
              "      <td>115</td>\n",
              "      <td>5500</td>\n",
              "      <td>18</td>\n",
              "      <td>22</td>\n",
              "      <td>17450</td>\n",
              "    </tr>\n",
              "    <tr>\n",
              "      <th>5</th>\n",
              "      <td>2</td>\n",
              "      <td>?</td>\n",
              "      <td>audi</td>\n",
              "      <td>gas</td>\n",
              "      <td>std</td>\n",
              "      <td>two</td>\n",
              "      <td>sedan</td>\n",
              "      <td>fwd</td>\n",
              "      <td>front</td>\n",
              "      <td>99.80</td>\n",
              "      <td>...</td>\n",
              "      <td>136</td>\n",
              "      <td>mpfi</td>\n",
              "      <td>3.19</td>\n",
              "      <td>3.40</td>\n",
              "      <td>8.50</td>\n",
              "      <td>110</td>\n",
              "      <td>5500</td>\n",
              "      <td>19</td>\n",
              "      <td>25</td>\n",
              "      <td>15250</td>\n",
              "    </tr>\n",
              "    <tr>\n",
              "      <th>6</th>\n",
              "      <td>1</td>\n",
              "      <td>158</td>\n",
              "      <td>audi</td>\n",
              "      <td>gas</td>\n",
              "      <td>std</td>\n",
              "      <td>four</td>\n",
              "      <td>sedan</td>\n",
              "      <td>fwd</td>\n",
              "      <td>front</td>\n",
              "      <td>105.80</td>\n",
              "      <td>...</td>\n",
              "      <td>136</td>\n",
              "      <td>mpfi</td>\n",
              "      <td>3.19</td>\n",
              "      <td>3.40</td>\n",
              "      <td>8.50</td>\n",
              "      <td>110</td>\n",
              "      <td>5500</td>\n",
              "      <td>19</td>\n",
              "      <td>25</td>\n",
              "      <td>17710</td>\n",
              "    </tr>\n",
              "    <tr>\n",
              "      <th>7</th>\n",
              "      <td>1</td>\n",
              "      <td>?</td>\n",
              "      <td>audi</td>\n",
              "      <td>gas</td>\n",
              "      <td>std</td>\n",
              "      <td>four</td>\n",
              "      <td>wagon</td>\n",
              "      <td>fwd</td>\n",
              "      <td>front</td>\n",
              "      <td>105.80</td>\n",
              "      <td>...</td>\n",
              "      <td>136</td>\n",
              "      <td>mpfi</td>\n",
              "      <td>3.19</td>\n",
              "      <td>3.40</td>\n",
              "      <td>8.50</td>\n",
              "      <td>110</td>\n",
              "      <td>5500</td>\n",
              "      <td>19</td>\n",
              "      <td>25</td>\n",
              "      <td>18920</td>\n",
              "    </tr>\n",
              "    <tr>\n",
              "      <th>8</th>\n",
              "      <td>1</td>\n",
              "      <td>158</td>\n",
              "      <td>audi</td>\n",
              "      <td>gas</td>\n",
              "      <td>turbo</td>\n",
              "      <td>four</td>\n",
              "      <td>sedan</td>\n",
              "      <td>fwd</td>\n",
              "      <td>front</td>\n",
              "      <td>105.80</td>\n",
              "      <td>...</td>\n",
              "      <td>131</td>\n",
              "      <td>mpfi</td>\n",
              "      <td>3.13</td>\n",
              "      <td>3.40</td>\n",
              "      <td>8.30</td>\n",
              "      <td>140</td>\n",
              "      <td>5500</td>\n",
              "      <td>17</td>\n",
              "      <td>20</td>\n",
              "      <td>23875</td>\n",
              "    </tr>\n",
              "    <tr>\n",
              "      <th>9</th>\n",
              "      <td>0</td>\n",
              "      <td>?</td>\n",
              "      <td>audi</td>\n",
              "      <td>gas</td>\n",
              "      <td>turbo</td>\n",
              "      <td>two</td>\n",
              "      <td>hatchback</td>\n",
              "      <td>4wd</td>\n",
              "      <td>front</td>\n",
              "      <td>99.50</td>\n",
              "      <td>...</td>\n",
              "      <td>131</td>\n",
              "      <td>mpfi</td>\n",
              "      <td>3.13</td>\n",
              "      <td>3.40</td>\n",
              "      <td>7.00</td>\n",
              "      <td>160</td>\n",
              "      <td>5500</td>\n",
              "      <td>16</td>\n",
              "      <td>22</td>\n",
              "      <td>?</td>\n",
              "    </tr>\n",
              "  </tbody>\n",
              "</table>\n",
              "<p>9 rows × 26 columns</p>\n",
              "</div>"
            ],
            "text/plain": [
              "   symboling losses         make fuel-type aspiration num-doors   body-style  \\\n",
              "1          3      ?  alfa-romero       gas        std       two  convertible   \n",
              "2          1      ?  alfa-romero       gas        std       two    hatchback   \n",
              "3          2    164         audi       gas        std      four        sedan   \n",
              "4          2    164         audi       gas        std      four        sedan   \n",
              "5          2      ?         audi       gas        std       two        sedan   \n",
              "6          1    158         audi       gas        std      four        sedan   \n",
              "7          1      ?         audi       gas        std      four        wagon   \n",
              "8          1    158         audi       gas      turbo      four        sedan   \n",
              "9          0      ?         audi       gas      turbo       two    hatchback   \n",
              "\n",
              "  drive-wheels engine-location  wheel-base  ...    engine-size  fuel-system  \\\n",
              "1          rwd           front       88.60  ...            130         mpfi   \n",
              "2          rwd           front       94.50  ...            152         mpfi   \n",
              "3          fwd           front       99.80  ...            109         mpfi   \n",
              "4          4wd           front       99.40  ...            136         mpfi   \n",
              "5          fwd           front       99.80  ...            136         mpfi   \n",
              "6          fwd           front      105.80  ...            136         mpfi   \n",
              "7          fwd           front      105.80  ...            136         mpfi   \n",
              "8          fwd           front      105.80  ...            131         mpfi   \n",
              "9          4wd           front       99.50  ...            131         mpfi   \n",
              "\n",
              "   bore  stroke compression-ratio horsepower  peak-rpm city-mpg highway-mpg  \\\n",
              "1  3.47    2.68              9.00        111      5000       21          27   \n",
              "2  2.68    3.47              9.00        154      5000       19          26   \n",
              "3  3.19    3.40             10.00        102      5500       24          30   \n",
              "4  3.19    3.40              8.00        115      5500       18          22   \n",
              "5  3.19    3.40              8.50        110      5500       19          25   \n",
              "6  3.19    3.40              8.50        110      5500       19          25   \n",
              "7  3.19    3.40              8.50        110      5500       19          25   \n",
              "8  3.13    3.40              8.30        140      5500       17          20   \n",
              "9  3.13    3.40              7.00        160      5500       16          22   \n",
              "\n",
              "   price  \n",
              "1  16500  \n",
              "2  16500  \n",
              "3  13950  \n",
              "4  17450  \n",
              "5  15250  \n",
              "6  17710  \n",
              "7  18920  \n",
              "8  23875  \n",
              "9      ?  \n",
              "\n",
              "[9 rows x 26 columns]"
            ]
          },
          "metadata": {
            "tags": []
          },
          "execution_count": 5
        }
      ]
    },
    {
      "cell_type": "markdown",
      "metadata": {
        "id": "Cih-K3tetkgb",
        "colab_type": "text"
      },
      "source": [
        "### Look at Some Basic Statistics About the Data\n",
        "We'll print out a quick summary of a few useful statistics on each column. This will include things like mean, standard deviation, max, min, and various quantiles."
      ]
    },
    {
      "cell_type": "code",
      "metadata": {
        "id": "gzb10yoVrydW",
        "colab_type": "code",
        "cellView": "both",
        "outputId": "eba3271c-8b3b-443f-de99-6a35e3881f19",
        "colab": {
          "base_uri": "https://localhost:8080/",
          "height": 300
        }
      },
      "source": [
        "car_data.describe()"
      ],
      "execution_count": 0,
      "outputs": [
        {
          "output_type": "execute_result",
          "data": {
            "text/html": [
              "<div>\n",
              "<style scoped>\n",
              "    .dataframe tbody tr th:only-of-type {\n",
              "        vertical-align: middle;\n",
              "    }\n",
              "\n",
              "    .dataframe tbody tr th {\n",
              "        vertical-align: top;\n",
              "    }\n",
              "\n",
              "    .dataframe thead th {\n",
              "        text-align: right;\n",
              "    }\n",
              "</style>\n",
              "<table border=\"1\" class=\"dataframe\">\n",
              "  <thead>\n",
              "    <tr style=\"text-align: right;\">\n",
              "      <th></th>\n",
              "      <th>symboling</th>\n",
              "      <th>wheel-base</th>\n",
              "      <th>length</th>\n",
              "      <th>width</th>\n",
              "      <th>height</th>\n",
              "      <th>weight</th>\n",
              "      <th>engine-size</th>\n",
              "      <th>compression-ratio</th>\n",
              "      <th>city-mpg</th>\n",
              "      <th>highway-mpg</th>\n",
              "    </tr>\n",
              "  </thead>\n",
              "  <tbody>\n",
              "    <tr>\n",
              "      <th>count</th>\n",
              "      <td>205.00</td>\n",
              "      <td>205.00</td>\n",
              "      <td>205.00</td>\n",
              "      <td>205.00</td>\n",
              "      <td>205.00</td>\n",
              "      <td>205.00</td>\n",
              "      <td>205.00</td>\n",
              "      <td>205.00</td>\n",
              "      <td>205.00</td>\n",
              "      <td>205.00</td>\n",
              "    </tr>\n",
              "    <tr>\n",
              "      <th>mean</th>\n",
              "      <td>0.83</td>\n",
              "      <td>98.76</td>\n",
              "      <td>174.05</td>\n",
              "      <td>65.91</td>\n",
              "      <td>53.72</td>\n",
              "      <td>2555.57</td>\n",
              "      <td>126.91</td>\n",
              "      <td>10.14</td>\n",
              "      <td>25.22</td>\n",
              "      <td>30.75</td>\n",
              "    </tr>\n",
              "    <tr>\n",
              "      <th>std</th>\n",
              "      <td>1.25</td>\n",
              "      <td>6.02</td>\n",
              "      <td>12.34</td>\n",
              "      <td>2.15</td>\n",
              "      <td>2.44</td>\n",
              "      <td>520.68</td>\n",
              "      <td>41.64</td>\n",
              "      <td>3.97</td>\n",
              "      <td>6.54</td>\n",
              "      <td>6.89</td>\n",
              "    </tr>\n",
              "    <tr>\n",
              "      <th>min</th>\n",
              "      <td>-2.00</td>\n",
              "      <td>86.60</td>\n",
              "      <td>141.10</td>\n",
              "      <td>60.30</td>\n",
              "      <td>47.80</td>\n",
              "      <td>1488.00</td>\n",
              "      <td>61.00</td>\n",
              "      <td>7.00</td>\n",
              "      <td>13.00</td>\n",
              "      <td>16.00</td>\n",
              "    </tr>\n",
              "    <tr>\n",
              "      <th>25%</th>\n",
              "      <td>0.00</td>\n",
              "      <td>94.50</td>\n",
              "      <td>166.30</td>\n",
              "      <td>64.10</td>\n",
              "      <td>52.00</td>\n",
              "      <td>2145.00</td>\n",
              "      <td>97.00</td>\n",
              "      <td>8.60</td>\n",
              "      <td>19.00</td>\n",
              "      <td>25.00</td>\n",
              "    </tr>\n",
              "    <tr>\n",
              "      <th>50%</th>\n",
              "      <td>1.00</td>\n",
              "      <td>97.00</td>\n",
              "      <td>173.20</td>\n",
              "      <td>65.50</td>\n",
              "      <td>54.10</td>\n",
              "      <td>2414.00</td>\n",
              "      <td>120.00</td>\n",
              "      <td>9.00</td>\n",
              "      <td>24.00</td>\n",
              "      <td>30.00</td>\n",
              "    </tr>\n",
              "    <tr>\n",
              "      <th>75%</th>\n",
              "      <td>2.00</td>\n",
              "      <td>102.40</td>\n",
              "      <td>183.10</td>\n",
              "      <td>66.90</td>\n",
              "      <td>55.50</td>\n",
              "      <td>2935.00</td>\n",
              "      <td>141.00</td>\n",
              "      <td>9.40</td>\n",
              "      <td>30.00</td>\n",
              "      <td>34.00</td>\n",
              "    </tr>\n",
              "    <tr>\n",
              "      <th>max</th>\n",
              "      <td>3.00</td>\n",
              "      <td>120.90</td>\n",
              "      <td>208.10</td>\n",
              "      <td>72.30</td>\n",
              "      <td>59.80</td>\n",
              "      <td>4066.00</td>\n",
              "      <td>326.00</td>\n",
              "      <td>23.00</td>\n",
              "      <td>49.00</td>\n",
              "      <td>54.00</td>\n",
              "    </tr>\n",
              "  </tbody>\n",
              "</table>\n",
              "</div>"
            ],
            "text/plain": [
              "       symboling  wheel-base  length  width  height  weight  engine-size  \\\n",
              "count     205.00      205.00  205.00 205.00  205.00  205.00       205.00   \n",
              "mean        0.83       98.76  174.05  65.91   53.72 2555.57       126.91   \n",
              "std         1.25        6.02   12.34   2.15    2.44  520.68        41.64   \n",
              "min        -2.00       86.60  141.10  60.30   47.80 1488.00        61.00   \n",
              "25%         0.00       94.50  166.30  64.10   52.00 2145.00        97.00   \n",
              "50%         1.00       97.00  173.20  65.50   54.10 2414.00       120.00   \n",
              "75%         2.00      102.40  183.10  66.90   55.50 2935.00       141.00   \n",
              "max         3.00      120.90  208.10  72.30   59.80 4066.00       326.00   \n",
              "\n",
              "       compression-ratio  city-mpg  highway-mpg  \n",
              "count             205.00    205.00       205.00  \n",
              "mean               10.14     25.22        30.75  \n",
              "std                 3.97      6.54         6.89  \n",
              "min                 7.00     13.00        16.00  \n",
              "25%                 8.60     19.00        25.00  \n",
              "50%                 9.00     24.00        30.00  \n",
              "75%                 9.40     30.00        34.00  \n",
              "max                23.00     49.00        54.00  "
            ]
          },
          "metadata": {
            "tags": []
          },
          "execution_count": 6
        }
      ]
    },
    {
      "cell_type": "markdown",
      "metadata": {
        "id": "VPUHcV0vuOAW",
        "colab_type": "text"
      },
      "source": [
        "### Handling Missing Data Entries\n",
        "Why are some columns such as the price and losses not showing in the summary column?  If we look at the data more carefuly, we'll see that a \"?\" was used in this data set to indicate that a value is unknown.\n",
        "\n",
        "Pandas provices a method [to_numeric](http://pandas.pydata.org/pandas-docs/version/0.18.1/generated/pandas.to_numeric.html) that converts a column to be numeric. There are three options about how to handle errors (entries that are not numeric) of which 'coerce' is what we want to use in this situation, since it converts those entries to pandas representation `NaN` for \"not a number\".\n",
        "\n",
        "Notice now when you use `describe` to see the statistics for the entries that are a number, the count indicates how many entries had a number (not `NaN`) for that column."
      ]
    },
    {
      "cell_type": "code",
      "metadata": {
        "id": "WJg129wyugzF",
        "colab_type": "code",
        "outputId": "b9135f08-9054-465f-cb0f-f7b5642a6bff",
        "colab": {
          "base_uri": "https://localhost:8080/",
          "height": 338
        }
      },
      "source": [
        "car_data['price'] = pd.to_numeric(car_data['price'], errors='coerce')\n",
        "car_data['horsepower'] = pd.to_numeric(car_data['horsepower'], errors='coerce')\n",
        "car_data['peak-rpm'] = pd.to_numeric(car_data['peak-rpm'], errors='coerce')\n",
        "car_data['city-mpg'] = pd.to_numeric(car_data['city-mpg'], errors='coerce')\n",
        "car_data['highway-mpg'] = pd.to_numeric(car_data['highway-mpg'], errors='coerce')\n",
        "car_data['losses'] = pd.to_numeric(car_data['losses'], errors='coerce')\n",
        "car_data.describe()"
      ],
      "execution_count": 0,
      "outputs": [
        {
          "output_type": "execute_result",
          "data": {
            "text/html": [
              "<div>\n",
              "<style scoped>\n",
              "    .dataframe tbody tr th:only-of-type {\n",
              "        vertical-align: middle;\n",
              "    }\n",
              "\n",
              "    .dataframe tbody tr th {\n",
              "        vertical-align: top;\n",
              "    }\n",
              "\n",
              "    .dataframe thead th {\n",
              "        text-align: right;\n",
              "    }\n",
              "</style>\n",
              "<table border=\"1\" class=\"dataframe\">\n",
              "  <thead>\n",
              "    <tr style=\"text-align: right;\">\n",
              "      <th></th>\n",
              "      <th>symboling</th>\n",
              "      <th>losses</th>\n",
              "      <th>wheel-base</th>\n",
              "      <th>length</th>\n",
              "      <th>width</th>\n",
              "      <th>height</th>\n",
              "      <th>weight</th>\n",
              "      <th>engine-size</th>\n",
              "      <th>compression-ratio</th>\n",
              "      <th>horsepower</th>\n",
              "      <th>peak-rpm</th>\n",
              "      <th>city-mpg</th>\n",
              "      <th>highway-mpg</th>\n",
              "      <th>price</th>\n",
              "    </tr>\n",
              "  </thead>\n",
              "  <tbody>\n",
              "    <tr>\n",
              "      <th>count</th>\n",
              "      <td>205.00</td>\n",
              "      <td>164.00</td>\n",
              "      <td>205.00</td>\n",
              "      <td>205.00</td>\n",
              "      <td>205.00</td>\n",
              "      <td>205.00</td>\n",
              "      <td>205.00</td>\n",
              "      <td>205.00</td>\n",
              "      <td>205.00</td>\n",
              "      <td>203.00</td>\n",
              "      <td>203.00</td>\n",
              "      <td>205.00</td>\n",
              "      <td>205.00</td>\n",
              "      <td>201.00</td>\n",
              "    </tr>\n",
              "    <tr>\n",
              "      <th>mean</th>\n",
              "      <td>0.83</td>\n",
              "      <td>122.00</td>\n",
              "      <td>98.76</td>\n",
              "      <td>174.05</td>\n",
              "      <td>65.91</td>\n",
              "      <td>53.72</td>\n",
              "      <td>2555.57</td>\n",
              "      <td>126.91</td>\n",
              "      <td>10.14</td>\n",
              "      <td>104.26</td>\n",
              "      <td>5125.37</td>\n",
              "      <td>25.22</td>\n",
              "      <td>30.75</td>\n",
              "      <td>13207.13</td>\n",
              "    </tr>\n",
              "    <tr>\n",
              "      <th>std</th>\n",
              "      <td>1.25</td>\n",
              "      <td>35.44</td>\n",
              "      <td>6.02</td>\n",
              "      <td>12.34</td>\n",
              "      <td>2.15</td>\n",
              "      <td>2.44</td>\n",
              "      <td>520.68</td>\n",
              "      <td>41.64</td>\n",
              "      <td>3.97</td>\n",
              "      <td>39.71</td>\n",
              "      <td>479.33</td>\n",
              "      <td>6.54</td>\n",
              "      <td>6.89</td>\n",
              "      <td>7947.07</td>\n",
              "    </tr>\n",
              "    <tr>\n",
              "      <th>min</th>\n",
              "      <td>-2.00</td>\n",
              "      <td>65.00</td>\n",
              "      <td>86.60</td>\n",
              "      <td>141.10</td>\n",
              "      <td>60.30</td>\n",
              "      <td>47.80</td>\n",
              "      <td>1488.00</td>\n",
              "      <td>61.00</td>\n",
              "      <td>7.00</td>\n",
              "      <td>48.00</td>\n",
              "      <td>4150.00</td>\n",
              "      <td>13.00</td>\n",
              "      <td>16.00</td>\n",
              "      <td>5118.00</td>\n",
              "    </tr>\n",
              "    <tr>\n",
              "      <th>25%</th>\n",
              "      <td>0.00</td>\n",
              "      <td>94.00</td>\n",
              "      <td>94.50</td>\n",
              "      <td>166.30</td>\n",
              "      <td>64.10</td>\n",
              "      <td>52.00</td>\n",
              "      <td>2145.00</td>\n",
              "      <td>97.00</td>\n",
              "      <td>8.60</td>\n",
              "      <td>70.00</td>\n",
              "      <td>4800.00</td>\n",
              "      <td>19.00</td>\n",
              "      <td>25.00</td>\n",
              "      <td>7775.00</td>\n",
              "    </tr>\n",
              "    <tr>\n",
              "      <th>50%</th>\n",
              "      <td>1.00</td>\n",
              "      <td>115.00</td>\n",
              "      <td>97.00</td>\n",
              "      <td>173.20</td>\n",
              "      <td>65.50</td>\n",
              "      <td>54.10</td>\n",
              "      <td>2414.00</td>\n",
              "      <td>120.00</td>\n",
              "      <td>9.00</td>\n",
              "      <td>95.00</td>\n",
              "      <td>5200.00</td>\n",
              "      <td>24.00</td>\n",
              "      <td>30.00</td>\n",
              "      <td>10295.00</td>\n",
              "    </tr>\n",
              "    <tr>\n",
              "      <th>75%</th>\n",
              "      <td>2.00</td>\n",
              "      <td>150.00</td>\n",
              "      <td>102.40</td>\n",
              "      <td>183.10</td>\n",
              "      <td>66.90</td>\n",
              "      <td>55.50</td>\n",
              "      <td>2935.00</td>\n",
              "      <td>141.00</td>\n",
              "      <td>9.40</td>\n",
              "      <td>116.00</td>\n",
              "      <td>5500.00</td>\n",
              "      <td>30.00</td>\n",
              "      <td>34.00</td>\n",
              "      <td>16500.00</td>\n",
              "    </tr>\n",
              "    <tr>\n",
              "      <th>max</th>\n",
              "      <td>3.00</td>\n",
              "      <td>256.00</td>\n",
              "      <td>120.90</td>\n",
              "      <td>208.10</td>\n",
              "      <td>72.30</td>\n",
              "      <td>59.80</td>\n",
              "      <td>4066.00</td>\n",
              "      <td>326.00</td>\n",
              "      <td>23.00</td>\n",
              "      <td>288.00</td>\n",
              "      <td>6600.00</td>\n",
              "      <td>49.00</td>\n",
              "      <td>54.00</td>\n",
              "      <td>45400.00</td>\n",
              "    </tr>\n",
              "  </tbody>\n",
              "</table>\n",
              "</div>"
            ],
            "text/plain": [
              "       symboling  losses  wheel-base  length  width  height  weight  \\\n",
              "count     205.00  164.00      205.00  205.00 205.00  205.00  205.00   \n",
              "mean        0.83  122.00       98.76  174.05  65.91   53.72 2555.57   \n",
              "std         1.25   35.44        6.02   12.34   2.15    2.44  520.68   \n",
              "min        -2.00   65.00       86.60  141.10  60.30   47.80 1488.00   \n",
              "25%         0.00   94.00       94.50  166.30  64.10   52.00 2145.00   \n",
              "50%         1.00  115.00       97.00  173.20  65.50   54.10 2414.00   \n",
              "75%         2.00  150.00      102.40  183.10  66.90   55.50 2935.00   \n",
              "max         3.00  256.00      120.90  208.10  72.30   59.80 4066.00   \n",
              "\n",
              "       engine-size  compression-ratio  horsepower  peak-rpm  city-mpg  \\\n",
              "count       205.00             205.00      203.00    203.00    205.00   \n",
              "mean        126.91              10.14      104.26   5125.37     25.22   \n",
              "std          41.64               3.97       39.71    479.33      6.54   \n",
              "min          61.00               7.00       48.00   4150.00     13.00   \n",
              "25%          97.00               8.60       70.00   4800.00     19.00   \n",
              "50%         120.00               9.00       95.00   5200.00     24.00   \n",
              "75%         141.00               9.40      116.00   5500.00     30.00   \n",
              "max         326.00              23.00      288.00   6600.00     49.00   \n",
              "\n",
              "       highway-mpg    price  \n",
              "count       205.00   201.00  \n",
              "mean         30.75 13207.13  \n",
              "std           6.89  7947.07  \n",
              "min          16.00  5118.00  \n",
              "25%          25.00  7775.00  \n",
              "50%          30.00 10295.00  \n",
              "75%          34.00 16500.00  \n",
              "max          54.00 45400.00  "
            ]
          },
          "metadata": {
            "tags": []
          },
          "execution_count": 7
        }
      ]
    },
    {
      "cell_type": "markdown",
      "metadata": {
        "id": "3pU9zynBiU0x",
        "colab_type": "text"
      },
      "source": [
        "### Replacing NAN by zero\n",
        "When training a linear model using features that is numerical, we **cannot have `NaN` (doing so would cause overflow when training)**. Here we replace `NaN` (which corresponding to where we had missing entries) by 0."
      ]
    },
    {
      "cell_type": "code",
      "metadata": {
        "id": "Fsg8khAgiUm9",
        "colab_type": "code",
        "outputId": "dbff52f4-c052-4700-c23b-bb1690b89a65",
        "colab": {
          "base_uri": "https://localhost:8080/",
          "height": 338
        }
      },
      "source": [
        "# Replace nan by the mean storing the solution in the same table (`inplace')\n",
        "car_data.fillna(0, inplace=True)\n",
        "car_data.describe()"
      ],
      "execution_count": 0,
      "outputs": [
        {
          "output_type": "execute_result",
          "data": {
            "text/html": [
              "<div>\n",
              "<style scoped>\n",
              "    .dataframe tbody tr th:only-of-type {\n",
              "        vertical-align: middle;\n",
              "    }\n",
              "\n",
              "    .dataframe tbody tr th {\n",
              "        vertical-align: top;\n",
              "    }\n",
              "\n",
              "    .dataframe thead th {\n",
              "        text-align: right;\n",
              "    }\n",
              "</style>\n",
              "<table border=\"1\" class=\"dataframe\">\n",
              "  <thead>\n",
              "    <tr style=\"text-align: right;\">\n",
              "      <th></th>\n",
              "      <th>symboling</th>\n",
              "      <th>losses</th>\n",
              "      <th>wheel-base</th>\n",
              "      <th>length</th>\n",
              "      <th>width</th>\n",
              "      <th>height</th>\n",
              "      <th>weight</th>\n",
              "      <th>engine-size</th>\n",
              "      <th>compression-ratio</th>\n",
              "      <th>horsepower</th>\n",
              "      <th>peak-rpm</th>\n",
              "      <th>city-mpg</th>\n",
              "      <th>highway-mpg</th>\n",
              "      <th>price</th>\n",
              "    </tr>\n",
              "  </thead>\n",
              "  <tbody>\n",
              "    <tr>\n",
              "      <th>count</th>\n",
              "      <td>205.00</td>\n",
              "      <td>205.00</td>\n",
              "      <td>205.00</td>\n",
              "      <td>205.00</td>\n",
              "      <td>205.00</td>\n",
              "      <td>205.00</td>\n",
              "      <td>205.00</td>\n",
              "      <td>205.00</td>\n",
              "      <td>205.00</td>\n",
              "      <td>205.00</td>\n",
              "      <td>205.00</td>\n",
              "      <td>205.00</td>\n",
              "      <td>205.00</td>\n",
              "      <td>205.00</td>\n",
              "    </tr>\n",
              "    <tr>\n",
              "      <th>mean</th>\n",
              "      <td>0.83</td>\n",
              "      <td>97.60</td>\n",
              "      <td>98.76</td>\n",
              "      <td>174.05</td>\n",
              "      <td>65.91</td>\n",
              "      <td>53.72</td>\n",
              "      <td>2555.57</td>\n",
              "      <td>126.91</td>\n",
              "      <td>10.14</td>\n",
              "      <td>103.24</td>\n",
              "      <td>5075.37</td>\n",
              "      <td>25.22</td>\n",
              "      <td>30.75</td>\n",
              "      <td>12949.43</td>\n",
              "    </tr>\n",
              "    <tr>\n",
              "      <th>std</th>\n",
              "      <td>1.25</td>\n",
              "      <td>58.28</td>\n",
              "      <td>6.02</td>\n",
              "      <td>12.34</td>\n",
              "      <td>2.15</td>\n",
              "      <td>2.44</td>\n",
              "      <td>520.68</td>\n",
              "      <td>41.64</td>\n",
              "      <td>3.97</td>\n",
              "      <td>40.83</td>\n",
              "      <td>694.65</td>\n",
              "      <td>6.54</td>\n",
              "      <td>6.89</td>\n",
              "      <td>8079.04</td>\n",
              "    </tr>\n",
              "    <tr>\n",
              "      <th>min</th>\n",
              "      <td>-2.00</td>\n",
              "      <td>0.00</td>\n",
              "      <td>86.60</td>\n",
              "      <td>141.10</td>\n",
              "      <td>60.30</td>\n",
              "      <td>47.80</td>\n",
              "      <td>1488.00</td>\n",
              "      <td>61.00</td>\n",
              "      <td>7.00</td>\n",
              "      <td>0.00</td>\n",
              "      <td>0.00</td>\n",
              "      <td>13.00</td>\n",
              "      <td>16.00</td>\n",
              "      <td>0.00</td>\n",
              "    </tr>\n",
              "    <tr>\n",
              "      <th>25%</th>\n",
              "      <td>0.00</td>\n",
              "      <td>77.00</td>\n",
              "      <td>94.50</td>\n",
              "      <td>166.30</td>\n",
              "      <td>64.10</td>\n",
              "      <td>52.00</td>\n",
              "      <td>2145.00</td>\n",
              "      <td>97.00</td>\n",
              "      <td>8.60</td>\n",
              "      <td>70.00</td>\n",
              "      <td>4800.00</td>\n",
              "      <td>19.00</td>\n",
              "      <td>25.00</td>\n",
              "      <td>7689.00</td>\n",
              "    </tr>\n",
              "    <tr>\n",
              "      <th>50%</th>\n",
              "      <td>1.00</td>\n",
              "      <td>103.00</td>\n",
              "      <td>97.00</td>\n",
              "      <td>173.20</td>\n",
              "      <td>65.50</td>\n",
              "      <td>54.10</td>\n",
              "      <td>2414.00</td>\n",
              "      <td>120.00</td>\n",
              "      <td>9.00</td>\n",
              "      <td>95.00</td>\n",
              "      <td>5200.00</td>\n",
              "      <td>24.00</td>\n",
              "      <td>30.00</td>\n",
              "      <td>10198.00</td>\n",
              "    </tr>\n",
              "    <tr>\n",
              "      <th>75%</th>\n",
              "      <td>2.00</td>\n",
              "      <td>137.00</td>\n",
              "      <td>102.40</td>\n",
              "      <td>183.10</td>\n",
              "      <td>66.90</td>\n",
              "      <td>55.50</td>\n",
              "      <td>2935.00</td>\n",
              "      <td>141.00</td>\n",
              "      <td>9.40</td>\n",
              "      <td>116.00</td>\n",
              "      <td>5500.00</td>\n",
              "      <td>30.00</td>\n",
              "      <td>34.00</td>\n",
              "      <td>16500.00</td>\n",
              "    </tr>\n",
              "    <tr>\n",
              "      <th>max</th>\n",
              "      <td>3.00</td>\n",
              "      <td>256.00</td>\n",
              "      <td>120.90</td>\n",
              "      <td>208.10</td>\n",
              "      <td>72.30</td>\n",
              "      <td>59.80</td>\n",
              "      <td>4066.00</td>\n",
              "      <td>326.00</td>\n",
              "      <td>23.00</td>\n",
              "      <td>288.00</td>\n",
              "      <td>6600.00</td>\n",
              "      <td>49.00</td>\n",
              "      <td>54.00</td>\n",
              "      <td>45400.00</td>\n",
              "    </tr>\n",
              "  </tbody>\n",
              "</table>\n",
              "</div>"
            ],
            "text/plain": [
              "       symboling  losses  wheel-base  length  width  height  weight  \\\n",
              "count     205.00  205.00      205.00  205.00 205.00  205.00  205.00   \n",
              "mean        0.83   97.60       98.76  174.05  65.91   53.72 2555.57   \n",
              "std         1.25   58.28        6.02   12.34   2.15    2.44  520.68   \n",
              "min        -2.00    0.00       86.60  141.10  60.30   47.80 1488.00   \n",
              "25%         0.00   77.00       94.50  166.30  64.10   52.00 2145.00   \n",
              "50%         1.00  103.00       97.00  173.20  65.50   54.10 2414.00   \n",
              "75%         2.00  137.00      102.40  183.10  66.90   55.50 2935.00   \n",
              "max         3.00  256.00      120.90  208.10  72.30   59.80 4066.00   \n",
              "\n",
              "       engine-size  compression-ratio  horsepower  peak-rpm  city-mpg  \\\n",
              "count       205.00             205.00      205.00    205.00    205.00   \n",
              "mean        126.91              10.14      103.24   5075.37     25.22   \n",
              "std          41.64               3.97       40.83    694.65      6.54   \n",
              "min          61.00               7.00        0.00      0.00     13.00   \n",
              "25%          97.00               8.60       70.00   4800.00     19.00   \n",
              "50%         120.00               9.00       95.00   5200.00     24.00   \n",
              "75%         141.00               9.40      116.00   5500.00     30.00   \n",
              "max         326.00              23.00      288.00   6600.00     49.00   \n",
              "\n",
              "       highway-mpg    price  \n",
              "count       205.00   205.00  \n",
              "mean         30.75 12949.43  \n",
              "std           6.89  8079.04  \n",
              "min          16.00     0.00  \n",
              "25%          25.00  7689.00  \n",
              "50%          30.00 10198.00  \n",
              "75%          34.00 16500.00  \n",
              "max          54.00 45400.00  "
            ]
          },
          "metadata": {
            "tags": []
          },
          "execution_count": 8
        }
      ]
    },
    {
      "cell_type": "markdown",
      "metadata": {
        "id": "Ct-amQLex0oD",
        "colab_type": "text"
      },
      "source": [
        "### Using a Scatter Plot to Visualize the Data\n",
        "\n",
        "We will begin by trying to predict the price using the horsepower.  Because we just have a single feature we can visualize the raw data using a scatter plot."
      ]
    },
    {
      "cell_type": "code",
      "metadata": {
        "id": "yq5AhcxEx3TC",
        "colab_type": "code",
        "outputId": "8530684f-5082-48be-efb3-fcdee2546d7f",
        "colab": {
          "base_uri": "https://localhost:8080/",
          "height": 361
        }
      },
      "source": [
        "INPUT_FEATURE = \"horsepower\"\n",
        "LABEL = \"price\"\n",
        "\n",
        "plt.ylabel(LABEL)\n",
        "plt.xlabel(INPUT_FEATURE)\n",
        "plt.scatter(car_data[INPUT_FEATURE], car_data[LABEL], c='blue')\n",
        "plt.show()"
      ],
      "execution_count": 0,
      "outputs": [
        {
          "output_type": "display_data",
          "data": {
            "image/png": "[encoded data removed]",
            "text/plain": [
              "<Figure size 576x396 with 1 Axes>"
            ]
          },
          "metadata": {
            "tags": []
          }
        }
      ]
    },
    {
      "cell_type": "markdown",
      "metadata": {
        "id": "LgjPhuWBKC2z",
        "colab_type": "text"
      },
      "source": [
        "###Using numpy polyfit to find the line that minimizes RMSE\n",
        "For the task of finding a line that minimizes the squared error with respect to a set of points, using SGD is not the most efficient method but it will be useful in that it can be applied to much more complex problems.  As a tool to help see what the optimal solution looks like we wil use `polyfit` to compute the optimal solution and then add that to our plot."
      ]
    },
    {
      "cell_type": "code",
      "metadata": {
        "id": "GqGOYfA2L6LX",
        "colab_type": "code",
        "outputId": "defb8c08-a03b-4371-e5a5-8edbd3ca846a",
        "colab": {
          "base_uri": "https://localhost:8080/",
          "height": 34
        }
      },
      "source": [
        "x = car_data[INPUT_FEATURE]\n",
        "y = car_data[LABEL]\n",
        "opt = np.polyfit(x, y, 1)\n",
        "y_pred = opt[0] * x + opt[1]\n",
        "opt_rmse = math.sqrt(metrics.mean_squared_error(y_pred, y))\n",
        "slope = opt[0]\n",
        "bias = opt[1]\n",
        "print \"Optimal RMSE =\", opt_rmse, \"for solution\", opt"
      ],
      "execution_count": 0,
      "outputs": [
        {
          "output_type": "stream",
          "text": [
            "Optimal RMSE = 5823.49486942 for solution [  136.77704681 -1171.29960347]\n"
          ],
          "name": "stdout"
        }
      ]
    },
    {
      "cell_type": "markdown",
      "metadata": {
        "id": "U7qT33YbG3Jf",
        "colab_type": "text"
      },
      "source": [
        "### Showing A Linear Regression Model in a Scatter Plot\n",
        "To help provide intuition to what is being learned by a linear regression model and as a way to visualzize the quality, we provide a method to create the scatter plot of a single input feature with respect to the label feature.  In addition, a set of lines (from different linear regression models) as provided as a list of slopes, biases and model_names for the legend can be provided."
      ]
    },
    {
      "cell_type": "code",
      "metadata": {
        "id": "uTzgIq_hZL0m",
        "colab_type": "code",
        "colab": {}
      },
      "source": [
        "def make_scatter_plot(dataframe, input_feature, target,\n",
        "                      slopes=[], biases=[], model_names=[]):\n",
        "  \"\"\" Creates a scatter plot of input_feature vs target along with the models.\n",
        "  \n",
        "  Args:\n",
        "    dataframe: the dataframe to visualize\n",
        "    input_feature: the input feature to be used for the x-axis\n",
        "    target: the target to be used for the y-axis\n",
        "    slopes: list of model weight (slope) \n",
        "    bias: list of model bias (same size as slopes)\n",
        "    model_names: list of model_names to use for legend (same size as slopes)\n",
        "  \"\"\"      \n",
        "  # Define some colors to use that go from blue towards red\n",
        "  colors = [cm.coolwarm(x) for x in np.linspace(0, 1, len(slopes))]\n",
        "  \n",
        "  # Generate the Scatter plot\n",
        "  x = dataframe[input_feature]\n",
        "  y = dataframe[target]\n",
        "  plt.ylabel(target)\n",
        "  plt.xlabel(input_feature)\n",
        "  plt.scatter(x, y, color='black', label=\"\")\n",
        "\n",
        "  # Add the lines corresponding to the provided models\n",
        "  for i in range (0, len(slopes)):\n",
        "    y_0 = slopes[i] * x.min() + biases[i]\n",
        "    y_1 = slopes[i] * x.max() + biases[i]\n",
        "    plt.plot([x.min(), x.max()], [y_0, y_1],\n",
        "             label=model_names[i], color=colors[i])\n",
        "  if (len(model_names) > 0):\n",
        "    plt.legend(bbox_to_anchor=(1.05, 1), loc=2, borderaxespad=0.)"
      ],
      "execution_count": 0,
      "outputs": []
    },
    {
      "cell_type": "code",
      "metadata": {
        "id": "aVlGG6cRINfP",
        "colab_type": "code",
        "outputId": "f29dd328-291c-4abc-d5d0-543ace7a245f",
        "colab": {
          "base_uri": "https://localhost:8080/",
          "height": 361
        }
      },
      "source": [
        "make_scatter_plot(car_data,INPUT_FEATURE, LABEL,\n",
        "                  [slope], [bias], [\"initial model\"])\n"
      ],
      "execution_count": 0,
      "outputs": [
        {
          "output_type": "display_data",
          "data": {
            "image/png": "[encoded data removed]",
            "text/plain": [
              "<Figure size 576x396 with 1 Axes>"
            ]
          },
          "metadata": {
            "tags": []
          }
        }
      ]
    },
    {
      "cell_type": "markdown",
      "metadata": {
        "id": "XPBoFxzRSHol",
        "colab_type": "text"
      },
      "source": [
        "## Task 1: Create a scatter plot for new features (1 Point)\n",
        "\n",
        "Create a scatter plot with price as the input feature and losses as the label where the line optimizing the squared loss is shown.  We've gotten you started.  You just need to copy the appropriate lines from above.  **Save the slope and bias from this line to be used in a later task.**"
      ]
    },
    {
      "cell_type": "code",
      "metadata": {
        "id": "P64o23hPSZ5N",
        "colab_type": "code",
        "outputId": "a636aa10-a38e-4583-895b-ef26525b0867",
        "colab": {
          "base_uri": "https://localhost:8080/",
          "height": 361
        }
      },
      "source": [
        "INPUT_FEATURE = \"price\"\n",
        "LABEL = \"losses\"\n",
        "\n",
        "# Fill in the rest of this block.\n",
        "\n",
        "plt.ylabel(LABEL)\n",
        "plt.xlabel(INPUT_FEATURE)\n",
        "plt.scatter(car_data[INPUT_FEATURE], car_data[LABEL], c='blue')\n",
        "plt.show()"
      ],
      "execution_count": 0,
      "outputs": [
        {
          "output_type": "display_data",
          "data": {
            "image/png": "[encoded data removed]",
            "text/plain": [
              "<Figure size 576x396 with 1 Axes>"
            ]
          },
          "metadata": {
            "tags": []
          }
        }
      ]
    },
    {
      "cell_type": "code",
      "metadata": {
        "id": "40lnOIjjdohk",
        "colab_type": "code",
        "outputId": "b29b8b4e-eaaa-4b8b-a43b-f6b7d2f1c4cb",
        "colab": {
          "base_uri": "https://localhost:8080/",
          "height": 34
        }
      },
      "source": [
        "x = car_data[INPUT_FEATURE]\n",
        "y = car_data[LABEL]\n",
        "opt = np.polyfit(x, y, 1)\n",
        "y_pred = opt[0] * x + opt[1]\n",
        "opt_rmse = math.sqrt(metrics.mean_squared_error(y_pred, y))\n",
        "slope = opt[0]\n",
        "bias = opt[1]\n",
        "print \"Optimal RMSE =\", opt_rmse, \"for solution\", opt"
      ],
      "execution_count": 0,
      "outputs": [
        {
          "output_type": "stream",
          "text": [
            "Optimal RMSE = 56.4699735644 for solution [-1.71649081e-03  1.19827576e+02]\n"
          ],
          "name": "stdout"
        }
      ]
    },
    {
      "cell_type": "code",
      "metadata": {
        "id": "IsGkjUnKd0Kg",
        "colab_type": "code",
        "colab": {}
      },
      "source": [
        "def make_scatter_plot(dataframe, input_feature, target,\n",
        "                      slopes=[], biases=[], model_names=[]):\n",
        "  \"\"\" Creates a scatter plot of input_feature vs target along with the models.\n",
        "  \n",
        "  Args:\n",
        "    dataframe: the dataframe to visualize\n",
        "    input_feature: the input feature to be used for the x-axis\n",
        "    target: the target to be used for the y-axis\n",
        "    slopes: list of model weight (slope) \n",
        "    bias: list of model bias (same size as slopes)\n",
        "    model_names: list of model_names to use for legend (same size as slopes)\n",
        "  \"\"\"      \n",
        "  # Define some colors to use that go from blue towards red\n",
        "  colors = [cm.coolwarm(x) for x in np.linspace(0, 1, len(slopes))]\n",
        "  \n",
        "  # Generate the Scatter plot\n",
        "  x = dataframe[input_feature]\n",
        "  y = dataframe[target]\n",
        "  plt.ylabel(target)\n",
        "  plt.xlabel(input_feature)\n",
        "  plt.scatter(x, y, color='black', label=\"\")\n",
        "\n",
        "  # Add the lines corresponding to the provided models\n",
        "  for i in range (0, len(slopes)):\n",
        "    y_0 = slopes[i] * x.min() + biases[i]\n",
        "    y_1 = slopes[i] * x.max() + biases[i]\n",
        "    plt.plot([x.min(), x.max()], [y_0, y_1],\n",
        "             label=model_names[i], color=colors[i])\n",
        "  if (len(model_names) > 0):\n",
        "    plt.legend(bbox_to_anchor=(1.05, 1), loc=2, borderaxespad=0.)"
      ],
      "execution_count": 0,
      "outputs": []
    },
    {
      "cell_type": "code",
      "metadata": {
        "id": "bn165Vfed3Iu",
        "colab_type": "code",
        "outputId": "def98a45-97b7-448f-ab7d-cae42ab840f7",
        "colab": {
          "base_uri": "https://localhost:8080/",
          "height": 361
        }
      },
      "source": [
        "make_scatter_plot(car_data,INPUT_FEATURE, LABEL,\n",
        "                  [slope], [bias], [\"initial model\"])\n"
      ],
      "execution_count": 0,
      "outputs": [
        {
          "output_type": "display_data",
          "data": {
            "image/png": "[encoded data removed]",
            "text/plain": [
              "<Figure size 576x396 with 1 Axes>"
            ]
          },
          "metadata": {
            "tags": []
          }
        }
      ]
    },
    {
      "cell_type": "markdown",
      "metadata": {
        "id": "hYamoYZmLENA",
        "colab_type": "text"
      },
      "source": [
        "## Task 2: Explain what you see (1 point)\n",
        "\n",
        "Explain why we are seeing so many points along the line `y=0`.\n",
        "\n",
        "----------------------------\n",
        "Se mira mucha data en la línea de y = 0 porque existen muchos elementos con pérdidas de 0 dentro de la data lo que  indica que en comparación con el seguro el carro no tuvo ninguna pérdida. Mientras que este tipo de carros existen a través de diferentes precios en el mercado."
      ]
    },
    {
      "cell_type": "markdown",
      "metadata": {
        "id": "QZLePi8V8za1",
        "colab_type": "text"
      },
      "source": [
        "##Task 3: Options to handle missing data (3 Points)\n",
        "\n",
        "In this task you will explore alternate ways to handle missing data. When training a linear model using features that are numerical, we **cannot have `NaN` (doing so would cause overflow when training)**. One option is to just discard any rows with any missing entries but often this would not leave enough data.  Here we explore ways to handle the missing data without just discarding it.\n",
        "\n",
        "Note that when you get a column of a dataframe (e.g. car_data[\"price']), you get a `Series`.  Read [http://pandas.pydata.org/pandas-docs/version/0.18.1/api.html#computations-descriptive-stats](http://pandas.pydata.org/pandas-docs/version/0.18.1/api.html#computations-descriptive-stats) and think about if you see any statistics for a column that might make a better choice than 0 for filling in the missing entries.What do you think would work best?\n",
        "\n",
        "Modify the code to use the function you selected to replace missings instead of just using 0 and both look at the scatter plot and the line minimizing RMSE both with the missings replaced by 0 and the missing entries replaced by the option you pick.  Feel free to show multiple options as a tool to help you explain your choice of which you think is best..  What option do you think is best and why?\n"
      ]
    },
    {
      "cell_type": "code",
      "metadata": {
        "id": "83z_EMLGVoUp",
        "colab_type": "code",
        "colab": {}
      },
      "source": [
        "# Load in the data from a CSV file that is comma seperated.\n",
        "car_data_v2 = pd.read_csv('https://storage.googleapis.com/ml_universities/cars_dataset/cars_data.csv',\n",
        "                           sep=',', names=cols, header=None, encoding='latin-1')\n",
        "car_data_v2['price'] = pd.to_numeric(car_data_v2['price'], errors='coerce')\n",
        "car_data_v2['losses'] = pd.to_numeric(car_data_v2['losses'], errors='coerce')"
      ],
      "execution_count": 0,
      "outputs": []
    },
    {
      "cell_type": "code",
      "metadata": {
        "id": "wjnGgq90mHhk",
        "colab_type": "code",
        "outputId": "c27bd696-a5d3-48fc-bdfc-b610f4aea78f",
        "colab": {
          "base_uri": "https://localhost:8080/",
          "height": 318
        }
      },
      "source": [
        "# Fill in what you want to do with the nan here\n",
        "car_data_v2['price'].fillna(car_data_v2['price'].median(), inplace=True)\n",
        "car_data.fillna(0, inplace=True)\n",
        "car_data_v2.describe()"
      ],
      "execution_count": 0,
      "outputs": [
        {
          "output_type": "execute_result",
          "data": {
            "text/html": [
              "<div>\n",
              "<style scoped>\n",
              "    .dataframe tbody tr th:only-of-type {\n",
              "        vertical-align: middle;\n",
              "    }\n",
              "\n",
              "    .dataframe tbody tr th {\n",
              "        vertical-align: top;\n",
              "    }\n",
              "\n",
              "    .dataframe thead th {\n",
              "        text-align: right;\n",
              "    }\n",
              "</style>\n",
              "<table border=\"1\" class=\"dataframe\">\n",
              "  <thead>\n",
              "    <tr style=\"text-align: right;\">\n",
              "      <th></th>\n",
              "      <th>symboling</th>\n",
              "      <th>losses</th>\n",
              "      <th>wheel-base</th>\n",
              "      <th>length</th>\n",
              "      <th>width</th>\n",
              "      <th>height</th>\n",
              "      <th>weight</th>\n",
              "      <th>engine-size</th>\n",
              "      <th>compression-ratio</th>\n",
              "      <th>city-mpg</th>\n",
              "      <th>highway-mpg</th>\n",
              "      <th>price</th>\n",
              "    </tr>\n",
              "  </thead>\n",
              "  <tbody>\n",
              "    <tr>\n",
              "      <th>count</th>\n",
              "      <td>205.00</td>\n",
              "      <td>164.00</td>\n",
              "      <td>205.00</td>\n",
              "      <td>205.00</td>\n",
              "      <td>205.00</td>\n",
              "      <td>205.00</td>\n",
              "      <td>205.00</td>\n",
              "      <td>205.00</td>\n",
              "      <td>205.00</td>\n",
              "      <td>205.00</td>\n",
              "      <td>205.00</td>\n",
              "      <td>205.00</td>\n",
              "    </tr>\n",
              "    <tr>\n",
              "      <th>mean</th>\n",
              "      <td>0.83</td>\n",
              "      <td>122.00</td>\n",
              "      <td>98.76</td>\n",
              "      <td>174.05</td>\n",
              "      <td>65.91</td>\n",
              "      <td>53.72</td>\n",
              "      <td>2555.57</td>\n",
              "      <td>126.91</td>\n",
              "      <td>10.14</td>\n",
              "      <td>25.22</td>\n",
              "      <td>30.75</td>\n",
              "      <td>13150.31</td>\n",
              "    </tr>\n",
              "    <tr>\n",
              "      <th>std</th>\n",
              "      <td>1.25</td>\n",
              "      <td>35.44</td>\n",
              "      <td>6.02</td>\n",
              "      <td>12.34</td>\n",
              "      <td>2.15</td>\n",
              "      <td>2.44</td>\n",
              "      <td>520.68</td>\n",
              "      <td>41.64</td>\n",
              "      <td>3.97</td>\n",
              "      <td>6.54</td>\n",
              "      <td>6.89</td>\n",
              "      <td>7879.12</td>\n",
              "    </tr>\n",
              "    <tr>\n",
              "      <th>min</th>\n",
              "      <td>-2.00</td>\n",
              "      <td>65.00</td>\n",
              "      <td>86.60</td>\n",
              "      <td>141.10</td>\n",
              "      <td>60.30</td>\n",
              "      <td>47.80</td>\n",
              "      <td>1488.00</td>\n",
              "      <td>61.00</td>\n",
              "      <td>7.00</td>\n",
              "      <td>13.00</td>\n",
              "      <td>16.00</td>\n",
              "      <td>5118.00</td>\n",
              "    </tr>\n",
              "    <tr>\n",
              "      <th>25%</th>\n",
              "      <td>0.00</td>\n",
              "      <td>94.00</td>\n",
              "      <td>94.50</td>\n",
              "      <td>166.30</td>\n",
              "      <td>64.10</td>\n",
              "      <td>52.00</td>\n",
              "      <td>2145.00</td>\n",
              "      <td>97.00</td>\n",
              "      <td>8.60</td>\n",
              "      <td>19.00</td>\n",
              "      <td>25.00</td>\n",
              "      <td>7788.00</td>\n",
              "    </tr>\n",
              "    <tr>\n",
              "      <th>50%</th>\n",
              "      <td>1.00</td>\n",
              "      <td>115.00</td>\n",
              "      <td>97.00</td>\n",
              "      <td>173.20</td>\n",
              "      <td>65.50</td>\n",
              "      <td>54.10</td>\n",
              "      <td>2414.00</td>\n",
              "      <td>120.00</td>\n",
              "      <td>9.00</td>\n",
              "      <td>24.00</td>\n",
              "      <td>30.00</td>\n",
              "      <td>10295.00</td>\n",
              "    </tr>\n",
              "    <tr>\n",
              "      <th>75%</th>\n",
              "      <td>2.00</td>\n",
              "      <td>150.00</td>\n",
              "      <td>102.40</td>\n",
              "      <td>183.10</td>\n",
              "      <td>66.90</td>\n",
              "      <td>55.50</td>\n",
              "      <td>2935.00</td>\n",
              "      <td>141.00</td>\n",
              "      <td>9.40</td>\n",
              "      <td>30.00</td>\n",
              "      <td>34.00</td>\n",
              "      <td>16500.00</td>\n",
              "    </tr>\n",
              "    <tr>\n",
              "      <th>max</th>\n",
              "      <td>3.00</td>\n",
              "      <td>256.00</td>\n",
              "      <td>120.90</td>\n",
              "      <td>208.10</td>\n",
              "      <td>72.30</td>\n",
              "      <td>59.80</td>\n",
              "      <td>4066.00</td>\n",
              "      <td>326.00</td>\n",
              "      <td>23.00</td>\n",
              "      <td>49.00</td>\n",
              "      <td>54.00</td>\n",
              "      <td>45400.00</td>\n",
              "    </tr>\n",
              "  </tbody>\n",
              "</table>\n",
              "</div>"
            ],
            "text/plain": [
              "       symboling  losses  wheel-base  length  width  height  weight  \\\n",
              "count     205.00  164.00      205.00  205.00 205.00  205.00  205.00   \n",
              "mean        0.83  122.00       98.76  174.05  65.91   53.72 2555.57   \n",
              "std         1.25   35.44        6.02   12.34   2.15    2.44  520.68   \n",
              "min        -2.00   65.00       86.60  141.10  60.30   47.80 1488.00   \n",
              "25%         0.00   94.00       94.50  166.30  64.10   52.00 2145.00   \n",
              "50%         1.00  115.00       97.00  173.20  65.50   54.10 2414.00   \n",
              "75%         2.00  150.00      102.40  183.10  66.90   55.50 2935.00   \n",
              "max         3.00  256.00      120.90  208.10  72.30   59.80 4066.00   \n",
              "\n",
              "       engine-size  compression-ratio  city-mpg  highway-mpg    price  \n",
              "count       205.00             205.00    205.00       205.00   205.00  \n",
              "mean        126.91              10.14     25.22        30.75 13150.31  \n",
              "std          41.64               3.97      6.54         6.89  7879.12  \n",
              "min          61.00               7.00     13.00        16.00  5118.00  \n",
              "25%          97.00               8.60     19.00        25.00  7788.00  \n",
              "50%         120.00               9.00     24.00        30.00 10295.00  \n",
              "75%         141.00               9.40     30.00        34.00 16500.00  \n",
              "max         326.00              23.00     49.00        54.00 45400.00  "
            ]
          },
          "metadata": {
            "tags": []
          },
          "execution_count": 18
        }
      ]
    },
    {
      "cell_type": "code",
      "metadata": {
        "id": "uhbP-6KymHnr",
        "colab_type": "code",
        "outputId": "894e3121-0723-43f6-8a60-2e213b0c6e54",
        "colab": {
          "base_uri": "https://localhost:8080/",
          "height": 361
        }
      },
      "source": [
        "# Create a scatter plot with the model from above (when NA replaced by 0) and at least one other option.\n",
        "plt.ylabel(LABEL)\n",
        "plt.xlabel(INPUT_FEATURE)\n",
        "plt.scatter(car_data_v2[INPUT_FEATURE], car_data_v2[LABEL], c='black')\n",
        "plt.show()"
      ],
      "execution_count": 0,
      "outputs": [
        {
          "output_type": "display_data",
          "data": {
            "image/png": "[encoded data removed]",
            "text/plain": [
              "<Figure size 576x396 with 1 Axes>"
            ]
          },
          "metadata": {
            "tags": []
          }
        }
      ]
    },
    {
      "cell_type": "markdown",
      "metadata": {
        "id": "vEXKjXMZRv-q",
        "colab_type": "text"
      },
      "source": [
        "-----------------\n",
        "Las dos opciones que se miran son:\n",
        "1.   Fill NaN with 0\n",
        "2.   Fill NaN with  median\n",
        " Yo pensaría que a través de las gráficas la mejor manera de hacerlo sería reemplazar los NaN por la mediana pues hay menos \"clutter\" de datos en cuanto a cómo la data se acumula, sin embargo parece haber mayor data spread con el reemplazo de datos con 0. También depende de lo que estamos buscando en el dataset la manera en la que queremos suplantar los datos NaN."
      ]
    }
  ]
}