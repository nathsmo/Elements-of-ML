{
  "nbformat": 4,
  "nbformat_minor": 0,
  "metadata": {
    "colab": {
      "name": "Tarea2-EoML-UFM_Nathalia_Morales.ipynb",
      "version": "0.3.2",
      "provenance": [],
      "collapsed_sections": [],
      "include_colab_link": true
    },
    "kernelspec": {
      "name": "python3",
      "display_name": "Python 3"
    },
    "accelerator": "GPU"
  },
  "cells": [
    {
      "cell_type": "markdown",
      "metadata": {
        "id": "view-in-github",
        "colab_type": "text"
      },
      "source": [
        "<a href=\"https://colab.research.google.com/github/nathsmo/Elements-of-ML/blob/master/Tarea2_EoML_UFM_Nathalia_Morales.ipynb\" target=\"_parent\"><img src=\"https://colab.research.google.com/assets/colab-badge.svg\" alt=\"Open In Colab\"/></a>"
      ]
    },
    {
      "cell_type": "markdown",
      "metadata": {
        "id": "Z9q-QsN4dwaI",
        "colab_type": "text"
      },
      "source": [
        "# Problemas Conceptuales"
      ]
    },
    {
      "cell_type": "markdown",
      "metadata": {
        "id": "Yj_i28dqeFFn",
        "colab_type": "text"
      },
      "source": [
        "## Problema 1\n",
        "\n",
        "Suponga que tenemos datos con cinco predictores: $X_1=\\text{GPA}$ (promedio de calificaciones), $X_2=\\text{IQ}$, $X_3=\\text{Genero}$ (1 para Mujeres y 0 para Hombres), $X_4=\\text{Interaccion entre GPA y IQ}$ y $X_5=\\text{Interaccion entre GPA y Genero}$.\n",
        "\n",
        "La respuesta es el salario inicial luego de graduarse después de graduarse (en miles de dólares). Suponga que utilizamos el ajuste de mínimos cuadrados para ajustar al modelo, obteniendo así $\\hat\\beta_0=50$, $\\hat\\beta_1=20$, $\\hat\\beta_2=0.07$, $\\hat\\beta_3=35$, $\\hat\\beta_4=0.01$ y $\\hat\\beta_5=-10$."
      ]
    },
    {
      "cell_type": "markdown",
      "metadata": {
        "id": "UwOxB11tf4Fi",
        "colab_type": "text"
      },
      "source": [
        "1. ¿Cuál de las siguientes afirmaciones es correcta? ¿Por qué?\n",
        "    1. Para un valor fijo de IQ y GPA, los hombres ganan más en promedio que las mujeres.\n",
        "    2. Para un valor fijo de IQ y GPA, las mujeres ganan más en promedio que los hombres.\n",
        "    3. **Para un valor fijo de IQ y GPA, los hombres ganan más en promedio que las mujeres, siempre que el GPA sea lo suficientemente alto.**\n",
        "    4. Para un valor fijo de IQ y GPA, las mujeres ganan más en promedio que los hombres, siempre que el GPA sea lo suficientemente alto.\n",
        "    \n",
        "    \n",
        "    \n",
        "    * Esto ocurre porque el coeficiente de mujeres es 1 y el de hombres es 0 por lo que significa que cualquier valor que acompañe esta variable sera multiplicado por la cantidad de X3 lo que indica que siempre sera multiplicado por 0 en el caso de los hombres. Esto es bueno para las mujeres mientras el GPA sea bajo pues al el GPA ser muy alto se contraresta la forma de la grafica porque el GPA se multiplicara contra B5 que es -10 por lo que el coeficiente de 0 les da ventaja en que se contraresta la interracción entre GPA y Genero para aumentar."
      ]
    },
    {
      "cell_type": "markdown",
      "metadata": {
        "id": "urhRbgX1hkJl",
        "colab_type": "text"
      },
      "source": [
        "2. Prediga el salario de una mujer con $\\text{IQ}=110$ y $\\text{GPA}=4.0$.\n",
        "\n",
        "  *  50 + (20 * 4) + (0.07 * 110) + (35 * 1) + (0.01 * 440) + (-10 * 4)\n",
        "  * 137.1"
      ]
    },
    {
      "cell_type": "markdown",
      "metadata": {
        "id": "oIei7b-Qhu_7",
        "colab_type": "text"
      },
      "source": [
        "3. Verdadero o Falso: Ya que el coeficiente de la interacción entre GPA y IQ es muy pequeño, no hay suficiente evidencia de que haya un término de interacción. Justifique su respuesta.\n",
        "\n",
        "  * Falso, aún siendo el coeficiente de interacción entre el GPA e IQ  bajo no demuestra evidencia o falta de evidencia de un término de interacción. Para poder encontrar tal término de interacción se necesitaría hacer un análisis más profundo de investigación por lo cual se necesitaría un a variable p que no se nos provee en en los datos. Es cierto que el coeficiente de interacción es bajo pero eso sólo nos demuestra la baja inclinación de la pendiente en la gráfica conforme a esta variable."
      ]
    },
    {
      "cell_type": "markdown",
      "metadata": {
        "id": "dRyWyMwMiH8D",
        "colab_type": "text"
      },
      "source": [
        "## Problema 2\n",
        "\n",
        "Para un modelo de regresión lineal simple, tenemos los coeficientes que minimizan al RSS:\n",
        "\n",
        "$$\\hat \\beta_1 =\\frac{\\sum_{i=1}^{n}(x_i-\\bar x)(y_i - \\bar y)}{\\sum_{i=1}^{n}(x_i-\\bar x)^2}$$\n",
        "\n",
        "$$\\hat \\beta_0 =\\bar y - \\hat \\beta_1 \\bar x$$\n",
        "\n",
        "Muestre que dicha recta *siempre* pasa por el punto $(\\bar x, \\bar y)$.\n"
      ]
    },
    {
      "cell_type": "markdown",
      "metadata": {
        "id": "1_CArfLEFEjZ",
        "colab_type": "text"
      },
      "source": [
        "Muestra:\n",
        "\n",
        "https://drive.google.com/file/d/1I3BsUl5lxQsGllQUtlmVfG5viqdKi8va/view?usp=sharing"
      ]
    },
    {
      "cell_type": "markdown",
      "metadata": {
        "id": "z6srJ4sodfLK",
        "colab_type": "text"
      },
      "source": [
        "# Problema Aplicado\n",
        "\n",
        "Exploraremos los datos que podemos encontrar en `scikit-learn`. Empezamos cargando los paquetes necesarios (realizaremos ésto solamente en esta tarea; de aquí en adelante depende de usted de cargar los paquetes necesarios, así como documentar los utilizados):"
      ]
    },
    {
      "cell_type": "code",
      "metadata": {
        "id": "-HZrJaBUHrS4",
        "colab_type": "code",
        "outputId": "313c6c49-98cb-40e7-85a4-2b510bcb1ca6",
        "colab": {
          "base_uri": "https://localhost:8080/",
          "height": 136
        }
      },
      "source": [
        "import numpy as np\n",
        "import pandas as pd\n",
        "\n",
        "import matplotlib\n",
        "import matplotlib.pyplot as plt\n",
        "\n",
        "import seaborn as sns\n",
        "\n",
        "import patsy\n",
        "from patsy import dmatrix\n",
        "\n",
        "import sklearn\n",
        "from sklearn.datasets import load_boston\n",
        "from sklearn.linear_model import LinearRegression\n",
        "from sklearn.model_selection import train_test_split\n",
        "from sklearn.metrics import mean_squared_error\n",
        "from sklearn.preprocessing import PolynomialFeatures\n",
        "from sklearn.pipeline import make_pipeline\n",
        "\n",
        "print(\"Todos los paquetes han sido importados:\")\n",
        "print(\"Numpy version: {}\".format(np.__version__))\n",
        "print(\"Pandas version: {}\".format(pd.__version__))\n",
        "print(\"Matplotlib version: {}\".format(matplotlib.__version__))\n",
        "print(\"Seaborn version: {}\".format(sns.__version__))\n",
        "print(\"patsy version: {}\".format(patsy.__version__))\n",
        "print(\"Scikit-learn version: {}\".format(sklearn.__version__))"
      ],
      "execution_count": 0,
      "outputs": [
        {
          "output_type": "stream",
          "text": [
            "Todos los paquetes han sido importados:\n",
            "Numpy version: 1.14.6\n",
            "Pandas version: 0.22.0\n",
            "Matplotlib version: 3.0.2\n",
            "Seaborn version: 0.7.1\n",
            "patsy version: 0.5.1\n",
            "Scikit-learn version: 0.20.2\n"
          ],
          "name": "stdout"
        }
      ]
    },
    {
      "cell_type": "markdown",
      "metadata": {
        "id": "pAk3Qzf3OiTp",
        "colab_type": "text"
      },
      "source": [
        "## Modificando los parámetros de seaborn\n",
        "\n",
        "Ésta parte es opcional, depende de su gusto para presentar gráficos. Para ver qué opciones tienen, [vean la documentación en seaborn](https://seaborn.pydata.org/tutorial/aesthetics.html)."
      ]
    },
    {
      "cell_type": "code",
      "metadata": {
        "id": "9cZwF6DLIAn1",
        "colab_type": "code",
        "colab": {}
      },
      "source": [
        "sns.set_style(\"whitegrid\")\n",
        "sns.set_context(\"talk\")\n",
        "sns.set(rc={\"figure.figsize\": (20, 20)})"
      ],
      "execution_count": 0,
      "outputs": []
    },
    {
      "cell_type": "markdown",
      "metadata": {
        "id": "RzZEFhN8Pjkv",
        "colab_type": "text"
      },
      "source": [
        "## Un poco de EDA\n",
        "\n",
        "`scikit-learn` tiene algunos datos que podemos acceder fácilmente. En éste caso, veremos los datos del precio de casas de Boston, pero si desea explorar algún otro, véa qué otros datos tiene disponible [`sklearn.datasets`](https://scikit-learn.org/stable/datasets/index.html#toy-datasets)."
      ]
    },
    {
      "cell_type": "code",
      "metadata": {
        "id": "3Z58qAcSIDsD",
        "colab_type": "code",
        "outputId": "73441aaa-7e16-474c-9ddc-e0fb72fb4f79",
        "colab": {
          "base_uri": "https://localhost:8080/",
          "height": 34
        }
      },
      "source": [
        "boston = load_boston()\n",
        "\n",
        "# Para ver qué traen los datos, vemos los keys:\n",
        "print(boston.keys())"
      ],
      "execution_count": 0,
      "outputs": [
        {
          "output_type": "stream",
          "text": [
            "dict_keys(['data', 'target', 'feature_names', 'DESCR', 'filename'])\n"
          ],
          "name": "stdout"
        }
      ]
    },
    {
      "cell_type": "markdown",
      "metadata": {
        "id": "k8valuu8lKuP",
        "colab_type": "text"
      },
      "source": [
        "Por lo tanto, podemos acceder a los datos o predictores (`X`) mediante `boston.data` y a la variable de respuesta (`Y`) mediante `boston.target`. Asimismo, si deseamos ver la descripción de los datos, la cantidad de datos, etc., lo accedemos mediante `boston.DESCR` o bien `boston[\"DESCR\"]`: "
      ]
    },
    {
      "cell_type": "code",
      "metadata": {
        "id": "i-_D559KkCpA",
        "colab_type": "code",
        "outputId": "63688eb5-c539-4fa5-977a-9b21a213ab4d",
        "colab": {
          "base_uri": "https://localhost:8080/",
          "height": 904
        }
      },
      "source": [
        "print(boston[\"DESCR\"])"
      ],
      "execution_count": 0,
      "outputs": [
        {
          "output_type": "stream",
          "text": [
            ".. _boston_dataset:\n",
            "\n",
            "Boston house prices dataset\n",
            "---------------------------\n",
            "\n",
            "**Data Set Characteristics:**  \n",
            "\n",
            "    :Number of Instances: 506 \n",
            "\n",
            "    :Number of Attributes: 13 numeric/categorical predictive. Median Value (attribute 14) is usually the target.\n",
            "\n",
            "    :Attribute Information (in order):\n",
            "        - CRIM     per capita crime rate by town\n",
            "        - ZN       proportion of residential land zoned for lots over 25,000 sq.ft.\n",
            "        - INDUS    proportion of non-retail business acres per town\n",
            "        - CHAS     Charles River dummy variable (= 1 if tract bounds river; 0 otherwise)\n",
            "        - NOX      nitric oxides concentration (parts per 10 million)\n",
            "        - RM       average number of rooms per dwelling\n",
            "        - AGE      proportion of owner-occupied units built prior to 1940\n",
            "        - DIS      weighted distances to five Boston employment centres\n",
            "        - RAD      index of accessibility to radial highways\n",
            "        - TAX      full-value property-tax rate per $10,000\n",
            "        - PTRATIO  pupil-teacher ratio by town\n",
            "        - B        1000(Bk - 0.63)^2 where Bk is the proportion of blacks by town\n",
            "        - LSTAT    % lower status of the population\n",
            "        - MEDV     Median value of owner-occupied homes in $1000's\n",
            "\n",
            "    :Missing Attribute Values: None\n",
            "\n",
            "    :Creator: Harrison, D. and Rubinfeld, D.L.\n",
            "\n",
            "This is a copy of UCI ML housing dataset.\n",
            "https://archive.ics.uci.edu/ml/machine-learning-databases/housing/\n",
            "\n",
            "\n",
            "This dataset was taken from the StatLib library which is maintained at Carnegie Mellon University.\n",
            "\n",
            "The Boston house-price data of Harrison, D. and Rubinfeld, D.L. 'Hedonic\n",
            "prices and the demand for clean air', J. Environ. Economics & Management,\n",
            "vol.5, 81-102, 1978.   Used in Belsley, Kuh & Welsch, 'Regression diagnostics\n",
            "...', Wiley, 1980.   N.B. Various transformations are used in the table on\n",
            "pages 244-261 of the latter.\n",
            "\n",
            "The Boston house-price data has been used in many machine learning papers that address regression\n",
            "problems.   \n",
            "     \n",
            ".. topic:: References\n",
            "\n",
            "   - Belsley, Kuh & Welsch, 'Regression diagnostics: Identifying Influential Data and Sources of Collinearity', Wiley, 1980. 244-261.\n",
            "   - Quinlan,R. (1993). Combining Instance-Based and Model-Based Learning. In Proceedings on the Tenth International Conference of Machine Learning, 236-243, University of Massachusetts, Amherst. Morgan Kaufmann.\n",
            "\n"
          ],
          "name": "stdout"
        }
      ]
    },
    {
      "cell_type": "markdown",
      "metadata": {
        "id": "lInpHj5KJFUm",
        "colab_type": "text"
      },
      "source": [
        "Vemos que queremos predecir el valor mediano de una casa en Boston. Convertimos a los datos en un DataFrame, aunque no es necesario. En efecto, podemos hacer:\n",
        "\n",
        "```python\n",
        "X = boston.data\n",
        "Y = boston.target\n",
        "```\n",
        "lo cual bastaría. Sin embargo, procedemos de la forma más presentable, formando el DataFrame que usaremos:"
      ]
    },
    {
      "cell_type": "code",
      "metadata": {
        "id": "wxp4DQf8Iz0i",
        "colab_type": "code",
        "outputId": "3da26a6c-878c-47bd-9d38-2b672cbf697f",
        "colab": {
          "base_uri": "https://localhost:8080/",
          "height": 224
        }
      },
      "source": [
        "bos = pd.DataFrame(boston.data, columns=boston.feature_names)\n",
        "bos[\"MEDV\"] = boston.target\n",
        "\n",
        "bos.head()"
      ],
      "execution_count": 0,
      "outputs": [
        {
          "output_type": "execute_result",
          "data": {
            "text/html": [
              "<div>\n",
              "<style scoped>\n",
              "    .dataframe tbody tr th:only-of-type {\n",
              "        vertical-align: middle;\n",
              "    }\n",
              "\n",
              "    .dataframe tbody tr th {\n",
              "        vertical-align: top;\n",
              "    }\n",
              "\n",
              "    .dataframe thead th {\n",
              "        text-align: right;\n",
              "    }\n",
              "</style>\n",
              "<table border=\"1\" class=\"dataframe\">\n",
              "  <thead>\n",
              "    <tr style=\"text-align: right;\">\n",
              "      <th></th>\n",
              "      <th>CRIM</th>\n",
              "      <th>ZN</th>\n",
              "      <th>INDUS</th>\n",
              "      <th>CHAS</th>\n",
              "      <th>NOX</th>\n",
              "      <th>RM</th>\n",
              "      <th>AGE</th>\n",
              "      <th>DIS</th>\n",
              "      <th>RAD</th>\n",
              "      <th>TAX</th>\n",
              "      <th>PTRATIO</th>\n",
              "      <th>B</th>\n",
              "      <th>LSTAT</th>\n",
              "      <th>MEDV</th>\n",
              "    </tr>\n",
              "  </thead>\n",
              "  <tbody>\n",
              "    <tr>\n",
              "      <th>0</th>\n",
              "      <td>0.00632</td>\n",
              "      <td>18.0</td>\n",
              "      <td>2.31</td>\n",
              "      <td>0.0</td>\n",
              "      <td>0.538</td>\n",
              "      <td>6.575</td>\n",
              "      <td>65.2</td>\n",
              "      <td>4.0900</td>\n",
              "      <td>1.0</td>\n",
              "      <td>296.0</td>\n",
              "      <td>15.3</td>\n",
              "      <td>396.90</td>\n",
              "      <td>4.98</td>\n",
              "      <td>24.0</td>\n",
              "    </tr>\n",
              "    <tr>\n",
              "      <th>1</th>\n",
              "      <td>0.02731</td>\n",
              "      <td>0.0</td>\n",
              "      <td>7.07</td>\n",
              "      <td>0.0</td>\n",
              "      <td>0.469</td>\n",
              "      <td>6.421</td>\n",
              "      <td>78.9</td>\n",
              "      <td>4.9671</td>\n",
              "      <td>2.0</td>\n",
              "      <td>242.0</td>\n",
              "      <td>17.8</td>\n",
              "      <td>396.90</td>\n",
              "      <td>9.14</td>\n",
              "      <td>21.6</td>\n",
              "    </tr>\n",
              "    <tr>\n",
              "      <th>2</th>\n",
              "      <td>0.02729</td>\n",
              "      <td>0.0</td>\n",
              "      <td>7.07</td>\n",
              "      <td>0.0</td>\n",
              "      <td>0.469</td>\n",
              "      <td>7.185</td>\n",
              "      <td>61.1</td>\n",
              "      <td>4.9671</td>\n",
              "      <td>2.0</td>\n",
              "      <td>242.0</td>\n",
              "      <td>17.8</td>\n",
              "      <td>392.83</td>\n",
              "      <td>4.03</td>\n",
              "      <td>34.7</td>\n",
              "    </tr>\n",
              "    <tr>\n",
              "      <th>3</th>\n",
              "      <td>0.03237</td>\n",
              "      <td>0.0</td>\n",
              "      <td>2.18</td>\n",
              "      <td>0.0</td>\n",
              "      <td>0.458</td>\n",
              "      <td>6.998</td>\n",
              "      <td>45.8</td>\n",
              "      <td>6.0622</td>\n",
              "      <td>3.0</td>\n",
              "      <td>222.0</td>\n",
              "      <td>18.7</td>\n",
              "      <td>394.63</td>\n",
              "      <td>2.94</td>\n",
              "      <td>33.4</td>\n",
              "    </tr>\n",
              "    <tr>\n",
              "      <th>4</th>\n",
              "      <td>0.06905</td>\n",
              "      <td>0.0</td>\n",
              "      <td>2.18</td>\n",
              "      <td>0.0</td>\n",
              "      <td>0.458</td>\n",
              "      <td>7.147</td>\n",
              "      <td>54.2</td>\n",
              "      <td>6.0622</td>\n",
              "      <td>3.0</td>\n",
              "      <td>222.0</td>\n",
              "      <td>18.7</td>\n",
              "      <td>396.90</td>\n",
              "      <td>5.33</td>\n",
              "      <td>36.2</td>\n",
              "    </tr>\n",
              "  </tbody>\n",
              "</table>\n",
              "</div>"
            ],
            "text/plain": [
              "      CRIM    ZN  INDUS  CHAS    NOX     RM   AGE     DIS  RAD    TAX  \\\n",
              "0  0.00632  18.0   2.31   0.0  0.538  6.575  65.2  4.0900  1.0  296.0   \n",
              "1  0.02731   0.0   7.07   0.0  0.469  6.421  78.9  4.9671  2.0  242.0   \n",
              "2  0.02729   0.0   7.07   0.0  0.469  7.185  61.1  4.9671  2.0  242.0   \n",
              "3  0.03237   0.0   2.18   0.0  0.458  6.998  45.8  6.0622  3.0  222.0   \n",
              "4  0.06905   0.0   2.18   0.0  0.458  7.147  54.2  6.0622  3.0  222.0   \n",
              "\n",
              "   PTRATIO       B  LSTAT  MEDV  \n",
              "0     15.3  396.90   4.98  24.0  \n",
              "1     17.8  396.90   9.14  21.6  \n",
              "2     17.8  392.83   4.03  34.7  \n",
              "3     18.7  394.63   2.94  33.4  \n",
              "4     18.7  396.90   5.33  36.2  "
            ]
          },
          "metadata": {
            "tags": []
          },
          "execution_count": 6
        }
      ]
    },
    {
      "cell_type": "markdown",
      "metadata": {
        "id": "lmCwReITJ3Q5",
        "colab_type": "text"
      },
      "source": [
        "### Matriz de Correlación\n",
        "\n",
        "La forma más sencilla de conseguir a la matriz de correlación es mediante [`.corr()`](https://pandas.pydata.org/pandas-docs/stable/generated/pandas.DataFrame.corr.html):"
      ]
    },
    {
      "cell_type": "code",
      "metadata": {
        "id": "NSOTuwx-n8Wm",
        "colab_type": "code",
        "outputId": "919f703d-27b0-4aee-cfea-2fc01b9392dd",
        "colab": {
          "base_uri": "https://localhost:8080/",
          "height": 564
        }
      },
      "source": [
        "print(bos.corr())"
      ],
      "execution_count": 0,
      "outputs": [
        {
          "output_type": "stream",
          "text": [
            "             CRIM        ZN     INDUS      CHAS       NOX        RM       AGE  \\\n",
            "CRIM     1.000000 -0.200469  0.406583 -0.055892  0.420972 -0.219247  0.352734   \n",
            "ZN      -0.200469  1.000000 -0.533828 -0.042697 -0.516604  0.311991 -0.569537   \n",
            "INDUS    0.406583 -0.533828  1.000000  0.062938  0.763651 -0.391676  0.644779   \n",
            "CHAS    -0.055892 -0.042697  0.062938  1.000000  0.091203  0.091251  0.086518   \n",
            "NOX      0.420972 -0.516604  0.763651  0.091203  1.000000 -0.302188  0.731470   \n",
            "RM      -0.219247  0.311991 -0.391676  0.091251 -0.302188  1.000000 -0.240265   \n",
            "AGE      0.352734 -0.569537  0.644779  0.086518  0.731470 -0.240265  1.000000   \n",
            "DIS     -0.379670  0.664408 -0.708027 -0.099176 -0.769230  0.205246 -0.747881   \n",
            "RAD      0.625505 -0.311948  0.595129 -0.007368  0.611441 -0.209847  0.456022   \n",
            "TAX      0.582764 -0.314563  0.720760 -0.035587  0.668023 -0.292048  0.506456   \n",
            "PTRATIO  0.289946 -0.391679  0.383248 -0.121515  0.188933 -0.355501  0.261515   \n",
            "B       -0.385064  0.175520 -0.356977  0.048788 -0.380051  0.128069 -0.273534   \n",
            "LSTAT    0.455621 -0.412995  0.603800 -0.053929  0.590879 -0.613808  0.602339   \n",
            "MEDV    -0.388305  0.360445 -0.483725  0.175260 -0.427321  0.695360 -0.376955   \n",
            "\n",
            "              DIS       RAD       TAX   PTRATIO         B     LSTAT      MEDV  \n",
            "CRIM    -0.379670  0.625505  0.582764  0.289946 -0.385064  0.455621 -0.388305  \n",
            "ZN       0.664408 -0.311948 -0.314563 -0.391679  0.175520 -0.412995  0.360445  \n",
            "INDUS   -0.708027  0.595129  0.720760  0.383248 -0.356977  0.603800 -0.483725  \n",
            "CHAS    -0.099176 -0.007368 -0.035587 -0.121515  0.048788 -0.053929  0.175260  \n",
            "NOX     -0.769230  0.611441  0.668023  0.188933 -0.380051  0.590879 -0.427321  \n",
            "RM       0.205246 -0.209847 -0.292048 -0.355501  0.128069 -0.613808  0.695360  \n",
            "AGE     -0.747881  0.456022  0.506456  0.261515 -0.273534  0.602339 -0.376955  \n",
            "DIS      1.000000 -0.494588 -0.534432 -0.232471  0.291512 -0.496996  0.249929  \n",
            "RAD     -0.494588  1.000000  0.910228  0.464741 -0.444413  0.488676 -0.381626  \n",
            "TAX     -0.534432  0.910228  1.000000  0.460853 -0.441808  0.543993 -0.468536  \n",
            "PTRATIO -0.232471  0.464741  0.460853  1.000000 -0.177383  0.374044 -0.507787  \n",
            "B        0.291512 -0.444413 -0.441808 -0.177383  1.000000 -0.366087  0.333461  \n",
            "LSTAT   -0.496996  0.488676  0.543993  0.374044 -0.366087  1.000000 -0.737663  \n",
            "MEDV     0.249929 -0.381626 -0.468536 -0.507787  0.333461 -0.737663  1.000000  \n"
          ],
          "name": "stdout"
        }
      ]
    },
    {
      "cell_type": "markdown",
      "metadata": {
        "id": "l7V8FDjSmQ8M",
        "colab_type": "text"
      },
      "source": [
        "No se mira muy bonito, así que otra forma de visualizar la correlación entre las variables es mediante un [`heatmap`](https://seaborn.pydata.org/generated/seaborn.heatmap.html):"
      ]
    },
    {
      "cell_type": "code",
      "metadata": {
        "id": "sjdlhHwAJ1wl",
        "colab_type": "code",
        "outputId": "d5255a58-e102-4e83-f273-253cecd21894",
        "colab": {
          "base_uri": "https://localhost:8080/",
          "height": 866
        }
      },
      "source": [
        "cols = list(bos)\n",
        "sns.set(font_scale=.75)\n",
        "\n",
        "fig, ax = plt.subplots(figsize=(15,15))\n",
        "sns.heatmap(bos.corr(), ax=ax, cbar=True, annot=True, fmt=\".2f\", square=True, yticklabels=cols, xticklabels=cols)\n",
        "plt.show()"
      ],
      "execution_count": 0,
      "outputs": [
        {
          "output_type": "display_data",
          "data": {
            "image/png": "[encoded data removed]",
            "text/plain": [
              "<Figure size 1080x1080 with 2 Axes>"
            ]
          },
          "metadata": {
            "tags": []
          }
        }
      ]
    },
    {
      "cell_type": "markdown",
      "metadata": {
        "id": "p1YqDxbiKH9X",
        "colab_type": "text"
      },
      "source": [
        "## Separando los datos en train y test\n",
        "\n",
        "Proseguimos separando los datos en $\\mathcal{T}_{\\text{Tr}}$ y en $\\mathcal{T}_{\\text{Te}}$. Ésta vez tendremos que \n",
        "\n",
        "$$ |\\mathcal{T}_{\\text{Tr}}|/ |\\mathcal{T}|=0.75 \\qquad \\text{ y }  \\qquad |\\mathcal{T}_{\\text{Te}}|/| \\mathcal{T}|=0.25 $$\n",
        "\n",
        "Aunque no es una regla escrita en piedra. Además, tendremos `random_state=42` para que así se puedan reproducir los resultados de manera consistente. Usaremos, entonces a [`train_test_split`](https://scikit-learn.org/stable/modules/generated/sklearn.model_selection.train_test_split.html) de `scikit-learn`, el cual nos regresará 4 conjuntos de datos: a `X` separado en el conjunto de entrenamiento y prueba, y a `Y` separado en el conjunto de entrenamiento y de prueba, respectivamente:"
      ]
    },
    {
      "cell_type": "code",
      "metadata": {
        "id": "7r48Z25DIHgg",
        "colab_type": "code",
        "outputId": "964e753b-ec15-4660-a91c-bce7344d21fe",
        "colab": {
          "base_uri": "https://localhost:8080/",
          "height": 85
        }
      },
      "source": [
        "X = bos.drop(\"MEDV\", axis=1)\n",
        "Y = bos[\"MEDV\"]\n",
        "\n",
        "X_train, X_test, Y_train, Y_test = train_test_split(X, Y, test_size=0.25, random_state=42)\n",
        "\n",
        "print(X_train.shape)\n",
        "print(Y_train.shape)\n",
        "\n",
        "print(X_test.shape)\n",
        "print(Y_test.shape)\n"
      ],
      "execution_count": 0,
      "outputs": [
        {
          "output_type": "stream",
          "text": [
            "(379, 13)\n",
            "(379,)\n",
            "(127, 13)\n",
            "(127,)\n"
          ],
          "name": "stdout"
        }
      ]
    },
    {
      "cell_type": "markdown",
      "metadata": {
        "id": "yI264PwEB2qy",
        "colab_type": "text"
      },
      "source": [
        "#### Pregunta 1:\n",
        "\n",
        "¿Existe evidencia de que alguno de sus datos tenga alto apalancamiento?"
      ]
    },
    {
      "cell_type": "markdown",
      "metadata": {
        "id": "b5YhMm5h6lTM",
        "colab_type": "text"
      },
      "source": [
        "* Existe evidencia de un poco de apalancamiento en la data, por ejemplo con DIS y NDX, sin embargo no existe una muestra evidente de que una variable tenga un alto apalancamiento dentro de la data."
      ]
    },
    {
      "cell_type": "markdown",
      "metadata": {
        "id": "I76LWc9uCCx6",
        "colab_type": "text"
      },
      "source": [
        "## Regresión Lineal\n",
        "\n",
        "Proseguimos utilizando ahora a [`LinearRegression`](https://scikit-learn.org/stable/modules/generated/sklearn.linear_model.LinearRegression.html) de `scikit-learn`. Primero lo llamamos, luego lo entrenamos con los datos `X_train` usando `.fit()` y finalmente realizamos predicciones tanto en nuestros datos de entrenamiento como en los datos de prueba `X_test` y calculamos su error cuadrático medio:"
      ]
    },
    {
      "cell_type": "code",
      "metadata": {
        "id": "ktPKWkCvITII",
        "colab_type": "code",
        "outputId": "ed2400ac-43a4-407e-b655-8e9ad59c54f0",
        "colab": {
          "base_uri": "https://localhost:8080/",
          "height": 51
        }
      },
      "source": [
        "lm = LinearRegression()\n",
        "\n",
        "lm.fit(X_train, Y_train)\n",
        "\n",
        "# Realizamos predicciones:\n",
        "\n",
        "pred_train = lm.predict(X_train)\n",
        "pred_test = lm.predict(X_test)\n",
        "\n",
        "# Definimos a \n",
        "\n",
        "mse_train = mean_squared_error(Y_train, pred_train)\n",
        "mse_test = mean_squared_error(Y_test, pred_test)\n",
        "\n",
        "print(\"Error cuadrático medio de entrenamiento: \", mse_train)\n",
        "print(\"Error cuadrático medio de prueba: \", mse_test)"
      ],
      "execution_count": 0,
      "outputs": [
        {
          "output_type": "stream",
          "text": [
            "Error cuadrático medio de entrenamiento:  22.34005799215287\n",
            "Error cuadrático medio de prueba:  22.098694827098146\n"
          ],
          "name": "stdout"
        }
      ]
    },
    {
      "cell_type": "markdown",
      "metadata": {
        "id": "ojNnV0dJqEG_",
        "colab_type": "text"
      },
      "source": [
        "Si queremos acceder a los coeficientes del modelo, utilizamos a `.intercept_` para $\\hat \\beta_0$ y a `.coef_` para todos los otros $\\hat \\beta_j$:"
      ]
    },
    {
      "cell_type": "code",
      "metadata": {
        "id": "AOBOs6-vaXLr",
        "colab_type": "code",
        "outputId": "0ea48163-a4ba-48b4-8ae1-550e12f81d3e",
        "colab": {
          "base_uri": "https://localhost:8080/",
          "height": 139
        }
      },
      "source": [
        "print(\"beta_0={}\".format(lm.intercept_))\n",
        "\n",
        "print(\"Numero de predictores (sin intercepto):\", len(lm.coef_))\n",
        "\n",
        "print(\"beta_j: \",lm.coef_)"
      ],
      "execution_count": 0,
      "outputs": [
        {
          "output_type": "stream",
          "text": [
            "beta_0=29.83642016383877\n",
            "Numero de predictores (sin intercepto): 13\n",
            "beta_j:  [-1.28322638e-01  2.95517751e-02  4.88590934e-02  2.77350326e+00\n",
            " -1.62388292e+01  4.36875476e+00 -9.24808158e-03 -1.40086668e+00\n",
            "  2.57761243e-01 -9.95694820e-03 -9.23122944e-01  1.31854199e-02\n",
            " -5.17639519e-01]\n"
          ],
          "name": "stdout"
        }
      ]
    },
    {
      "cell_type": "markdown",
      "metadata": {
        "id": "88hD5tsgqgC7",
        "colab_type": "text"
      },
      "source": [
        "Podemos agruparlos en un solo dataframe para presentarlos de una mejor manera:"
      ]
    },
    {
      "cell_type": "code",
      "metadata": {
        "id": "HLjrLvYpqhDb",
        "colab_type": "code",
        "outputId": "22fd8c62-416d-40a6-a6d4-c31c2644c7a6",
        "colab": {
          "base_uri": "https://localhost:8080/",
          "height": 272
        }
      },
      "source": [
        "coeff = pd.DataFrame(list(zip(X.columns, lm.coef_)), columns=[\"Feature\", \"CoeficienteEstimado\"])\n",
        "\n",
        "inter = [{\"Feature\": \"INTERCEPT\", \"CoeficienteEstimado\": lm.intercept_}]\n",
        "\n",
        "coeff = pd.concat([pd.DataFrame(inter), coeff], ignore_index=True)\n",
        "\n",
        "print(coeff)\n",
        "#print(coeff[\"CoeficienteEstimado\"])"
      ],
      "execution_count": 0,
      "outputs": [
        {
          "output_type": "stream",
          "text": [
            "    CoeficienteEstimado    Feature\n",
            "0             29.836420  INTERCEPT\n",
            "1             -0.128323       CRIM\n",
            "2              0.029552         ZN\n",
            "3              0.048859      INDUS\n",
            "4              2.773503       CHAS\n",
            "5            -16.238829        NOX\n",
            "6              4.368755         RM\n",
            "7             -0.009248        AGE\n",
            "8             -1.400867        DIS\n",
            "9              0.257761        RAD\n",
            "10            -0.009957        TAX\n",
            "11            -0.923123    PTRATIO\n",
            "12             0.013185          B\n",
            "13            -0.517640      LSTAT\n"
          ],
          "name": "stdout"
        }
      ]
    },
    {
      "cell_type": "markdown",
      "metadata": {
        "id": "9lYeeIts-Xur",
        "colab_type": "text"
      },
      "source": [
        "### Ejercicio 2: \n",
        "\n",
        "Obtenga los parametros obtenidos arriba usando NumPy, patsy, etc., como un `array`. Compararemos sus parámetros con `coeff` arriba y no debe de tirar error el programa. Defina a una función que luego llamará mediante el bloque\n",
        "\n",
        "```python\n",
        "beta = # Su función aquí\n",
        "```"
      ]
    },
    {
      "cell_type": "code",
      "metadata": {
        "id": "LX0w09-4DeJi",
        "colab_type": "code",
        "outputId": "e4136bda-3718-4813-a87e-e1ae5a5bde5c",
        "colab": {
          "base_uri": "https://localhost:8080/",
          "height": 343
        }
      },
      "source": [
        "import statsmodels.formula.api as smf\n",
        "from astropy.table import Table, Column\n",
        "import statsmodels.api as sm\n",
        "from sklearn import datasets\n",
        "\n",
        "model = sm.OLS(Y, X).fit()\n",
        "predictions = model.predict(X)\n",
        "\n",
        "est = smf.ols(formula=\"MEDV ~ CRIM+ZN+INDUS+CHAS+NOX+RM+AGE+DIS+RAD+TAX+PTRATIO+B+LSTAT\", data=bos).fit()\n",
        "print(est.summary().tables[1])\n",
        "\n",
        "\n",
        "est2 = smf.ols(formula=\"MEDV ~ CRIM\", data=bos).fit()\n",
        "#print(est2.summary().tables[1])\n",
        "\n",
        "tabl1 = (est.summary().tables[1])\n",
        "t = Table(tabl1[1:])\n",
        "t1=(t[1])\n",
        "#print(t1)\n",
        "beta = []\n",
        "for i in t1:\n",
        "  beta.append(i)\n",
        "  #print(i)\n"
      ],
      "execution_count": 0,
      "outputs": [
        {
          "output_type": "stream",
          "text": [
            "==============================================================================\n",
            "                 coef    std err          t      P>|t|      [0.025      0.975]\n",
            "------------------------------------------------------------------------------\n",
            "Intercept     36.4595      5.103      7.144      0.000      26.432      46.487\n",
            "CRIM          -0.1080      0.033     -3.287      0.001      -0.173      -0.043\n",
            "ZN             0.0464      0.014      3.382      0.001       0.019       0.073\n",
            "INDUS          0.0206      0.061      0.334      0.738      -0.100       0.141\n",
            "CHAS           2.6867      0.862      3.118      0.002       0.994       4.380\n",
            "NOX          -17.7666      3.820     -4.651      0.000     -25.272     -10.262\n",
            "RM             3.8099      0.418      9.116      0.000       2.989       4.631\n",
            "AGE            0.0007      0.013      0.052      0.958      -0.025       0.027\n",
            "DIS           -1.4756      0.199     -7.398      0.000      -1.867      -1.084\n",
            "RAD            0.3060      0.066      4.613      0.000       0.176       0.436\n",
            "TAX           -0.0123      0.004     -3.280      0.001      -0.020      -0.005\n",
            "PTRATIO       -0.9527      0.131     -7.283      0.000      -1.210      -0.696\n",
            "B              0.0093      0.003      3.467      0.001       0.004       0.015\n",
            "LSTAT         -0.5248      0.051    -10.347      0.000      -0.624      -0.425\n",
            "==============================================================================\n"
          ],
          "name": "stdout"
        }
      ]
    },
    {
      "cell_type": "code",
      "metadata": {
        "id": "ss1OCdcg7Yhb",
        "colab_type": "code",
        "outputId": "b9cb7621-69af-4c8b-e04f-c2636563275c",
        "colab": {
          "base_uri": "https://localhost:8080/",
          "height": 326
        }
      },
      "source": [
        "model = sm.OLS(Y, X).fit()\n",
        "predictions = model.predict(X)\n",
        "\n",
        "print(model.summary().tables[1])"
      ],
      "execution_count": 0,
      "outputs": [
        {
          "output_type": "stream",
          "text": [
            "==============================================================================\n",
            "                 coef    std err          t      P>|t|      [0.025      0.975]\n",
            "------------------------------------------------------------------------------\n",
            "CRIM          -0.0929      0.034     -2.699      0.007      -0.161      -0.025\n",
            "ZN             0.0487      0.014      3.382      0.001       0.020       0.077\n",
            "INDUS         -0.0041      0.064     -0.063      0.950      -0.131       0.123\n",
            "CHAS           2.8540      0.904      3.157      0.002       1.078       4.630\n",
            "NOX           -2.8684      3.359     -0.854      0.394      -9.468       3.731\n",
            "RM             5.9281      0.309     19.178      0.000       5.321       6.535\n",
            "AGE           -0.0073      0.014     -0.526      0.599      -0.034       0.020\n",
            "DIS           -0.9685      0.196     -4.951      0.000      -1.353      -0.584\n",
            "RAD            0.1712      0.067      2.564      0.011       0.040       0.302\n",
            "TAX           -0.0094      0.004     -2.395      0.017      -0.017      -0.002\n",
            "PTRATIO       -0.3922      0.110     -3.570      0.000      -0.608      -0.176\n",
            "B              0.0149      0.003      5.528      0.000       0.010       0.020\n",
            "LSTAT         -0.4163      0.051     -8.197      0.000      -0.516      -0.317\n",
            "==============================================================================\n"
          ],
          "name": "stdout"
        }
      ]
    },
    {
      "cell_type": "code",
      "metadata": {
        "id": "Bt_xh0pUn_uo",
        "colab_type": "code",
        "colab": {}
      },
      "source": [
        "#assert np.linalg.norm(coeff[\"CoeficienteEstimado\"]-beta, ord=2) < 10**(-5), \"¡Oh no, sus coeficientes son muy distintos! Revise su algoritmo.\""
      ],
      "execution_count": 0,
      "outputs": []
    },
    {
      "cell_type": "markdown",
      "metadata": {
        "id": "q57Kqivb-rRj",
        "colab_type": "text"
      },
      "source": [
        "Lamentablemente no logré encontrar una función que encontrara los mismos parametros que fueron encontrados en la otra función, tienen una diferencia considerable entre lo que yo encontré y lo que nos fue dado.\n"
      ]
    },
    {
      "cell_type": "markdown",
      "metadata": {
        "id": "Nrpld-VhsrKJ",
        "colab_type": "text"
      },
      "source": [
        "## Regresion polinomial de grado 2\n",
        "\n",
        "Puede que la regresión lineal no sea suficiente. Para ésto, podemos utilizar a [`PolynomialFeatures`](https://scikit-learn.org/stable/modules/generated/sklearn.preprocessing.PolynomialFeatures.html) y a [`make_pipeline`](https://scikit-learn.org/stable/modules/generated/sklearn.pipeline.make_pipeline.html). Primero convertimos a nuestras variables al grado que queremos y luego realizamos una regresión lineal:"
      ]
    },
    {
      "cell_type": "code",
      "metadata": {
        "id": "sLm-fu17IYO9",
        "colab_type": "code",
        "colab": {}
      },
      "source": [
        "poly_model = make_pipeline(PolynomialFeatures(degree=2), LinearRegression())"
      ],
      "execution_count": 0,
      "outputs": []
    },
    {
      "cell_type": "markdown",
      "metadata": {
        "id": "aKCECqKDv9m3",
        "colab_type": "text"
      },
      "source": [
        "Proseguimos de la misma manera que antes: ajustamos al modelo utilizando a los datos de entrenamiento y luego realizamos predicciones"
      ]
    },
    {
      "cell_type": "code",
      "metadata": {
        "id": "vjR9iLS5v85T",
        "colab_type": "code",
        "outputId": "79626790-d4bd-4a30-dfa7-fb7eb4ebf91d",
        "colab": {
          "base_uri": "https://localhost:8080/",
          "height": 51
        }
      },
      "source": [
        "p = poly_model.fit(X_train, Y_train)\n",
        "\n",
        "poly_pred_train = poly_model.predict(X_train)\n",
        "poly_pred_test = poly_model.predict(X_test)\n",
        "\n",
        "poly_mse_train = mean_squared_error(Y_train, poly_pred_train)\n",
        "poly_mse_test = mean_squared_error(Y_test, poly_pred_test)\n",
        "\n",
        "print(\"Error cuadrático medio de entrenamiento: \", poly_mse_train)\n",
        "print(\"Error cuadrático medio de prueba: \", poly_mse_test)"
      ],
      "execution_count": 0,
      "outputs": [
        {
          "output_type": "stream",
          "text": [
            "Error cuadrático medio de entrenamiento:  34.29288161897933\n",
            "Error cuadrático medio de prueba:  97.50243738873462\n"
          ],
          "name": "stdout"
        }
      ]
    },
    {
      "cell_type": "markdown",
      "metadata": {
        "id": "TEeZ_yvuwIU1",
        "colab_type": "text"
      },
      "source": [
        "### Ejercicio 3:\n",
        "\n",
        "Grafique MSE_train y MSE_test para distintos grados de polinomio $d$, con $0\\leq d \\leq 5$. Concluya.\n",
        "\n",
        "*Ayuda: Defina una función que haga de manera automática nuestro procedimiento anterior. Luego grafique a los MSE de entrenamiento y prueba y vea cuál grado de polinomio minimiza el de prueba. Puede usar, de envés de MSE, al logaritmo de éste mediante `np.log` para poder visualizar fácilmente a alos errores de prueba.*"
      ]
    },
    {
      "cell_type": "code",
      "metadata": {
        "id": "jdPwRPk08kCQ",
        "colab_type": "code",
        "outputId": "47690011-0bab-4616-a23d-0c69a82257e0",
        "colab": {
          "base_uri": "https://localhost:8080/",
          "height": 1056
        }
      },
      "source": [
        "iterations = []\n",
        "listat = []\n",
        "listaT = []\n",
        "def grafica():\n",
        "  for i in range(6):\n",
        "    iterations.append(i)\n",
        "\n",
        "    poly_model = make_pipeline(PolynomialFeatures(degree=i), LinearRegression())\n",
        "    \n",
        "    p = poly_model.fit(X_train, Y_train)\n",
        "    \n",
        "    poly_pred_train = poly_model.predict(X_train)\n",
        "    poly_pred_test = poly_model.predict(X_test)\n",
        "    \n",
        "    poly_mse_train = mean_squared_error(Y_train, poly_pred_train)\n",
        "    poly_mse_test = mean_squared_error(Y_test, poly_pred_test)\n",
        "    \n",
        "    listat.append(poly_mse_train)\n",
        "    listaT.append(poly_mse_test)\n",
        "    \n",
        "grafica()\n",
        "\n",
        "\n",
        "print(listat)\n",
        "print(listaT)\n",
        "\n",
        "import matplotlib.pyplot as plt\n",
        "plt.plot(iterations, listat, 'ro')\n",
        "plt.plot(iterations, listaT, 'bs')\n",
        "plt.axis([-1, 5, -10, 100])\n",
        "plt.show()\n",
        "\n",
        "plt.plot(iterations, listat, 'ro')\n",
        "plt.axis([-1, 5, -10, 100])\n",
        "plt.show()\n",
        "\n",
        "plt.plot(iterations, listaT, 'bs')\n",
        "plt.axis([-1, 5, -100000, 330000])\n",
        "plt.show()\n",
        "    "
      ],
      "execution_count": 0,
      "outputs": [
        {
          "output_type": "stream",
          "text": [
            "[88.68173153904524, 22.340057992152875, 34.29288161897933, 3.0556456927248895e-16, 1.946475942800011e-18, 4.517420920897945e-19]\n",
            "[72.2607627995582, 22.098694827097894, 97.50243738873462, 215056.98477470674, 615640.5124511658, 318883.1601605086]\n"
          ],
          "name": "stdout"
        },
        {
          "output_type": "display_data",
          "data": {
            "image/png": "[encoded data removed]",
            "text/plain": [
              "<Figure size 576x396 with 1 Axes>"
            ]
          },
          "metadata": {
            "tags": []
          }
        },
        {
          "output_type": "display_data",
          "data": {
            "image/png": "[encoded data removed]",
            "text/plain": [
              "<Figure size 576x396 with 1 Axes>"
            ]
          },
          "metadata": {
            "tags": []
          }
        },
        {
          "output_type": "display_data",
          "data": {
            "image/png": "[encoded data removed]",
            "text/plain": [
              "<Figure size 576x396 with 1 Axes>"
            ]
          },
          "metadata": {
            "tags": []
          }
        }
      ]
    },
    {
      "cell_type": "markdown",
      "metadata": {
        "id": "OYGHFA5T9jDV",
        "colab_type": "text"
      },
      "source": [
        "No se logran ver los ultimos 3 datos en la Test data, por eso he agregado las tres graficas.\n",
        "Y en la iteracion 2 amba data tanto de train como de test tienen un error de 20 por eso solo se mira un punto."
      ]
    }
  ]
}