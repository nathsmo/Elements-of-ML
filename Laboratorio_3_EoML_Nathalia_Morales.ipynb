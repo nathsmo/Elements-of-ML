{
  "nbformat": 4,
  "nbformat_minor": 0,
  "metadata": {
    "colab": {
      "name": "Laboratorio 3 - EoML Nathalia Morales.ipynb",
      "version": "0.3.2",
      "provenance": [],
      "collapsed_sections": [],
      "include_colab_link": true
    },
    "kernelspec": {
      "name": "python3",
      "display_name": "Python 3"
    },
    "accelerator": "GPU"
  },
  "cells": [
    {
      "cell_type": "markdown",
      "metadata": {
        "id": "view-in-github",
        "colab_type": "text"
      },
      "source": [
        "<a href=\"https://colab.research.google.com/github/nathsmo/Elements-of-ML/blob/master/Laboratorio_3_EoML_Nathalia_Morales.ipynb\" target=\"_parent\"><img src=\"https://colab.research.google.com/assets/colab-badge.svg\" alt=\"Open In Colab\"/></a>"
      ]
    },
    {
      "cell_type": "markdown",
      "metadata": {
        "id": "Ogh-5HfiUKBJ",
        "colab_type": "text"
      },
      "source": [
        "# Laboratorio 3\n",
        "\n",
        "En este laboratorio aplicaremos regresión logística simple y múltiple a un dataset de pasajeros del titanic para explorar las probabilidades de supervivencia respecto a predictores como edad, sexo y precio de boleto."
      ]
    },
    {
      "cell_type": "code",
      "metadata": {
        "id": "sqj79xiaUPOV",
        "colab_type": "code",
        "outputId": "6a976600-ea77-48ac-bb9f-618807d6d8bc",
        "colab": {
          "base_uri": "https://localhost:8080/",
          "height": 119
        }
      },
      "source": [
        "import numpy as np\n",
        "import pandas as pd\n",
        "\n",
        "import matplotlib\n",
        "import matplotlib.pyplot as plt\n",
        "\n",
        "import seaborn as sns\n",
        "\n",
        "import statsmodels\n",
        "import statsmodels.formula.api as smf\n",
        "from sklearn.linear_model import LinearRegression\n",
        "\n",
        "\n",
        "print(\"Todos los paquetes han sido importados:\")\n",
        "print(\"Numpy version: {}\".format(np.__version__))\n",
        "print(\"Pandas version: {}\".format(pd.__version__))\n",
        "print(\"Matplotlib version: {}\".format(matplotlib.__version__))\n",
        "print(\"Seaborn version: {}\".format(sns.__version__))\n",
        "print(\"Statsmodels-learn version: {}\".format(statsmodels.__version__))"
      ],
      "execution_count": 0,
      "outputs": [
        {
          "output_type": "stream",
          "text": [
            "Todos los paquetes han sido importados:\n",
            "Numpy version: 1.14.6\n",
            "Pandas version: 0.22.0\n",
            "Matplotlib version: 3.0.2\n",
            "Seaborn version: 0.7.1\n",
            "Statsmodels-learn version: 0.8.0\n"
          ],
          "name": "stdout"
        }
      ]
    },
    {
      "cell_type": "markdown",
      "metadata": {
        "id": "YEj6N0DeVm9H",
        "colab_type": "text"
      },
      "source": [
        "## Ejemplo de regresión logística: Cáncer de mama\n",
        "\n",
        "Usando un dataset tomado de sklearn de cáncer de mama, mostraremos modelos de regresión logística para algunos de los predictores"
      ]
    },
    {
      "cell_type": "code",
      "metadata": {
        "id": "N__yhC__V-5m",
        "colab_type": "code",
        "colab": {}
      },
      "source": [
        "from sklearn.datasets import load_breast_cancer\n",
        "data = load_breast_cancer()\n",
        "bc = pd.DataFrame(data.data, columns=data.feature_names) # 30 predictores\n",
        "bc[\"Clase\"] = pd.DataFrame(data.target, columns=['Clase']) # clase (benigno o maligno)"
      ],
      "execution_count": 0,
      "outputs": []
    },
    {
      "cell_type": "code",
      "metadata": {
        "id": "Zx6JCeGlW42G",
        "colab_type": "code",
        "outputId": "978809ef-a27d-4530-a327-477db5b2968a",
        "colab": {
          "base_uri": "https://localhost:8080/",
          "height": 287
        }
      },
      "source": [
        "bc.head()"
      ],
      "execution_count": 0,
      "outputs": [
        {
          "output_type": "execute_result",
          "data": {
            "text/html": [
              "<div>\n",
              "<style scoped>\n",
              "    .dataframe tbody tr th:only-of-type {\n",
              "        vertical-align: middle;\n",
              "    }\n",
              "\n",
              "    .dataframe tbody tr th {\n",
              "        vertical-align: top;\n",
              "    }\n",
              "\n",
              "    .dataframe thead th {\n",
              "        text-align: right;\n",
              "    }\n",
              "</style>\n",
              "<table border=\"1\" class=\"dataframe\">\n",
              "  <thead>\n",
              "    <tr style=\"text-align: right;\">\n",
              "      <th></th>\n",
              "      <th>mean radius</th>\n",
              "      <th>mean texture</th>\n",
              "      <th>mean perimeter</th>\n",
              "      <th>mean area</th>\n",
              "      <th>mean smoothness</th>\n",
              "      <th>mean compactness</th>\n",
              "      <th>mean concavity</th>\n",
              "      <th>mean concave points</th>\n",
              "      <th>mean symmetry</th>\n",
              "      <th>mean fractal dimension</th>\n",
              "      <th>...</th>\n",
              "      <th>worst texture</th>\n",
              "      <th>worst perimeter</th>\n",
              "      <th>worst area</th>\n",
              "      <th>worst smoothness</th>\n",
              "      <th>worst compactness</th>\n",
              "      <th>worst concavity</th>\n",
              "      <th>worst concave points</th>\n",
              "      <th>worst symmetry</th>\n",
              "      <th>worst fractal dimension</th>\n",
              "      <th>Clase</th>\n",
              "    </tr>\n",
              "  </thead>\n",
              "  <tbody>\n",
              "    <tr>\n",
              "      <th>0</th>\n",
              "      <td>17.99</td>\n",
              "      <td>10.38</td>\n",
              "      <td>122.80</td>\n",
              "      <td>1001.0</td>\n",
              "      <td>0.11840</td>\n",
              "      <td>0.27760</td>\n",
              "      <td>0.3001</td>\n",
              "      <td>0.14710</td>\n",
              "      <td>0.2419</td>\n",
              "      <td>0.07871</td>\n",
              "      <td>...</td>\n",
              "      <td>17.33</td>\n",
              "      <td>184.60</td>\n",
              "      <td>2019.0</td>\n",
              "      <td>0.1622</td>\n",
              "      <td>0.6656</td>\n",
              "      <td>0.7119</td>\n",
              "      <td>0.2654</td>\n",
              "      <td>0.4601</td>\n",
              "      <td>0.11890</td>\n",
              "      <td>0</td>\n",
              "    </tr>\n",
              "    <tr>\n",
              "      <th>1</th>\n",
              "      <td>20.57</td>\n",
              "      <td>17.77</td>\n",
              "      <td>132.90</td>\n",
              "      <td>1326.0</td>\n",
              "      <td>0.08474</td>\n",
              "      <td>0.07864</td>\n",
              "      <td>0.0869</td>\n",
              "      <td>0.07017</td>\n",
              "      <td>0.1812</td>\n",
              "      <td>0.05667</td>\n",
              "      <td>...</td>\n",
              "      <td>23.41</td>\n",
              "      <td>158.80</td>\n",
              "      <td>1956.0</td>\n",
              "      <td>0.1238</td>\n",
              "      <td>0.1866</td>\n",
              "      <td>0.2416</td>\n",
              "      <td>0.1860</td>\n",
              "      <td>0.2750</td>\n",
              "      <td>0.08902</td>\n",
              "      <td>0</td>\n",
              "    </tr>\n",
              "    <tr>\n",
              "      <th>2</th>\n",
              "      <td>19.69</td>\n",
              "      <td>21.25</td>\n",
              "      <td>130.00</td>\n",
              "      <td>1203.0</td>\n",
              "      <td>0.10960</td>\n",
              "      <td>0.15990</td>\n",
              "      <td>0.1974</td>\n",
              "      <td>0.12790</td>\n",
              "      <td>0.2069</td>\n",
              "      <td>0.05999</td>\n",
              "      <td>...</td>\n",
              "      <td>25.53</td>\n",
              "      <td>152.50</td>\n",
              "      <td>1709.0</td>\n",
              "      <td>0.1444</td>\n",
              "      <td>0.4245</td>\n",
              "      <td>0.4504</td>\n",
              "      <td>0.2430</td>\n",
              "      <td>0.3613</td>\n",
              "      <td>0.08758</td>\n",
              "      <td>0</td>\n",
              "    </tr>\n",
              "    <tr>\n",
              "      <th>3</th>\n",
              "      <td>11.42</td>\n",
              "      <td>20.38</td>\n",
              "      <td>77.58</td>\n",
              "      <td>386.1</td>\n",
              "      <td>0.14250</td>\n",
              "      <td>0.28390</td>\n",
              "      <td>0.2414</td>\n",
              "      <td>0.10520</td>\n",
              "      <td>0.2597</td>\n",
              "      <td>0.09744</td>\n",
              "      <td>...</td>\n",
              "      <td>26.50</td>\n",
              "      <td>98.87</td>\n",
              "      <td>567.7</td>\n",
              "      <td>0.2098</td>\n",
              "      <td>0.8663</td>\n",
              "      <td>0.6869</td>\n",
              "      <td>0.2575</td>\n",
              "      <td>0.6638</td>\n",
              "      <td>0.17300</td>\n",
              "      <td>0</td>\n",
              "    </tr>\n",
              "    <tr>\n",
              "      <th>4</th>\n",
              "      <td>20.29</td>\n",
              "      <td>14.34</td>\n",
              "      <td>135.10</td>\n",
              "      <td>1297.0</td>\n",
              "      <td>0.10030</td>\n",
              "      <td>0.13280</td>\n",
              "      <td>0.1980</td>\n",
              "      <td>0.10430</td>\n",
              "      <td>0.1809</td>\n",
              "      <td>0.05883</td>\n",
              "      <td>...</td>\n",
              "      <td>16.67</td>\n",
              "      <td>152.20</td>\n",
              "      <td>1575.0</td>\n",
              "      <td>0.1374</td>\n",
              "      <td>0.2050</td>\n",
              "      <td>0.4000</td>\n",
              "      <td>0.1625</td>\n",
              "      <td>0.2364</td>\n",
              "      <td>0.07678</td>\n",
              "      <td>0</td>\n",
              "    </tr>\n",
              "  </tbody>\n",
              "</table>\n",
              "<p>5 rows × 31 columns</p>\n",
              "</div>"
            ],
            "text/plain": [
              "   mean radius  mean texture  mean perimeter  mean area  mean smoothness  \\\n",
              "0        17.99         10.38          122.80     1001.0          0.11840   \n",
              "1        20.57         17.77          132.90     1326.0          0.08474   \n",
              "2        19.69         21.25          130.00     1203.0          0.10960   \n",
              "3        11.42         20.38           77.58      386.1          0.14250   \n",
              "4        20.29         14.34          135.10     1297.0          0.10030   \n",
              "\n",
              "   mean compactness  mean concavity  mean concave points  mean symmetry  \\\n",
              "0           0.27760          0.3001              0.14710         0.2419   \n",
              "1           0.07864          0.0869              0.07017         0.1812   \n",
              "2           0.15990          0.1974              0.12790         0.2069   \n",
              "3           0.28390          0.2414              0.10520         0.2597   \n",
              "4           0.13280          0.1980              0.10430         0.1809   \n",
              "\n",
              "   mean fractal dimension  ...    worst texture  worst perimeter  worst area  \\\n",
              "0                 0.07871  ...            17.33           184.60      2019.0   \n",
              "1                 0.05667  ...            23.41           158.80      1956.0   \n",
              "2                 0.05999  ...            25.53           152.50      1709.0   \n",
              "3                 0.09744  ...            26.50            98.87       567.7   \n",
              "4                 0.05883  ...            16.67           152.20      1575.0   \n",
              "\n",
              "   worst smoothness  worst compactness  worst concavity  worst concave points  \\\n",
              "0            0.1622             0.6656           0.7119                0.2654   \n",
              "1            0.1238             0.1866           0.2416                0.1860   \n",
              "2            0.1444             0.4245           0.4504                0.2430   \n",
              "3            0.2098             0.8663           0.6869                0.2575   \n",
              "4            0.1374             0.2050           0.4000                0.1625   \n",
              "\n",
              "   worst symmetry  worst fractal dimension  Clase  \n",
              "0          0.4601                  0.11890      0  \n",
              "1          0.2750                  0.08902      0  \n",
              "2          0.3613                  0.08758      0  \n",
              "3          0.6638                  0.17300      0  \n",
              "4          0.2364                  0.07678      0  \n",
              "\n",
              "[5 rows x 31 columns]"
            ]
          },
          "metadata": {
            "tags": []
          },
          "execution_count": 34
        }
      ]
    },
    {
      "cell_type": "code",
      "metadata": {
        "id": "EOEwoxVFbKLS",
        "colab_type": "code",
        "outputId": "65958657-c8fa-4c99-a9e7-a7d291b3f590",
        "colab": {
          "base_uri": "https://localhost:8080/",
          "height": 119
        }
      },
      "source": [
        "bc[\"Clase\"].head()"
      ],
      "execution_count": 0,
      "outputs": [
        {
          "output_type": "execute_result",
          "data": {
            "text/plain": [
              "0    0\n",
              "1    0\n",
              "2    0\n",
              "3    0\n",
              "4    0\n",
              "Name: Clase, dtype: int64"
            ]
          },
          "metadata": {
            "tags": []
          },
          "execution_count": 35
        }
      ]
    },
    {
      "cell_type": "markdown",
      "metadata": {
        "id": "ZmInvgZSalzW",
        "colab_type": "text"
      },
      "source": [
        "Verifiquemos que el target es binario"
      ]
    },
    {
      "cell_type": "code",
      "metadata": {
        "id": "tuOLMTbWaoSt",
        "colab_type": "code",
        "outputId": "b8099820-74ee-4524-f83e-d7931a551eeb",
        "colab": {
          "base_uri": "https://localhost:8080/",
          "height": 412
        }
      },
      "source": [
        "sns.countplot(x='Clase',data=bc, palette='hls')"
      ],
      "execution_count": 0,
      "outputs": [
        {
          "output_type": "stream",
          "text": [
            "/usr/local/lib/python3.6/dist-packages/seaborn/categorical.py:1428: FutureWarning: remove_na is deprecated and is a private function. Do not use.\n",
            "  stat_data = remove_na(group_data)\n"
          ],
          "name": "stderr"
        },
        {
          "output_type": "execute_result",
          "data": {
            "text/plain": [
              "<matplotlib.axes._subplots.AxesSubplot at 0x7fa3efc52160>"
            ]
          },
          "metadata": {
            "tags": []
          },
          "execution_count": 36
        },
        {
          "output_type": "display_data",
          "data": {
            "image/png": "[encoded data removed]",
            "text/plain": [
              "<Figure size 576x396 with 1 Axes>"
            ]
          },
          "metadata": {
            "tags": []
          }
        }
      ]
    },
    {
      "cell_type": "markdown",
      "metadata": {
        "id": "Pu80yTszYhfF",
        "colab_type": "text"
      },
      "source": [
        "Haremos una regresión logística entre el radio del tumor y la clase"
      ]
    },
    {
      "cell_type": "code",
      "metadata": {
        "id": "7NHpJrsfhACp",
        "colab_type": "code",
        "outputId": "d7a15aa9-271f-4702-b46b-2d11a434694c",
        "colab": {
          "base_uri": "https://localhost:8080/",
          "height": 261
        }
      },
      "source": [
        "est = smf.Logit(bc['Clase'], bc[\"mean radius\"]).fit()\n",
        "est.summary2()\n",
        "#lo mas impotante es el coeficiente y z y p \n",
        "#coef que tan relacionadas estan las variables\n",
        "#la prueba de hipotesis si z es > 2 o 1.96 se descarta la hipotesis nula\n",
        "# H0 es que no tienen relacion\n",
        "#Si p es < 0.05 se rechaza la hipotesis nula"
      ],
      "execution_count": 0,
      "outputs": [
        {
          "output_type": "stream",
          "text": [
            "Optimization terminated successfully.\n",
            "         Current function value: 0.690213\n",
            "         Iterations 3\n"
          ],
          "name": "stdout"
        },
        {
          "output_type": "execute_result",
          "data": {
            "text/html": [
              "<table class=\"simpletable\">\n",
              "<tr>\n",
              "        <td>Model:</td>              <td>Logit</td>       <td>No. Iterations:</td>   <td>3.0000</td> \n",
              "</tr>\n",
              "<tr>\n",
              "  <td>Dependent Variable:</td>       <td>Clase</td>      <td>Pseudo R-squared:</td>  <td>-0.045</td> \n",
              "</tr>\n",
              "<tr>\n",
              "         <td>Date:</td>        <td>2019-02-06 13:43</td>       <td>AIC:</td>        <td>787.4628</td>\n",
              "</tr>\n",
              "<tr>\n",
              "   <td>No. Observations:</td>         <td>569</td>             <td>BIC:</td>        <td>791.8067</td>\n",
              "</tr>\n",
              "<tr>\n",
              "       <td>Df Model:</td>              <td>0</td>         <td>Log-Likelihood:</td>   <td>-392.73</td>\n",
              "</tr>\n",
              "<tr>\n",
              "     <td>Df Residuals:</td>           <td>568</td>           <td>LL-Null:</td>       <td>-375.72</td>\n",
              "</tr>\n",
              "<tr>\n",
              "      <td>Converged:</td>           <td>1.0000</td>           <td>Scale:</td>        <td>1.0000</td> \n",
              "</tr>\n",
              "</table>\n",
              "<table class=\"simpletable\">\n",
              "<tr>\n",
              "       <td></td>        <th>Coef.</th> <th>Std.Err.</th>    <th>z</th>    <th>P>|z|</th> <th>[0.025</th>  <th>0.975]</th>\n",
              "</tr>\n",
              "<tr>\n",
              "  <th>mean radius</th> <td>0.0105</td>  <td>0.0058</td>  <td>1.8238</td> <td>0.0682</td> <td>-0.0008</td> <td>0.0219</td>\n",
              "</tr>\n",
              "</table>"
            ],
            "text/plain": [
              "<class 'statsmodels.iolib.summary2.Summary'>\n",
              "\"\"\"\n",
              "                        Results: Logit\n",
              "===============================================================\n",
              "Model:              Logit            No. Iterations:   3.0000  \n",
              "Dependent Variable: Clase            Pseudo R-squared: -0.045  \n",
              "Date:               2019-02-06 13:43 AIC:              787.4628\n",
              "No. Observations:   569              BIC:              791.8067\n",
              "Df Model:           0                Log-Likelihood:   -392.73 \n",
              "Df Residuals:       568              LL-Null:          -375.72 \n",
              "Converged:          1.0000           Scale:            1.0000  \n",
              "----------------------------------------------------------------\n",
              "               Coef.   Std.Err.    z     P>|z|    [0.025  0.975]\n",
              "----------------------------------------------------------------\n",
              "mean radius    0.0105    0.0058  1.8238  0.0682  -0.0008  0.0219\n",
              "===============================================================\n",
              "\n",
              "\"\"\""
            ]
          },
          "metadata": {
            "tags": []
          },
          "execution_count": 37
        }
      ]
    },
    {
      "cell_type": "markdown",
      "metadata": {
        "id": "0-SbXPMJhD9V",
        "colab_type": "text"
      },
      "source": [
        "Los números de interés que arroja .summary2() son el coeficiente y el valor z. Un valor z mayor a 1.96 indica que existe una relación significativa entre el predictor y el target. El número e^coeficiente es una medida de cuánto aumenta el valor del target para aumentos en 1 del predictor. En este caso, vemos que la relación entre el radio medio y la clase de tumor es no significativa."
      ]
    },
    {
      "cell_type": "markdown",
      "metadata": {
        "id": "9lWHx-ByhwPo",
        "colab_type": "text"
      },
      "source": [
        "Haremos una regresión múltiple con los primeros 5 predictores de bc"
      ]
    },
    {
      "cell_type": "code",
      "metadata": {
        "id": "BnBXxAjIYneM",
        "colab_type": "code",
        "outputId": "801f72bd-f178-4d43-bea0-498c4fe4ebdb",
        "colab": {
          "base_uri": "https://localhost:8080/",
          "height": 345
        }
      },
      "source": [
        "est = smf.Logit(bc['Clase'], bc[bc.columns[0:5]]).fit() #target y predictor\n",
        "est.summary2()\n",
        "#lo mas impotante es el coeficiente y z y p \n",
        "#coef que tan relacionadas estan las variables\n",
        "#la prueba de hipotesis si z es > 2 o 1.96 se descarta la hipotesis nula\n",
        "# H0 es que no tienen relacion\n",
        "#Si p es < 0.05 se rechaza la hipotesis nula\n",
        "\n",
        "#en conjunto si influye pero sola no."
      ],
      "execution_count": 0,
      "outputs": [
        {
          "output_type": "stream",
          "text": [
            "Optimization terminated successfully.\n",
            "         Current function value: 0.150936\n",
            "         Iterations 10\n"
          ],
          "name": "stdout"
        },
        {
          "output_type": "execute_result",
          "data": {
            "text/html": [
              "<table class=\"simpletable\">\n",
              "<tr>\n",
              "        <td>Model:</td>              <td>Logit</td>       <td>No. Iterations:</td>   <td>10.0000</td>\n",
              "</tr>\n",
              "<tr>\n",
              "  <td>Dependent Variable:</td>       <td>Clase</td>      <td>Pseudo R-squared:</td>   <td>0.771</td> \n",
              "</tr>\n",
              "<tr>\n",
              "         <td>Date:</td>        <td>2019-02-06 13:43</td>       <td>AIC:</td>        <td>181.7655</td>\n",
              "</tr>\n",
              "<tr>\n",
              "   <td>No. Observations:</td>         <td>569</td>             <td>BIC:</td>        <td>203.4849</td>\n",
              "</tr>\n",
              "<tr>\n",
              "       <td>Df Model:</td>              <td>4</td>         <td>Log-Likelihood:</td>   <td>-85.883</td>\n",
              "</tr>\n",
              "<tr>\n",
              "     <td>Df Residuals:</td>           <td>564</td>           <td>LL-Null:</td>       <td>-375.72</td>\n",
              "</tr>\n",
              "<tr>\n",
              "      <td>Converged:</td>           <td>1.0000</td>           <td>Scale:</td>        <td>1.0000</td> \n",
              "</tr>\n",
              "</table>\n",
              "<table class=\"simpletable\">\n",
              "<tr>\n",
              "         <td></td>           <th>Coef.</th>   <th>Std.Err.</th>    <th>z</th>     <th>P>|z|</th>  <th>[0.025</th>    <th>0.975]</th> \n",
              "</tr>\n",
              "<tr>\n",
              "  <th>mean radius</th>      <td>8.4813</td>    <td>1.2165</td>  <td>6.9719</td>  <td>0.0000</td>  <td>6.0970</td>    <td>10.8656</td>\n",
              "</tr>\n",
              "<tr>\n",
              "  <th>mean texture</th>     <td>-0.3442</td>   <td>0.0578</td>  <td>-5.9554</td> <td>0.0000</td>  <td>-0.4574</td>   <td>-0.2309</td>\n",
              "</tr>\n",
              "<tr>\n",
              "  <th>mean perimeter</th>   <td>-0.7017</td>   <td>0.1718</td>  <td>-4.0834</td> <td>0.0000</td>  <td>-1.0384</td>   <td>-0.3649</td>\n",
              "</tr>\n",
              "<tr>\n",
              "  <th>mean area</th>        <td>-0.0600</td>   <td>0.0075</td>  <td>-8.0505</td> <td>0.0000</td>  <td>-0.0747</td>   <td>-0.0454</td>\n",
              "</tr>\n",
              "<tr>\n",
              "  <th>mean smoothness</th> <td>-108.0860</td>  <td>19.1643</td> <td>-5.6400</td> <td>0.0000</td> <td>-145.6474</td> <td>-70.5246</td>\n",
              "</tr>\n",
              "</table>"
            ],
            "text/plain": [
              "<class 'statsmodels.iolib.summary2.Summary'>\n",
              "\"\"\"\n",
              "                           Results: Logit\n",
              "====================================================================\n",
              "Model:                 Logit             No. Iterations:    10.0000 \n",
              "Dependent Variable:    Clase             Pseudo R-squared:  0.771   \n",
              "Date:                  2019-02-06 13:43  AIC:               181.7655\n",
              "No. Observations:      569               BIC:               203.4849\n",
              "Df Model:              4                 Log-Likelihood:    -85.883 \n",
              "Df Residuals:          564               LL-Null:           -375.72 \n",
              "Converged:             1.0000            Scale:             1.0000  \n",
              "--------------------------------------------------------------------\n",
              "                  Coef.   Std.Err.    z    P>|z|    [0.025   0.975] \n",
              "--------------------------------------------------------------------\n",
              "mean radius        8.4813   1.2165  6.9719 0.0000    6.0970  10.8656\n",
              "mean texture      -0.3442   0.0578 -5.9554 0.0000   -0.4574  -0.2309\n",
              "mean perimeter    -0.7017   0.1718 -4.0834 0.0000   -1.0384  -0.3649\n",
              "mean area         -0.0600   0.0075 -8.0505 0.0000   -0.0747  -0.0454\n",
              "mean smoothness -108.0860  19.1643 -5.6400 0.0000 -145.6474 -70.5246\n",
              "====================================================================\n",
              "\n",
              "\"\"\""
            ]
          },
          "metadata": {
            "tags": []
          },
          "execution_count": 38
        }
      ]
    },
    {
      "cell_type": "code",
      "metadata": {
        "id": "akeSIFGmFkyF",
        "colab_type": "code",
        "outputId": "a835a039-42ed-47fb-ed04-7c5516ddbb19",
        "colab": {
          "base_uri": "https://localhost:8080/",
          "height": 544
        }
      },
      "source": [
        "list(bc.columns.values)"
      ],
      "execution_count": 0,
      "outputs": [
        {
          "output_type": "execute_result",
          "data": {
            "text/plain": [
              "['mean radius',\n",
              " 'mean texture',\n",
              " 'mean perimeter',\n",
              " 'mean area',\n",
              " 'mean smoothness',\n",
              " 'mean compactness',\n",
              " 'mean concavity',\n",
              " 'mean concave points',\n",
              " 'mean symmetry',\n",
              " 'mean fractal dimension',\n",
              " 'radius error',\n",
              " 'texture error',\n",
              " 'perimeter error',\n",
              " 'area error',\n",
              " 'smoothness error',\n",
              " 'compactness error',\n",
              " 'concavity error',\n",
              " 'concave points error',\n",
              " 'symmetry error',\n",
              " 'fractal dimension error',\n",
              " 'worst radius',\n",
              " 'worst texture',\n",
              " 'worst perimeter',\n",
              " 'worst area',\n",
              " 'worst smoothness',\n",
              " 'worst compactness',\n",
              " 'worst concavity',\n",
              " 'worst concave points',\n",
              " 'worst symmetry',\n",
              " 'worst fractal dimension',\n",
              " 'Clase']"
            ]
          },
          "metadata": {
            "tags": []
          },
          "execution_count": 65
        }
      ]
    },
    {
      "cell_type": "code",
      "metadata": {
        "id": "Ia9-ZiW7AdAZ",
        "colab_type": "code",
        "outputId": "c85ef35b-2f28-4662-beb6-f70ab8998da7",
        "colab": {
          "base_uri": "https://localhost:8080/",
          "height": 714
        }
      },
      "source": [
        "Clase = bc[\"Clase\"]\n",
        "mean_radius = bc[\"mean radius\"] \n",
        "mean_texture = bc[\"mean texture\"]\n",
        "mean_perimeter = bc[\"mean perimeter\"]\n",
        "mean_area = bc[\"mean area\"]\n",
        "mean_smoothness = bc[\"mean smoothness\"]\n",
        "mean_compactness = bc[\"mean compactness\"]\n",
        "mean_concavity = bc[\"mean concavity\"]\n",
        "mean_concave_points = bc[\"mean concave points\"]\n",
        "mean_symmetry = bc[\"mean symmetry\"]\n",
        "mean_fractal_dimension = bc[\"mean fractal dimension\"]\n",
        "radius_error = bc[\"radius error\"]\n",
        "texture_error = bc[\"texture error\"]\n",
        "perimeter_error = bc[\"perimeter error\"]\n",
        "area_error = bc[\"area error\"]\n",
        "smoothness_error = bc[\"smoothness error\"]\n",
        "compactness_error = bc[\"compactness error\"]\n",
        "concavity_error = bc[\"concavity error\"]\n",
        "concave_points_error = bc[\"concave points error\"]\n",
        "symmetry_error = bc[\"symmetry error\"]\n",
        "fractal_dimension_error = bc[\"fractal dimension error\"]\n",
        "worst_radius = bc[\"worst radius\"]\n",
        "worst_texture = bc[\"worst texture\"]\n",
        "worst_perimeter = bc[\"worst perimeter\"]\n",
        "worst_area = bc[\"worst area\"]\n",
        "worst_smoothness = bc[\"worst smoothness\"]\n",
        "worst_compactness = bc[\"worst compactness\"]\n",
        "worst_concavity = bc[\"worst concavity\"]\n",
        "worst_concave_points = bc[\"worst concave points\"]\n",
        "worst_symmetry = bc[\"worst symmetry\"]\n",
        "worst_fractal_dimension = bc[\"worst fractal dimension\"]\n",
        "est = smf.ols(formula=\"Clase ~ mean_radius\", data=bc).fit()\n",
        "print(est.summary().tables[1])\n",
        "\n",
        "est = smf.ols(formula=\"Clase ~ mean_radius+mean_texture+mean_perimeter+mean_area+mean_smoothness+mean_compactness+mean_concavity+mean_concave_points+mean_symmetry+mean_fractal_dimension+radius_error+texture_error+perimeter_error+area_error+smoothness_error+compactness_error+concavity_error+concave_points_error+symmetry_error+fractal_dimension_error+worst_radius+worst_texture+worst_perimeter+worst_area+worst_smoothness+worst_compactness+worst_concavity+worst_concave_points+worst_symmetry+worst_fractal_dimension\", data=bc).fit()\n",
        "print(est.summary().tables[1])"
      ],
      "execution_count": 0,
      "outputs": [
        {
          "output_type": "stream",
          "text": [
            "===============================================================================\n",
            "                  coef    std err          t      P>|t|      [0.025      0.975]\n",
            "-------------------------------------------------------------------------------\n",
            "Intercept       2.0436      0.057     35.615      0.000       1.931       2.156\n",
            "mean_radius    -0.1002      0.004    -25.436      0.000      -0.108      -0.093\n",
            "===============================================================================\n",
            "===========================================================================================\n",
            "                              coef    std err          t      P>|t|      [0.025      0.975]\n",
            "-------------------------------------------------------------------------------------------\n",
            "Intercept                   3.0218      0.428      7.060      0.000       2.181       3.863\n",
            "mean_radius                 0.2178      0.174      1.255      0.210      -0.123       0.559\n",
            "mean_texture               -0.0045      0.008     -0.572      0.567      -0.020       0.011\n",
            "mean_perimeter             -0.0237      0.025     -0.946      0.345      -0.073       0.026\n",
            "mean_area                  -0.0003      0.001     -0.605      0.545      -0.001       0.001\n",
            "mean_smoothness            -0.0847      2.017     -0.042      0.967      -4.047       3.878\n",
            "mean_compactness            4.2220      1.334      3.166      0.002       1.602       6.842\n",
            "mean_concavity             -1.3980      1.046     -1.337      0.182      -3.452       0.656\n",
            "mean_concave_points        -2.1418      1.979     -1.082      0.280      -6.030       1.746\n",
            "mean_symmetry              -0.1027      0.743     -0.138      0.890      -1.562       1.356\n",
            "mean_fractal_dimension     -0.0333      5.572     -0.006      0.995     -10.979      10.913\n",
            "radius_error               -0.4350      0.310     -1.401      0.162      -1.045       0.175\n",
            "texture_error               0.0068      0.037      0.183      0.855      -0.066       0.079\n",
            "perimeter_error             0.0225      0.041      0.548      0.584      -0.058       0.103\n",
            "area_error                  0.0009      0.001      0.660      0.509      -0.002       0.004\n",
            "smoothness_error          -15.8543      6.625     -2.393      0.017     -28.868      -2.841\n",
            "compactness_error          -0.0649      2.169     -0.030      0.976      -4.327       4.197\n",
            "concavity_error             3.5655      1.301      2.741      0.006       1.010       6.121\n",
            "concave_points_error      -10.5680      5.452     -1.938      0.053     -21.278       0.142\n",
            "symmetry_error             -1.6973      2.728     -0.622      0.534      -7.055       3.661\n",
            "fractal_dimension_error     7.1464     11.676      0.612      0.541     -15.791      30.083\n",
            "worst_radius               -0.1952      0.058     -3.367      0.001      -0.309      -0.081\n",
            "worst_texture              -0.0072      0.007     -1.030      0.303      -0.021       0.006\n",
            "worst_perimeter             0.0024      0.006      0.410      0.682      -0.009       0.014\n",
            "worst_area                  0.0010      0.000      3.163      0.002       0.000       0.002\n",
            "worst_smoothness           -0.5429      1.435     -0.378      0.705      -3.361       2.275\n",
            "worst_compactness          -0.0672      0.383     -0.175      0.861      -0.820       0.685\n",
            "worst_concavity            -0.3812      0.269     -1.419      0.156      -0.909       0.146\n",
            "worst_concave_points       -0.4643      0.914     -0.508      0.612      -2.260       1.332\n",
            "worst_symmetry             -0.5568      0.494     -1.126      0.260      -1.528       0.414\n",
            "worst_fractal_dimension    -4.3035      2.383     -1.806      0.072      -8.985       0.378\n",
            "===========================================================================================\n"
          ],
          "name": "stdout"
        }
      ]
    },
    {
      "cell_type": "markdown",
      "metadata": {
        "id": "tcKfG6Nnh9Xd",
        "colab_type": "text"
      },
      "source": [
        "### Ejercicios\n",
        "\n",
        "\n",
        "\n",
        "1.  ¿Cómo interpretas los resultados de la última tabla generada?\n",
        "\n",
        "    * Se nota que existe una clara correlacion entre el mean radius, pero esto solo ocurre si se hace como conjunto con otros datos. Asi tambien las demas variables tienen una correlacion negativa, y asi tambien considerable aun cuando los resultados de z sean negativos.\n",
        "    \n",
        "2.   Haz una regresión lineal equivalente para las regresiones logísticas que hicimos y compara los resultados. ¿Qué concluye la regresión lineal sobre la hipótesis nula entre los predictores y la clase? ¿Es diferente esta conclusión a la que vemos con la regresión logística?\n",
        "    * La regresion lineal demuestra que no se recahza la hipotesis nula entre los predictores y la clase. Si es diferente la conclusion pues en conjunto no influye pero como individual si influye.\n",
        "\n"
      ]
    },
    {
      "cell_type": "code",
      "metadata": {
        "id": "8YYLp3YU7cLz",
        "colab_type": "code",
        "outputId": "906d5e65-ef7c-4197-cc87-39a9a7e40744",
        "colab": {
          "resources": {
            "http://localhost:8080/nbextensions/google.colab/files.js": {
              "data": "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",
              "ok": true,
              "headers": [
                [
                  "content-type",
                  "application/javascript"
                ]
              ],
              "status": 200,
              "status_text": ""
            }
          },
          "base_uri": "https://localhost:8080/",
          "height": 103
        }
      },
      "source": [
        "from google.colab import files\n",
        "upload = files.upload()"
      ],
      "execution_count": 0,
      "outputs": [
        {
          "output_type": "display_data",
          "data": {
            "text/html": [
              "\n",
              "     <input type=\"file\" id=\"files-46758612-5c4e-4f74-b8e1-9c9144854e91\" name=\"files[]\" multiple disabled />\n",
              "     <output id=\"result-46758612-5c4e-4f74-b8e1-9c9144854e91\">\n",
              "      Upload widget is only available when the cell has been executed in the\n",
              "      current browser session. Please rerun this cell to enable.\n",
              "      </output>\n",
              "      <script src=\"/nbextensions/google.colab/files.js\"></script> "
            ],
            "text/plain": [
              "<IPython.core.display.HTML object>"
            ]
          },
          "metadata": {
            "tags": []
          }
        },
        {
          "output_type": "stream",
          "text": [
            "Saving test.csv to test.csv\n",
            "Saving train.csv to train.csv\n"
          ],
          "name": "stdout"
        }
      ]
    },
    {
      "cell_type": "code",
      "metadata": {
        "id": "5zwLo94I8y-a",
        "colab_type": "code",
        "colab": {}
      },
      "source": [
        "test = pd.read_csv('test.csv')\n",
        "train = pd.read_csv('train.csv')"
      ],
      "execution_count": 0,
      "outputs": []
    },
    {
      "cell_type": "code",
      "metadata": {
        "id": "zxnO0jDD87cR",
        "colab_type": "code",
        "outputId": "5b7fce12-23b8-4bf5-a7f5-77f037cab042",
        "colab": {
          "base_uri": "https://localhost:8080/",
          "height": 204
        }
      },
      "source": [
        "train.head()"
      ],
      "execution_count": 0,
      "outputs": [
        {
          "output_type": "execute_result",
          "data": {
            "text/html": [
              "<div>\n",
              "<style scoped>\n",
              "    .dataframe tbody tr th:only-of-type {\n",
              "        vertical-align: middle;\n",
              "    }\n",
              "\n",
              "    .dataframe tbody tr th {\n",
              "        vertical-align: top;\n",
              "    }\n",
              "\n",
              "    .dataframe thead th {\n",
              "        text-align: right;\n",
              "    }\n",
              "</style>\n",
              "<table border=\"1\" class=\"dataframe\">\n",
              "  <thead>\n",
              "    <tr style=\"text-align: right;\">\n",
              "      <th></th>\n",
              "      <th>PassengerId</th>\n",
              "      <th>Survived</th>\n",
              "      <th>Pclass</th>\n",
              "      <th>Name</th>\n",
              "      <th>Sex</th>\n",
              "      <th>Age</th>\n",
              "      <th>SibSp</th>\n",
              "      <th>Parch</th>\n",
              "      <th>Ticket</th>\n",
              "      <th>Fare</th>\n",
              "      <th>Cabin</th>\n",
              "      <th>Embarked</th>\n",
              "    </tr>\n",
              "  </thead>\n",
              "  <tbody>\n",
              "    <tr>\n",
              "      <th>0</th>\n",
              "      <td>1</td>\n",
              "      <td>0</td>\n",
              "      <td>3</td>\n",
              "      <td>Braund, Mr. Owen Harris</td>\n",
              "      <td>male</td>\n",
              "      <td>22.0</td>\n",
              "      <td>1</td>\n",
              "      <td>0</td>\n",
              "      <td>A/5 21171</td>\n",
              "      <td>7.2500</td>\n",
              "      <td>NaN</td>\n",
              "      <td>S</td>\n",
              "    </tr>\n",
              "    <tr>\n",
              "      <th>1</th>\n",
              "      <td>2</td>\n",
              "      <td>1</td>\n",
              "      <td>1</td>\n",
              "      <td>Cumings, Mrs. John Bradley (Florence Briggs Th...</td>\n",
              "      <td>female</td>\n",
              "      <td>38.0</td>\n",
              "      <td>1</td>\n",
              "      <td>0</td>\n",
              "      <td>PC 17599</td>\n",
              "      <td>71.2833</td>\n",
              "      <td>C85</td>\n",
              "      <td>C</td>\n",
              "    </tr>\n",
              "    <tr>\n",
              "      <th>2</th>\n",
              "      <td>3</td>\n",
              "      <td>1</td>\n",
              "      <td>3</td>\n",
              "      <td>Heikkinen, Miss. Laina</td>\n",
              "      <td>female</td>\n",
              "      <td>26.0</td>\n",
              "      <td>0</td>\n",
              "      <td>0</td>\n",
              "      <td>STON/O2. 3101282</td>\n",
              "      <td>7.9250</td>\n",
              "      <td>NaN</td>\n",
              "      <td>S</td>\n",
              "    </tr>\n",
              "    <tr>\n",
              "      <th>3</th>\n",
              "      <td>4</td>\n",
              "      <td>1</td>\n",
              "      <td>1</td>\n",
              "      <td>Futrelle, Mrs. Jacques Heath (Lily May Peel)</td>\n",
              "      <td>female</td>\n",
              "      <td>35.0</td>\n",
              "      <td>1</td>\n",
              "      <td>0</td>\n",
              "      <td>113803</td>\n",
              "      <td>53.1000</td>\n",
              "      <td>C123</td>\n",
              "      <td>S</td>\n",
              "    </tr>\n",
              "    <tr>\n",
              "      <th>4</th>\n",
              "      <td>5</td>\n",
              "      <td>0</td>\n",
              "      <td>3</td>\n",
              "      <td>Allen, Mr. William Henry</td>\n",
              "      <td>male</td>\n",
              "      <td>35.0</td>\n",
              "      <td>0</td>\n",
              "      <td>0</td>\n",
              "      <td>373450</td>\n",
              "      <td>8.0500</td>\n",
              "      <td>NaN</td>\n",
              "      <td>S</td>\n",
              "    </tr>\n",
              "  </tbody>\n",
              "</table>\n",
              "</div>"
            ],
            "text/plain": [
              "   PassengerId  Survived  Pclass  \\\n",
              "0            1         0       3   \n",
              "1            2         1       1   \n",
              "2            3         1       3   \n",
              "3            4         1       1   \n",
              "4            5         0       3   \n",
              "\n",
              "                                                Name     Sex   Age  SibSp  \\\n",
              "0                            Braund, Mr. Owen Harris    male  22.0      1   \n",
              "1  Cumings, Mrs. John Bradley (Florence Briggs Th...  female  38.0      1   \n",
              "2                             Heikkinen, Miss. Laina  female  26.0      0   \n",
              "3       Futrelle, Mrs. Jacques Heath (Lily May Peel)  female  35.0      1   \n",
              "4                           Allen, Mr. William Henry    male  35.0      0   \n",
              "\n",
              "   Parch            Ticket     Fare Cabin Embarked  \n",
              "0      0         A/5 21171   7.2500   NaN        S  \n",
              "1      0          PC 17599  71.2833   C85        C  \n",
              "2      0  STON/O2. 3101282   7.9250   NaN        S  \n",
              "3      0            113803  53.1000  C123        S  \n",
              "4      0            373450   8.0500   NaN        S  "
            ]
          },
          "metadata": {
            "tags": []
          },
          "execution_count": 74
        }
      ]
    },
    {
      "cell_type": "code",
      "metadata": {
        "id": "7p_ZizNw9Lt_",
        "colab_type": "code",
        "outputId": "2315e219-7303-4e6e-d8a6-d25043664948",
        "colab": {
          "base_uri": "https://localhost:8080/",
          "height": 306
        }
      },
      "source": [
        "train.info()"
      ],
      "execution_count": 0,
      "outputs": [
        {
          "output_type": "stream",
          "text": [
            "<class 'pandas.core.frame.DataFrame'>\n",
            "RangeIndex: 891 entries, 0 to 890\n",
            "Data columns (total 12 columns):\n",
            "PassengerId    891 non-null int64\n",
            "Survived       891 non-null int64\n",
            "Pclass         891 non-null int64\n",
            "Name           891 non-null object\n",
            "Sex            891 non-null object\n",
            "Age            714 non-null float64\n",
            "SibSp          891 non-null int64\n",
            "Parch          891 non-null int64\n",
            "Ticket         891 non-null object\n",
            "Fare           891 non-null float64\n",
            "Cabin          204 non-null object\n",
            "Embarked       889 non-null object\n",
            "dtypes: float64(2), int64(5), object(5)\n",
            "memory usage: 83.6+ KB\n"
          ],
          "name": "stdout"
        }
      ]
    },
    {
      "cell_type": "code",
      "metadata": {
        "id": "hSVQRRQCAHN7",
        "colab_type": "code",
        "outputId": "dcf2c12c-fc9e-46ab-f3fc-7f4103461792",
        "colab": {
          "base_uri": "https://localhost:8080/",
          "height": 289
        }
      },
      "source": [
        "test.info()"
      ],
      "execution_count": 0,
      "outputs": [
        {
          "output_type": "stream",
          "text": [
            "<class 'pandas.core.frame.DataFrame'>\n",
            "RangeIndex: 418 entries, 0 to 417\n",
            "Data columns (total 11 columns):\n",
            "PassengerId    418 non-null int64\n",
            "Pclass         418 non-null int64\n",
            "Name           418 non-null object\n",
            "Sex            418 non-null object\n",
            "Age            332 non-null float64\n",
            "SibSp          418 non-null int64\n",
            "Parch          418 non-null int64\n",
            "Ticket         418 non-null object\n",
            "Fare           417 non-null float64\n",
            "Cabin          91 non-null object\n",
            "Embarked       418 non-null object\n",
            "dtypes: float64(2), int64(4), object(5)\n",
            "memory usage: 36.0+ KB\n"
          ],
          "name": "stdout"
        }
      ]
    },
    {
      "cell_type": "code",
      "metadata": {
        "id": "iwsdOmE8AILF",
        "colab_type": "code",
        "outputId": "f5d9b967-f54e-4124-9ae2-11b8907c8bcf",
        "colab": {
          "base_uri": "https://localhost:8080/",
          "height": 297
        }
      },
      "source": [
        "train.describe()"
      ],
      "execution_count": 0,
      "outputs": [
        {
          "output_type": "execute_result",
          "data": {
            "text/html": [
              "<div>\n",
              "<style scoped>\n",
              "    .dataframe tbody tr th:only-of-type {\n",
              "        vertical-align: middle;\n",
              "    }\n",
              "\n",
              "    .dataframe tbody tr th {\n",
              "        vertical-align: top;\n",
              "    }\n",
              "\n",
              "    .dataframe thead th {\n",
              "        text-align: right;\n",
              "    }\n",
              "</style>\n",
              "<table border=\"1\" class=\"dataframe\">\n",
              "  <thead>\n",
              "    <tr style=\"text-align: right;\">\n",
              "      <th></th>\n",
              "      <th>PassengerId</th>\n",
              "      <th>Survived</th>\n",
              "      <th>Pclass</th>\n",
              "      <th>Age</th>\n",
              "      <th>SibSp</th>\n",
              "      <th>Parch</th>\n",
              "      <th>Fare</th>\n",
              "    </tr>\n",
              "  </thead>\n",
              "  <tbody>\n",
              "    <tr>\n",
              "      <th>count</th>\n",
              "      <td>891.000000</td>\n",
              "      <td>891.000000</td>\n",
              "      <td>891.000000</td>\n",
              "      <td>714.000000</td>\n",
              "      <td>891.000000</td>\n",
              "      <td>891.000000</td>\n",
              "      <td>891.000000</td>\n",
              "    </tr>\n",
              "    <tr>\n",
              "      <th>mean</th>\n",
              "      <td>446.000000</td>\n",
              "      <td>0.383838</td>\n",
              "      <td>2.308642</td>\n",
              "      <td>29.699118</td>\n",
              "      <td>0.523008</td>\n",
              "      <td>0.381594</td>\n",
              "      <td>32.204208</td>\n",
              "    </tr>\n",
              "    <tr>\n",
              "      <th>std</th>\n",
              "      <td>257.353842</td>\n",
              "      <td>0.486592</td>\n",
              "      <td>0.836071</td>\n",
              "      <td>14.526497</td>\n",
              "      <td>1.102743</td>\n",
              "      <td>0.806057</td>\n",
              "      <td>49.693429</td>\n",
              "    </tr>\n",
              "    <tr>\n",
              "      <th>min</th>\n",
              "      <td>1.000000</td>\n",
              "      <td>0.000000</td>\n",
              "      <td>1.000000</td>\n",
              "      <td>0.420000</td>\n",
              "      <td>0.000000</td>\n",
              "      <td>0.000000</td>\n",
              "      <td>0.000000</td>\n",
              "    </tr>\n",
              "    <tr>\n",
              "      <th>25%</th>\n",
              "      <td>223.500000</td>\n",
              "      <td>0.000000</td>\n",
              "      <td>2.000000</td>\n",
              "      <td>20.125000</td>\n",
              "      <td>0.000000</td>\n",
              "      <td>0.000000</td>\n",
              "      <td>7.910400</td>\n",
              "    </tr>\n",
              "    <tr>\n",
              "      <th>50%</th>\n",
              "      <td>446.000000</td>\n",
              "      <td>0.000000</td>\n",
              "      <td>3.000000</td>\n",
              "      <td>28.000000</td>\n",
              "      <td>0.000000</td>\n",
              "      <td>0.000000</td>\n",
              "      <td>14.454200</td>\n",
              "    </tr>\n",
              "    <tr>\n",
              "      <th>75%</th>\n",
              "      <td>668.500000</td>\n",
              "      <td>1.000000</td>\n",
              "      <td>3.000000</td>\n",
              "      <td>38.000000</td>\n",
              "      <td>1.000000</td>\n",
              "      <td>0.000000</td>\n",
              "      <td>31.000000</td>\n",
              "    </tr>\n",
              "    <tr>\n",
              "      <th>max</th>\n",
              "      <td>891.000000</td>\n",
              "      <td>1.000000</td>\n",
              "      <td>3.000000</td>\n",
              "      <td>80.000000</td>\n",
              "      <td>8.000000</td>\n",
              "      <td>6.000000</td>\n",
              "      <td>512.329200</td>\n",
              "    </tr>\n",
              "  </tbody>\n",
              "</table>\n",
              "</div>"
            ],
            "text/plain": [
              "       PassengerId    Survived      Pclass         Age       SibSp  \\\n",
              "count   891.000000  891.000000  891.000000  714.000000  891.000000   \n",
              "mean    446.000000    0.383838    2.308642   29.699118    0.523008   \n",
              "std     257.353842    0.486592    0.836071   14.526497    1.102743   \n",
              "min       1.000000    0.000000    1.000000    0.420000    0.000000   \n",
              "25%     223.500000    0.000000    2.000000   20.125000    0.000000   \n",
              "50%     446.000000    0.000000    3.000000   28.000000    0.000000   \n",
              "75%     668.500000    1.000000    3.000000   38.000000    1.000000   \n",
              "max     891.000000    1.000000    3.000000   80.000000    8.000000   \n",
              "\n",
              "            Parch        Fare  \n",
              "count  891.000000  891.000000  \n",
              "mean     0.381594   32.204208  \n",
              "std      0.806057   49.693429  \n",
              "min      0.000000    0.000000  \n",
              "25%      0.000000    7.910400  \n",
              "50%      0.000000   14.454200  \n",
              "75%      0.000000   31.000000  \n",
              "max      6.000000  512.329200  "
            ]
          },
          "metadata": {
            "tags": []
          },
          "execution_count": 77
        }
      ]
    },
    {
      "cell_type": "code",
      "metadata": {
        "id": "cW_T9YGrAU7Q",
        "colab_type": "code",
        "outputId": "c39507e1-ecb4-4cbe-e29d-9fb0c0e0d197",
        "colab": {
          "base_uri": "https://localhost:8080/",
          "height": 238
        }
      },
      "source": [
        "train.isna().sum()"
      ],
      "execution_count": 0,
      "outputs": [
        {
          "output_type": "execute_result",
          "data": {
            "text/plain": [
              "PassengerId      0\n",
              "Survived         0\n",
              "Pclass           0\n",
              "Name             0\n",
              "Sex              0\n",
              "Age            177\n",
              "SibSp            0\n",
              "Parch            0\n",
              "Ticket           0\n",
              "Fare             0\n",
              "Cabin          687\n",
              "Embarked         2\n",
              "dtype: int64"
            ]
          },
          "metadata": {
            "tags": []
          },
          "execution_count": 78
        }
      ]
    },
    {
      "cell_type": "markdown",
      "metadata": {
        "id": "fk6A25zTikd_",
        "colab_type": "text"
      },
      "source": [
        "## Datos de Titanic\n",
        "\n",
        "Ahora usa los datos de supervivencia de Titanic encontrados en https://www.kaggle.com/c/titanic."
      ]
    },
    {
      "cell_type": "markdown",
      "metadata": {
        "id": "-ju4Yy_Di0sL",
        "colab_type": "text"
      },
      "source": [
        "### Ejercicios\n",
        "\n",
        "\n",
        "\n",
        "1.   Explora los datos de Titanic: identifica si hay datos perdidos y haz histogramas de los predictores (por lo menos 4) para darte una idea de los datos\n",
        "  * la gran mayoria de datos perdidos estan en la edad y en la cabina en la que iba el pasajero, solo dos personas no se ocnoce si embarcaron o no.\n",
        "2.   Haz una regresión logística múltiple de todos los predictores y la supervivencia de los pasajeros e interpreta los resultados. ¿Cuál de los predictores parece ser el más importante para determinar quién sobrevive o no, según una regresión logística múltiple?\n",
        "  * En conjunto parece ser que le dato que mas influencia tiene es el sexo de la persona, especificamente ser hombre tenia mas probabilidades de no sobrevivir, despues de eso es la edad de la persona.\n",
        "\n"
      ]
    },
    {
      "cell_type": "code",
      "metadata": {
        "id": "mezfQoMRKMTU",
        "colab_type": "code",
        "outputId": "2298c1e4-3d2f-49d6-dfef-666ca0c3860e",
        "colab": {
          "base_uri": "https://localhost:8080/",
          "height": 265
        }
      },
      "source": [
        "import matplotlib.pyplot as plt\n",
        "import numpy as np\n",
        "%matplotlib inline\n",
        "x = train['Pclass']\n",
        "plt.hist(x, bins=3)\n",
        "plt.xticks(x)\n",
        "plt.ylabel('Cantidad de personas por clase');"
      ],
      "execution_count": 0,
      "outputs": [
        {
          "output_type": "display_data",
          "data": {
            "image/png": "[encoded data removed]",
            "text/plain": [
              "<Figure size 432x288 with 1 Axes>"
            ]
          },
          "metadata": {
            "tags": []
          }
        }
      ]
    },
    {
      "cell_type": "code",
      "metadata": {
        "id": "t2okhUC5LDI9",
        "colab_type": "code",
        "outputId": "356867f9-2214-4db4-86b2-0403c8ab2b2e",
        "colab": {
          "base_uri": "https://localhost:8080/",
          "height": 265
        }
      },
      "source": [
        "x = train['Survived']\n",
        "plt.hist(x, bins=2)\n",
        "plt.xticks(x)\n",
        "plt.ylabel('Cantidad de personas que sobrevivieron');"
      ],
      "execution_count": 0,
      "outputs": [
        {
          "output_type": "display_data",
          "data": {
            "image/png": "[encoded data removed]",
            "text/plain": [
              "<Figure size 432x288 with 1 Axes>"
            ]
          },
          "metadata": {
            "tags": []
          }
        }
      ]
    },
    {
      "cell_type": "code",
      "metadata": {
        "id": "r5VnsRRFLqEs",
        "colab_type": "code",
        "outputId": "4ae04e8c-7268-4abf-8877-964944aea3f8",
        "colab": {
          "base_uri": "https://localhost:8080/",
          "height": 265
        }
      },
      "source": [
        "x = train['SibSp']\n",
        "plt.hist(x, bins=8)\n",
        "plt.xticks(x)\n",
        "plt.ylabel('Sibling & Spouse');"
      ],
      "execution_count": 0,
      "outputs": [
        {
          "output_type": "display_data",
          "data": {
            "image/png": "[encoded data removed]",
            "text/plain": [
              "<Figure size 432x288 with 1 Axes>"
            ]
          },
          "metadata": {
            "tags": []
          }
        }
      ]
    },
    {
      "cell_type": "code",
      "metadata": {
        "id": "umts1ZDpMc4u",
        "colab_type": "code",
        "outputId": "ca995ced-021f-4886-a379-a26be719011d",
        "colab": {
          "base_uri": "https://localhost:8080/",
          "height": 266
        }
      },
      "source": [
        "x = train['Parch']\n",
        "plt.hist(x, bins=6)\n",
        "plt.xticks(x)\n",
        "plt.ylabel('Parch');"
      ],
      "execution_count": 0,
      "outputs": [
        {
          "output_type": "display_data",
          "data": {
            "image/png": "[encoded data removed]",
            "text/plain": [
              "<Figure size 432x288 with 1 Axes>"
            ]
          },
          "metadata": {
            "tags": []
          }
        }
      ]
    },
    {
      "cell_type": "code",
      "metadata": {
        "id": "TBi_Qj49LpN9",
        "colab_type": "code",
        "outputId": "9ebaa7e1-fc15-4d3b-918a-95ed5b2cb0a9",
        "colab": {
          "base_uri": "https://localhost:8080/",
          "height": 265
        }
      },
      "source": [
        "x = train['Fare']\n",
        "plt.hist(x, bins=250)\n",
        "plt.xticks(x)\n",
        "plt.ylabel('Fare paid');"
      ],
      "execution_count": 0,
      "outputs": [
        {
          "output_type": "display_data",
          "data": {
            "image/png": "[encoded data removed]",
            "text/plain": [
              "<Figure size 432x288 with 1 Axes>"
            ]
          },
          "metadata": {
            "tags": []
          }
        }
      ]
    },
    {
      "cell_type": "code",
      "metadata": {
        "id": "3SGb-EskNMTQ",
        "colab_type": "code",
        "outputId": "57f1b269-56c2-4c67-e5ea-8f6b2cfc6fde",
        "colab": {
          "base_uri": "https://localhost:8080/",
          "height": 2720
        }
      },
      "source": [
        "Survived = train['Survived']\n",
        "Pclass = train['Pclass']\n",
        "Sex = train['Sex']\n",
        "SibSp = train['SibSp']\n",
        "Parch = train['Parch']\n",
        "Fare = train['Fare']\n",
        "\n",
        "est = smf.ols(formula=\"Survived ~ Pclass+Sex+Age+SibSp+Parch+Fare+Embarked+Cabin\", data=train).fit()\n",
        "print(est.summary().tables[1])"
      ],
      "execution_count": 0,
      "outputs": [
        {
          "output_type": "stream",
          "text": [
            "============================================================================================\n",
            "                               coef    std err          t      P>|t|      [0.025      0.975]\n",
            "--------------------------------------------------------------------------------------------\n",
            "Intercept                    0.8356      0.620      1.347      0.185      -0.414       2.086\n",
            "Sex[T.male]                 -0.4455      0.099     -4.508      0.000      -0.645      -0.246\n",
            "Embarked[T.Q]               -0.0352      0.274     -0.128      0.899      -0.588       0.517\n",
            "Embarked[T.S]                0.3741      0.421      0.889      0.379      -0.474       1.223\n",
            "Cabin[T.A14]             -3.864e-14   9.92e-14     -0.390      0.699   -2.39e-13    1.61e-13\n",
            "Cabin[T.A16]                 0.5305      0.554      0.957      0.344      -0.587       1.648\n",
            "Cabin[T.A19]             -1.213e-14   7.35e-14     -0.165      0.870    -1.6e-13    1.36e-13\n",
            "Cabin[T.A20]                 0.9470      0.539      1.758      0.086      -0.139       2.033\n",
            "Cabin[T.A23]                 1.1919      0.654      1.823      0.075      -0.126       2.510\n",
            "Cabin[T.A24]                -0.4604      0.646     -0.712      0.480      -1.763       0.842\n",
            "Cabin[T.A26]                 1.2574      0.489      2.569      0.014       0.271       2.244\n",
            "Cabin[T.A31]                 1.0710      0.481      2.225      0.031       0.101       2.041\n",
            "Cabin[T.A32]             -4.509e-14   9.94e-14     -0.454      0.652   -2.45e-13    1.55e-13\n",
            "Cabin[T.A34]                -0.3172      0.858     -0.370      0.713      -2.047       1.412\n",
            "Cabin[T.A36]                -0.2417      0.618     -0.391      0.698      -1.488       1.005\n",
            "Cabin[T.A5]                  0.4441      0.507      0.876      0.386      -0.577       1.465\n",
            "Cabin[T.A6]                  0.5383      0.640      0.842      0.405      -0.751       1.827\n",
            "Cabin[T.A7]                  0.2688      0.490      0.549      0.586      -0.718       1.255\n",
            "Cabin[T.B101]               -0.1364      0.798     -0.171      0.865      -1.745       1.472\n",
            "Cabin[T.B102]             4.225e-14   2.78e-13      0.152      0.880   -5.17e-13    6.02e-13\n",
            "Cabin[T.B18]                 0.2133      0.496      0.430      0.670      -0.787       1.214\n",
            "Cabin[T.B19]                -0.0504      0.639     -0.079      0.937      -1.339       1.238\n",
            "Cabin[T.B20]                 0.0420      0.649      0.065      0.949      -1.266       1.350\n",
            "Cabin[T.B22]                -0.3847      0.754     -0.510      0.612      -1.904       1.135\n",
            "Cabin[T.B28]              8.798e-14   1.49e-13      0.592      0.557   -2.12e-13    3.88e-13\n",
            "Cabin[T.B3]                 -0.3658      0.772     -0.474      0.638      -1.922       1.190\n",
            "Cabin[T.B30]                 0.0804      0.537      0.150      0.882      -1.002       1.162\n",
            "Cabin[T.B35]                 0.3372      0.430      0.783      0.438      -0.530       1.205\n",
            "Cabin[T.B37]                 0.2958      0.491      0.602      0.550      -0.694       1.286\n",
            "Cabin[T.B38]                -0.2310      0.631     -0.366      0.716      -1.502       1.040\n",
            "Cabin[T.B39]                -0.0899      0.711     -0.126      0.900      -1.522       1.342\n",
            "Cabin[T.B4]                  0.6825      0.494      1.382      0.174      -0.313       1.678\n",
            "Cabin[T.B41]                 0.8047      0.654      1.231      0.225      -0.513       2.123\n",
            "Cabin[T.B42]                -0.0050      0.641     -0.008      0.994      -1.296       1.286\n",
            "Cabin[T.B49]                 0.3104      0.484      0.641      0.525      -0.665       1.286\n",
            "Cabin[T.B5]                 -0.5121      0.725     -0.706      0.484      -1.973       0.949\n",
            "Cabin[T.B50]                 0.9736      0.481      2.023      0.049       0.004       1.944\n",
            "Cabin[T.B51 B53 B55]        -0.3382      0.609     -0.555      0.582      -1.566       0.890\n",
            "Cabin[T.B57 B59 B63 B66]    -0.9736      0.984     -0.989      0.328      -2.957       1.010\n",
            "Cabin[T.B58 B60]            -0.4289      0.514     -0.835      0.408      -1.465       0.607\n",
            "Cabin[T.B69]                -0.1475      0.798     -0.185      0.854      -1.756       1.461\n",
            "Cabin[T.B71]                -0.6371      0.688     -0.926      0.360      -2.024       0.750\n",
            "Cabin[T.B73]                -0.0206      0.671     -0.031      0.976      -1.373       1.332\n",
            "Cabin[T.B77]                 0.0145      0.621      0.023      0.981      -1.238       1.267\n",
            "Cabin[T.B78]              5.535e-14   1.17e-13      0.471      0.640   -1.81e-13    2.92e-13\n",
            "Cabin[T.B79]                -0.1764      0.674     -0.262      0.795      -1.535       1.183\n",
            "Cabin[T.B80]                 0.5722      0.522      1.097      0.279      -0.479       1.623\n",
            "Cabin[T.B82 B84]             0.0302      0.486      0.062      0.951      -0.949       1.009\n",
            "Cabin[T.B86]                -0.2408      0.487     -0.495      0.623      -1.221       0.740\n",
            "Cabin[T.B94]                -0.2293      0.618     -0.371      0.712      -1.475       1.017\n",
            "Cabin[T.B96 B98]            -0.5544      0.920     -0.602      0.550      -2.410       1.301\n",
            "Cabin[T.C101]                0.0166      0.806      0.021      0.984      -1.608       1.641\n",
            "Cabin[T.C103]                0.4836      0.636      0.761      0.451      -0.798       1.765\n",
            "Cabin[T.C104]                0.8459      0.634      1.334      0.189      -0.432       2.124\n",
            "Cabin[T.C106]             -1.06e-13   2.23e-13     -0.476      0.637   -5.55e-13    3.43e-13\n",
            "Cabin[T.C110]               -0.2669      0.645     -0.414      0.681      -1.567       1.033\n",
            "Cabin[T.C111]               -0.0444      0.482     -0.092      0.927      -1.016       0.927\n",
            "Cabin[T.C118]               -0.1877      0.542     -0.346      0.731      -1.281       0.905\n",
            "Cabin[T.C123]               -0.3009      0.642     -0.468      0.642      -1.595       0.994\n",
            "Cabin[T.C124]               -0.2294      0.632     -0.363      0.718      -1.503       1.044\n",
            "Cabin[T.C125]               -0.0417      0.671     -0.062      0.951      -1.394       1.311\n",
            "Cabin[T.C126]                0.5723      0.685      0.835      0.408      -0.809       1.953\n",
            "Cabin[T.C128]            -1.669e-14   3.52e-14     -0.474      0.638   -8.77e-14    5.43e-14\n",
            "Cabin[T.C148]                0.9009      0.483      1.865      0.069      -0.073       1.875\n",
            "Cabin[T.C2]                 -0.4623      0.653     -0.709      0.482      -1.777       0.853\n",
            "Cabin[T.C22 C26]            -1.5545      0.950     -1.636      0.109      -3.470       0.361\n",
            "Cabin[T.C23 C25 C27]        -1.6652      1.292     -1.289      0.204      -4.270       0.939\n",
            "Cabin[T.C30]                -0.1172      0.635     -0.185      0.854      -1.397       1.162\n",
            "Cabin[T.C32]                 0.3271      0.505      0.648      0.520      -0.690       1.345\n",
            "Cabin[T.C45]                 0.1330      0.548      0.243      0.809      -0.971       1.237\n",
            "Cabin[T.C46]                -0.6394      0.698     -0.916      0.365      -2.046       0.767\n",
            "Cabin[T.C47]              2.147e-16   1.76e-16      1.216      0.230   -1.41e-16     5.7e-16\n",
            "Cabin[T.C49]                -0.2459      0.497     -0.495      0.623      -1.248       0.756\n",
            "Cabin[T.C50]                 0.4736      0.544      0.871      0.389      -0.623       1.570\n",
            "Cabin[T.C52]                 0.5596      0.635      0.881      0.383      -0.720       1.839\n",
            "Cabin[T.C54]                 0.3042      0.494      0.615      0.542      -0.692       1.301\n",
            "Cabin[T.C62 C64]            -0.2864      0.575     -0.498      0.621      -1.445       0.873\n",
            "Cabin[T.C65]                -0.2874      0.487     -0.590      0.558      -1.270       0.695\n",
            "Cabin[T.C68]                -0.1905      0.606     -0.314      0.755      -1.412       1.031\n",
            "Cabin[T.C7]                 -0.6278      0.848     -0.740      0.463      -2.337       1.082\n",
            "Cabin[T.C70]                 0.1479      0.693      0.214      0.832      -1.248       1.544\n",
            "Cabin[T.C78]                -0.0352      0.274     -0.128      0.899      -0.588       0.517\n",
            "Cabin[T.C82]                -0.9684      0.677     -1.430      0.160      -2.334       0.397\n",
            "Cabin[T.C83]                -0.3239      0.656     -0.494      0.624      -1.645       0.997\n",
            "Cabin[T.C85]                 0.3319      0.546      0.607      0.547      -0.769       1.433\n",
            "Cabin[T.C86]                -0.1585      0.538     -0.295      0.770      -1.242       0.925\n",
            "Cabin[T.C87]                -0.0216      0.636     -0.034      0.973      -1.304       1.261\n",
            "Cabin[T.C90]                 0.3843      0.492      0.781      0.439      -0.608       1.376\n",
            "Cabin[T.C91]                -0.8441      0.738     -1.144      0.259      -2.331       0.643\n",
            "Cabin[T.C92]                 0.8705      0.537      1.622      0.112      -0.211       1.952\n",
            "Cabin[T.C93]                 0.1175      0.659      0.178      0.859      -1.212       1.447\n",
            "Cabin[T.C95]               2.61e-15   1.17e-14      0.224      0.824   -2.09e-14    2.61e-14\n",
            "Cabin[T.C99]                -0.0593      0.699     -0.085      0.933      -1.468       1.349\n",
            "Cabin[T.D]                   0.2978      0.286      1.041      0.304      -0.279       0.875\n",
            "Cabin[T.D10 D12]             0.5598      0.547      1.024      0.311      -0.542       1.661\n",
            "Cabin[T.D11]                 0.1020      0.700      0.146      0.885      -1.308       1.512\n",
            "Cabin[T.D15]                 0.4191      0.492      0.852      0.399      -0.572       1.411\n",
            "Cabin[T.D17]                 0.3681      0.584      0.630      0.532      -0.809       1.545\n",
            "Cabin[T.D19]                 0.4971      0.685      0.725      0.472      -0.884       1.879\n",
            "Cabin[T.D20]                 0.5000      0.497      1.005      0.320      -0.502       1.502\n",
            "Cabin[T.D21]             -1.437e-15   2.37e-15     -0.607      0.547   -6.21e-15    3.33e-15\n",
            "Cabin[T.D26]                -0.6689      0.656     -1.019      0.314      -1.992       0.654\n",
            "Cabin[T.D28]                -0.2891      0.705     -0.410      0.684      -1.709       1.131\n",
            "Cabin[T.D30]                -0.7875      0.696     -1.132      0.264      -2.190       0.615\n",
            "Cabin[T.D33]                 0.6710      0.485      1.384      0.173      -0.306       1.648\n",
            "Cabin[T.D35]                 0.0495      0.750      0.066      0.948      -1.462       1.561\n",
            "Cabin[T.D36]                 0.0964      0.490      0.197      0.845      -0.891       1.084\n",
            "Cabin[T.D37]                 0.5934      0.559      1.062      0.294      -0.532       1.719\n",
            "Cabin[T.D45]             -6.729e-15   3.64e-14     -0.185      0.854   -8.01e-14    6.66e-14\n",
            "Cabin[T.D46]                -0.2241      0.635     -0.353      0.726      -1.504       1.055\n",
            "Cabin[T.D47]                -0.4457      0.829     -0.538      0.593      -2.116       1.225\n",
            "Cabin[T.D48]                -0.3527      0.659     -0.535      0.595      -1.681       0.975\n",
            "Cabin[T.D49]                 0.8020      0.485      1.654      0.105      -0.175       1.779\n",
            "Cabin[T.D50]                -0.0476      0.639     -0.075      0.941      -1.335       1.240\n",
            "Cabin[T.D56]                 0.7080      0.414      1.711      0.094      -0.126       1.542\n",
            "Cabin[T.D6]                 -0.4363      0.636     -0.686      0.497      -1.718       0.846\n",
            "Cabin[T.D7]                  0.2498      0.705      0.354      0.725      -1.171       1.671\n",
            "Cabin[T.D9]                 -0.0945      0.666     -0.142      0.888      -1.436       1.247\n",
            "Cabin[T.E10]                 0.7374      0.359      2.051      0.046       0.013       1.462\n",
            "Cabin[T.E101]                0.2131      0.342      0.623      0.536      -0.476       0.902\n",
            "Cabin[T.E12]                 0.8060      0.631      1.277      0.208      -0.466       2.078\n",
            "Cabin[T.E121]                0.0884      0.262      0.337      0.737      -0.440       0.616\n",
            "Cabin[T.E17]                 0.8429      0.632      1.335      0.189      -0.430       2.116\n",
            "Cabin[T.E24]                 0.6896      0.584      1.182      0.244      -0.487       1.866\n",
            "Cabin[T.E25]                 0.6587      0.584      1.128      0.266      -0.519       1.836\n",
            "Cabin[T.E31]                -0.4741      0.689     -0.688      0.495      -1.863       0.914\n",
            "Cabin[T.E33]                -0.2523      0.703     -0.359      0.722      -1.670       1.165\n",
            "Cabin[T.E34]                -0.0188      0.658     -0.029      0.977      -1.345       1.307\n",
            "Cabin[T.E36]                 0.4406      0.491      0.898      0.374      -0.549       1.430\n",
            "Cabin[T.E38]                 0.0154      0.638      0.024      0.981      -1.271       1.302\n",
            "Cabin[T.E40]                 0.3914      0.506      0.774      0.443      -0.628       1.411\n",
            "Cabin[T.E44]                -0.2028      0.643     -0.316      0.754      -1.498       1.092\n",
            "Cabin[T.E46]                -0.1804      0.646     -0.279      0.782      -1.483       1.122\n",
            "Cabin[T.E49]                 0.0911      0.666      0.137      0.892      -1.251       1.433\n",
            "Cabin[T.E50]                 0.6550      0.539      1.215      0.231      -0.431       1.741\n",
            "Cabin[T.E58]                -0.2040      0.630     -0.324      0.748      -1.475       1.067\n",
            "Cabin[T.E63]                -0.2348      0.637     -0.368      0.714      -1.519       1.050\n",
            "Cabin[T.E67]                -0.4718      0.755     -0.625      0.535      -1.993       1.049\n",
            "Cabin[T.E68]                -0.5850      0.838     -0.698      0.489      -2.273       1.103\n",
            "Cabin[T.E77]                -0.4483      0.432     -1.039      0.305      -1.318       0.422\n",
            "Cabin[T.E8]                  0.1252      0.644      0.194      0.847      -1.173       1.424\n",
            "Cabin[T.F E69]            4.194e-14   3.77e-14      1.114      0.271    -3.4e-14    1.18e-13\n",
            "Cabin[T.F G63]              -0.1385      0.369     -0.376      0.709      -0.882       0.605\n",
            "Cabin[T.F G73]              -0.3849      0.291     -1.322      0.193      -0.971       0.202\n",
            "Cabin[T.F2]                 -0.3198      0.513     -0.623      0.537      -1.355       0.715\n",
            "Cabin[T.F33]                 0.2049      0.314      0.651      0.518      -0.429       0.839\n",
            "Cabin[T.F38]              -1.96e-14    3.8e-14     -0.515      0.609   -9.63e-14     5.7e-14\n",
            "Cabin[T.F4]                 -0.5356      0.724     -0.740      0.463      -1.995       0.924\n",
            "Cabin[T.G6]                 -0.8013      0.326     -2.461      0.018      -1.458      -0.145\n",
            "Cabin[T.T]                  -0.2523      0.636     -0.397      0.693      -1.533       1.029\n",
            "Pclass                      -0.0422      0.313     -0.135      0.893      -0.673       0.588\n",
            "Age                         -0.0123      0.005     -2.690      0.010      -0.022      -0.003\n",
            "SibSp                        0.1731      0.243      0.714      0.479      -0.316       0.662\n",
            "Parch                        0.2248      0.247      0.911      0.367      -0.272       0.722\n",
            "Fare                         0.0024      0.001      1.764      0.085      -0.000       0.005\n",
            "============================================================================================\n"
          ],
          "name": "stdout"
        }
      ]
    },
    {
      "cell_type": "code",
      "metadata": {
        "id": "lY_q8tHcNNLA",
        "colab_type": "code",
        "colab": {}
      },
      "source": [
        ""
      ],
      "execution_count": 0,
      "outputs": []
    }
  ]
}