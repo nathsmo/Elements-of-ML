{
  "nbformat": 4,
  "nbformat_minor": 0,
  "metadata": {
    "colab": {
      "name": "Laboratorio 5 - EoML Nathalia Morales.ipynb",
      "version": "0.3.2",
      "provenance": [],
      "collapsed_sections": [],
      "include_colab_link": true
    },
    "kernelspec": {
      "name": "python3",
      "display_name": "Python 3"
    },
    "accelerator": "GPU"
  },
  "cells": [
    {
      "cell_type": "markdown",
      "metadata": {
        "id": "view-in-github",
        "colab_type": "text"
      },
      "source": [
        "<a href=\"https://colab.research.google.com/github/nathsmo/Elements-of-ML/blob/master/Laboratorio_5_EoML_Nathalia_Morales.ipynb\" target=\"_parent\"><img src=\"https://colab.research.google.com/assets/colab-badge.svg\" alt=\"Open In Colab\"/></a>"
      ]
    },
    {
      "cell_type": "markdown",
      "metadata": {
        "id": "Ogh-5HfiUKBJ",
        "colab_type": "text"
      },
      "source": [
        "# Laboratorio 5\n",
        "\n",
        "En este laboratorio aprenderemos a aplicar validación cruzada de k-folios."
      ]
    },
    {
      "cell_type": "code",
      "metadata": {
        "id": "sqj79xiaUPOV",
        "colab_type": "code",
        "outputId": "f1f95fed-540a-4a5f-b3bb-8eb1ae656cf2",
        "colab": {
          "base_uri": "https://localhost:8080/",
          "height": 34
        }
      },
      "source": [
        "import numpy as np\n",
        "import pandas as pd\n",
        "\n",
        "import matplotlib\n",
        "import matplotlib.pyplot as plt\n",
        "\n",
        "import seaborn as sns\n",
        "\n",
        "import statsmodels\n",
        "import statsmodels.formula.api as smf\n",
        "\n",
        "from sklearn.model_selection import KFold\n",
        "from sklearn.linear_model import LinearRegression\n",
        "\n",
        "print(\"Todos los paquetes han sido importados.\")"
      ],
      "execution_count": 0,
      "outputs": [
        {
          "output_type": "stream",
          "text": [
            "Todos los paquetes han sido importados.\n"
          ],
          "name": "stdout"
        }
      ]
    },
    {
      "cell_type": "markdown",
      "metadata": {
        "id": "YEj6N0DeVm9H",
        "colab_type": "text"
      },
      "source": [
        "## Validación cruzada\n",
        "\n",
        "Es un procedimiento que evalúa las habilidades predictivas de un modelo en una muestra limitada. El procedimiento general es\n",
        "\n",
        "1.   Reordenar la muestra aleatoriamente\n",
        "2.   Separar el dataset en k grupos\n",
        "3.   Tomar k-1 grupos como datos de entrenamiento y el otro como grupo de validación\n",
        "4.   Entrenar un modelo sobre uno de los grupos de entrenamiento\n",
        "5.   Evaluar el modelo sobre el grupo restante correspondiente, el grupo de validación\n",
        "6.   Guardar alguna medida de habilidad del modelo y descartar el modelo\n",
        "7.   Repetir 4 a 6 tomando un nuevo split\n",
        "\n",
        "Cualquier preparación de los datos debe aplicarse entre los pasos 2 y 3, no antes. De lo contrario, se estará sobreestimando las habilidades de los modelos (como descrito en la sección 7.10.2 del libro \"The elements of machine learning\")\n",
        "\n"
      ]
    },
    {
      "cell_type": "markdown",
      "metadata": {
        "id": "acKXMedFcPYx",
        "colab_type": "text"
      },
      "source": [
        "### Cómo separar un grupo de datos\n",
        "\n",
        "Imagina que tenemos una muestra de 6 observaciones"
      ]
    },
    {
      "cell_type": "code",
      "metadata": {
        "id": "ZT0BWlY-cgxa",
        "colab_type": "code",
        "outputId": "fb464a2c-20ed-47c9-fc4e-278bdbdc491a",
        "colab": {
          "base_uri": "https://localhost:8080/",
          "height": 119
        }
      },
      "source": [
        "data = np.array([1,2,3,4,5,6])\n",
        "kfold = KFold(3,True,1) #Recuerda que puedes revisar la documentación de nuevas funciones usando Tab luego del primer paréntesis\n",
        "splitdata = kfold.split(data) # Esta función genera listas de índices separadas como indicado\n",
        "for train, test in splitdata:\n",
        "  # imprimo en la línea 'split' los índices train y test que generó kfold.split\n",
        "  print('split %s, %s\\ntrain: %s, test: %s' % (train,test,data[train], data[test]))"
      ],
      "execution_count": 0,
      "outputs": [
        {
          "output_type": "stream",
          "text": [
            "split [0 3 4 5], [1 2]\n",
            "train: [1 4 5 6], test: [2 3]\n",
            "split [1 2 3 5], [0 4]\n",
            "train: [2 3 4 6], test: [1 5]\n",
            "split [0 1 2 4], [3 5]\n",
            "train: [1 2 3 5], test: [4 6]\n"
          ],
          "name": "stdout"
        }
      ]
    },
    {
      "cell_type": "markdown",
      "metadata": {
        "id": "KrMe1pHyeYoH",
        "colab_type": "text"
      },
      "source": [
        "kfold.split separó los datos como esperado. Cada una de las observaciones aparece k-1 veces como parte de un grupo de entrenamiento y 1 vez como parte del grupo de validación. Para aplicar esto a observaciones con un target, simplemente lo colocamos también en el argumento de kfold.split:"
      ]
    },
    {
      "cell_type": "code",
      "metadata": {
        "id": "uwThoOpFetH_",
        "colab_type": "code",
        "outputId": "f53559f9-fb91-4255-d719-1c23524d3d69",
        "colab": {
          "base_uri": "https://localhost:8080/",
          "height": 170
        }
      },
      "source": [
        "data = np.array(([1,2,3,4,5,6],[10,20,30,40,50,60]))\n",
        "kfold = KFold(3,True,1)\n",
        "splitdata = kfold.split(X = data[0], y = data[1])\n",
        "for train, test in splitdata:\n",
        "  print('split %s, %s\\ntrain x: %s, test x: %s' % (train,test,data[0][train], data[0][test]))\n",
        "  print('train y: %s, test y: %s' % (data[1][train], data[1][test]))"
      ],
      "execution_count": 0,
      "outputs": [
        {
          "output_type": "stream",
          "text": [
            "split [0 3 4 5], [1 2]\n",
            "train x: [1 4 5 6], test x: [2 3]\n",
            "train y: [10 40 50 60], test y: [20 30]\n",
            "split [1 2 3 5], [0 4]\n",
            "train x: [2 3 4 6], test x: [1 5]\n",
            "train y: [20 30 40 60], test y: [10 50]\n",
            "split [0 1 2 4], [3 5]\n",
            "train x: [1 2 3 5], test x: [4 6]\n",
            "train y: [10 20 30 50], test y: [40 60]\n"
          ],
          "name": "stdout"
        }
      ]
    },
    {
      "cell_type": "markdown",
      "metadata": {
        "id": "1Rd7XC4ohbS5",
        "colab_type": "text"
      },
      "source": [
        "### Aplicación completa del procedimiento CV\n",
        "Ahora, para cada split entremos algún modelo y evaluamos en su grupo respectivo. Usaré una regresión logística (no muy astuto, eh?)"
      ]
    },
    {
      "cell_type": "code",
      "metadata": {
        "id": "2PMjX5F9iC4e",
        "colab_type": "code",
        "outputId": "b68e870a-b8df-4c5a-eb6e-f7ed11d4e037",
        "colab": {
          "base_uri": "https://localhost:8080/",
          "height": 187
        }
      },
      "source": [
        "data = np.array(([1,2,3,4,5,6],[0.1,0.2,0.3,0.4,0.5,0.6]))\n",
        "# Pasos 1 y 2 ocurren en la siguiente línea\n",
        "kfold = KFold(3,True,1)\n",
        "# Paso 3 ocurre al usar split\n",
        "splitdata = kfold.split(X = data[0], y = data[1])\n",
        "RMSE_i = [] # Aquí es donde guardaré mi medida de varianza para cada modelo\n",
        "for train, test in splitdata:\n",
        "  # 4. Ajustar una regresión logística en un grupo de entrenamiento\n",
        "  model = smf.Logit(data[1][train], data[0][train]).fit()\n",
        "  # 5. Evaluar en el grupo de entrenamiento\n",
        "  y_hat = model.predict(data[0][test])\n",
        "  # 6. Guardar una medida de habilidad del modelo\n",
        "  RMSE_i.append((sum((y_hat - data[1][test])**2)/len(y_hat))**(1/2))\n",
        "  # Al repetir el loop, descartamos el modelo y repetimos los pasos para otro split\n",
        "  \n",
        "RMSE = np.mean(RMSE_i)\n",
        "print(RMSE)"
      ],
      "execution_count": 0,
      "outputs": [
        {
          "output_type": "stream",
          "text": [
            "Optimization terminated successfully.\n",
            "         Current function value: 0.692643\n",
            "         Iterations 3\n",
            "Optimization terminated successfully.\n",
            "         Current function value: 0.678234\n",
            "         Iterations 4\n",
            "Optimization terminated successfully.\n",
            "         Current function value: 0.627815\n",
            "         Iterations 4\n",
            "0.2562016989481721\n"
          ],
          "name": "stdout"
        }
      ]
    },
    {
      "cell_type": "markdown",
      "metadata": {
        "id": "tcKfG6Nnh9Xd",
        "colab_type": "text"
      },
      "source": [
        "### Ejercicio\n",
        "\n",
        "Haz el mismo procedimiento que hicimos con la regresión logística, solo que ahora con una regresión lineal. Compara los RMSE"
      ]
    },
    {
      "cell_type": "code",
      "metadata": {
        "id": "m7tFWKawvpOE",
        "colab_type": "code",
        "outputId": "ca094ca8-6b3d-4399-801b-1a85b10b9a04",
        "colab": {
          "base_uri": "https://localhost:8080/",
          "height": 34
        }
      },
      "source": [
        "lm = LinearRegression()\n",
        "\n",
        "data = np.array(([1,2,3,4,5,6],[0.1,0.2,0.3,0.4,0.5,0.6]))\n",
        "# Pasos 1 y 2 ocurren en la siguiente línea\n",
        "kfold = KFold(3,True,1)\n",
        "# Paso 3 ocurre al usar split\n",
        "splitdata = kfold.split(X = data[0], y = data[1])\n",
        "RMSE_i = [] # Aquí es donde guardaré mi medida de varianza para cada modelo\n",
        "i = 0\n",
        "\n",
        "for train, test in splitdata:\n",
        "  \n",
        "  X_train = data[0][train]\n",
        "  X_train = X_train.reshape(-1,1)\n",
        "  y_train = data[1][train]\n",
        "  y_train = y_train.reshape(-1,1)\n",
        "\n",
        "  model = lm.fit(X =X_train, y=y_train)\n",
        "  X_test = data[0][test]\n",
        "  X_test = X_test.reshape(-1,1)\n",
        "  y_hat = model.predict(X_test)\n",
        "  y_test = data[1][test]\n",
        "  y_test = y_test.reshape(-1,1)\n",
        "  RMSE_i.append((sum((y_hat - y_test)**2)/len(y_hat))**(1/2))\n",
        "\n",
        "RMSE = np.mean(RMSE_i)\n",
        "print('RMSE:',RMSE)"
      ],
      "execution_count": 0,
      "outputs": [
        {
          "output_type": "stream",
          "text": [
            "RMSE: 5.887846720064156e-17\n"
          ],
          "name": "stdout"
        }
      ]
    },
    {
      "cell_type": "markdown",
      "metadata": {
        "id": "GYYGOXmOusZT",
        "colab_type": "text"
      },
      "source": [
        "## Ejercicio de aplicación\n",
        "\n",
        "Utiliza los datos de Iris (los del laboratorio 2) para investigar la dependencia de la varianza () con el valor k al hacer el procedimiento de validación cruzada. Como resultado, debes presentar una gráfica de RMSE contra k de por lo menos 10 diferentes valores de k.\n"
      ]
    },
    {
      "cell_type": "code",
      "metadata": {
        "id": "VKIWLuB-etuQ",
        "colab_type": "code",
        "colab": {}
      },
      "source": [
        "from sklearn.neighbors import KNeighborsClassifier\n",
        "from sklearn.model_selection import KFold\n",
        "from sklearn.datasets import load_iris\n",
        "from sklearn.model_selection import train_test_split\n",
        "\n",
        "knn = KNeighborsClassifier(n_neighbors=3)\n",
        "iris = load_iris()\n",
        "data = iris.data\n",
        "X_train, X_test, y_train, y_test = train_test_split(iris.data, iris.target, test_size=0.4, random_state=0)\n",
        "model = knn.fit(X_train, y_train)\n",
        "pred = knn.predict(X_test)"
      ],
      "execution_count": 0,
      "outputs": []
    },
    {
      "cell_type": "code",
      "metadata": {
        "id": "f1ObBCet7eDI",
        "colab_type": "code",
        "outputId": "67c9280e-877d-48e4-bed7-67ba9020c536",
        "colab": {
          "base_uri": "https://localhost:8080/",
          "height": 34
        }
      },
      "source": [
        "model.score(X_test, y_test) "
      ],
      "execution_count": 0,
      "outputs": [
        {
          "output_type": "execute_result",
          "data": {
            "text/plain": [
              "0.9333333333333333"
            ]
          },
          "metadata": {
            "tags": []
          },
          "execution_count": 7
        }
      ]
    },
    {
      "cell_type": "code",
      "metadata": {
        "id": "rWzgGcp5zIiO",
        "colab_type": "code",
        "outputId": "94c4deb4-9c64-4068-acb9-4574e3b6fa50",
        "colab": {
          "base_uri": "https://localhost:8080/",
          "height": 204
        }
      },
      "source": [
        "knn = KNeighborsClassifier(n_neighbors=5)\n",
        "All_RMSE = []\n",
        "for i in range(2,24,2):\n",
        "  X_train, X_test, y_train, y_test = train_test_split(iris.data, iris.target, test_size=0.2, random_state=36)\n",
        "  kf = KFold(n_splits=i, shuffle=True)\n",
        "  splitdata = kf.split(iris.data, iris.target)\n",
        "  RMSE_i = []\n",
        "  i = 0\n",
        "\n",
        "  for train, test in splitdata:\n",
        "    X_train = data[train]\n",
        "    y_train = iris.target[train]\n",
        "\n",
        "    model = knn.fit(X_train, y_train)\n",
        "    X_test = data[test]\n",
        "    y_hat = model.predict(X_test)\n",
        "    y_test = iris.target[test]\n",
        "    RMSE_i.append((sum((y_hat - y_test)**2)/len(y_hat))**(1/2))\n",
        "\n",
        "  RMSE = np.mean(RMSE_i)\n",
        "  print('RMSE:',RMSE)\n",
        "  All_RMSE.append(RMSE)\n"
      ],
      "execution_count": 0,
      "outputs": [
        {
          "output_type": "stream",
          "text": [
            "RMSE: 0.2\n",
            "RMSE: 0.20979736298894613\n",
            "RMSE: 0.12761423749153966\n",
            "RMSE: 0.12769756686812733\n",
            "RMSE: 0.15491933384829665\n",
            "RMSE: 0.08024570722409101\n",
            "RMSE: 0.10191192868574174\n",
            "RMSE: 0.0893817517614664\n",
            "RMSE: 0.09820927516479827\n",
            "RMSE: 0.09327056413150914\n",
            "RMSE: 0.07583708649329685\n"
          ],
          "name": "stdout"
        }
      ]
    },
    {
      "cell_type": "code",
      "metadata": {
        "id": "uJawCBj-29H1",
        "colab_type": "code",
        "outputId": "31e792d8-7511-43c5-b376-f35f9b0b376a",
        "colab": {
          "base_uri": "https://localhost:8080/",
          "height": 364
        }
      },
      "source": [
        "import matplotlib.pyplot as plt\n",
        "numbers = range(2,24,2)\n",
        "print(numbers)\n",
        "plt.plot(numbers, All_RMSE, 'blue')\n",
        "plt.axis()\n",
        "plt.show()\n"
      ],
      "execution_count": 0,
      "outputs": [
        {
          "output_type": "stream",
          "text": [
            "range(2, 24, 2)\n"
          ],
          "name": "stdout"
        },
        {
          "output_type": "display_data",
          "data": {
            "image/png": "[encoded data removed]",
            "text/plain": [
              "<Figure size 576x396 with 1 Axes>"
            ]
          },
          "metadata": {
            "tags": []
          }
        }
      ]
    }
  ]
}